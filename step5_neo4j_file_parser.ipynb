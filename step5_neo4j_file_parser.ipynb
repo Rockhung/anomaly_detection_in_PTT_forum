{
  "nbformat": 4,
  "nbformat_minor": 0,
  "metadata": {
    "colab": {
      "name": "step4_neo4j_file_parser.ipynb",
      "provenance": [],
      "collapsed_sections": []
    },
    "kernelspec": {
      "name": "python3",
      "display_name": "Python 3"
    }
  },
  "cells": [
    {
      "cell_type": "code",
      "metadata": {
        "id": "JhMR3wCbYZ1W",
        "colab_type": "code",
        "outputId": "8a89296d-d2b1-4c46-baf5-376191e14c74",
        "colab": {
          "base_uri": "https://localhost:8080/",
          "height": 34
        }
      },
      "source": [
        "import pandas as pd\n",
        "import os\n",
        "import gc\n",
        "from datetime import datetime\n",
        "\n",
        "# 讀取 Google drive\n",
        "from google.colab import drive\n",
        "drive.mount('/content/drive')"
      ],
      "execution_count": 12,
      "outputs": [
        {
          "output_type": "stream",
          "text": [
            "Drive already mounted at /content/drive; to attempt to forcibly remount, call drive.mount(\"/content/drive\", force_remount=True).\n"
          ],
          "name": "stdout"
        }
      ]
    },
    {
      "cell_type": "code",
      "metadata": {
        "id": "PSAFjSP1aXT8",
        "colab_type": "code",
        "colab": {}
      },
      "source": [
        "exec_dt = datetime.strftime(datetime.now(), '%Y%m%d_%H%M%S')\n",
        "path = r'/content/drive/My Drive/side_project/20191109_ptt_analysis//'\n",
        "pg_path = path + 'neo4j_community_pagerank_1204/'"
      ],
      "execution_count": 0,
      "outputs": []
    },
    {
      "cell_type": "code",
      "metadata": {
        "id": "8_u_pauQbNfO",
        "colab_type": "code",
        "outputId": "b31fe650-da0d-4049-8a09-bb5daab094a6",
        "colab": {
          "base_uri": "https://localhost:8080/",
          "height": 136
        }
      },
      "source": [
        "gp_df = pd.DataFrame()\n",
        "\n",
        "for x in os.listdir(pg_path):\n",
        "    #select files\n",
        "    if x.endswith('csv') and x.startswith('neo4'):\n",
        "        print(x)\n",
        "        temp_df = pd.read_csv(pg_path + x)\n",
        "        temp_lst = []\n",
        "        #neo4j file parser\n",
        "        for x in temp_df.itertuples():\n",
        "            t1 = [y.split(':') for y in x.n[1:-1].split(',')]\n",
        "            row = pd.DataFrame([[x[1] for x in t1]], columns=[x[0] for x in t1])\n",
        "            temp_lst.append(row)\n",
        "\n",
        "        df = pd.concat(temp_lst, sort=True)\n",
        "        gp_df = gp_df.append(df)"
      ],
      "execution_count": 14,
      "outputs": [
        {
          "output_type": "stream",
          "text": [
            "neo4j_community_344.csv\n",
            "neo4j_community_326.csv\n",
            "neo4j_community_346.csv\n",
            "neo4j_community_329.csv\n",
            "neo4j_community_354_csv.csv\n",
            "neo4j_community_6142.csv\n",
            "neo4j_community_328.csv\n"
          ],
          "name": "stdout"
        }
      ]
    },
    {
      "cell_type": "code",
      "metadata": {
        "id": "xF9rvp7Ddiej",
        "colab_type": "code",
        "outputId": "ad34a3b4-ce26-4db4-edb5-31692adac07f",
        "colab": {
          "base_uri": "https://localhost:8080/",
          "height": 204
        }
      },
      "source": [
        "gp_df.head()"
      ],
      "execution_count": 15,
      "outputs": [
        {
          "output_type": "execute_result",
          "data": {
            "text/html": [
              "<div>\n",
              "<style scoped>\n",
              "    .dataframe tbody tr th:only-of-type {\n",
              "        vertical-align: middle;\n",
              "    }\n",
              "\n",
              "    .dataframe tbody tr th {\n",
              "        vertical-align: top;\n",
              "    }\n",
              "\n",
              "    .dataframe thead th {\n",
              "        text-align: right;\n",
              "    }\n",
              "</style>\n",
              "<table border=\"1\" class=\"dataframe\">\n",
              "  <thead>\n",
              "    <tr style=\"text-align: right;\">\n",
              "      <th></th>\n",
              "      <th>community</th>\n",
              "      <th>id</th>\n",
              "      <th>pagerank</th>\n",
              "    </tr>\n",
              "  </thead>\n",
              "  <tbody>\n",
              "    <tr>\n",
              "      <th>0</th>\n",
              "      <td>344</td>\n",
              "      <td>fungku01</td>\n",
              "      <td>7.110063887201249</td>\n",
              "    </tr>\n",
              "    <tr>\n",
              "      <th>0</th>\n",
              "      <td>344</td>\n",
              "      <td>godstrange</td>\n",
              "      <td>6.117243177071213</td>\n",
              "    </tr>\n",
              "    <tr>\n",
              "      <th>0</th>\n",
              "      <td>344</td>\n",
              "      <td>johnnyjazz</td>\n",
              "      <td>6.005964523740113</td>\n",
              "    </tr>\n",
              "    <tr>\n",
              "      <th>0</th>\n",
              "      <td>344</td>\n",
              "      <td>knightfat</td>\n",
              "      <td>5.078586988273674</td>\n",
              "    </tr>\n",
              "    <tr>\n",
              "      <th>0</th>\n",
              "      <td>344</td>\n",
              "      <td>ROCKMANX6</td>\n",
              "      <td>4.492471052706243</td>\n",
              "    </tr>\n",
              "  </tbody>\n",
              "</table>\n",
              "</div>"
            ],
            "text/plain": [
              "  community          id           pagerank\n",
              "0       344    fungku01  7.110063887201249\n",
              "0       344  godstrange  6.117243177071213\n",
              "0       344  johnnyjazz  6.005964523740113\n",
              "0       344   knightfat  5.078586988273674\n",
              "0       344   ROCKMANX6  4.492471052706243"
            ]
          },
          "metadata": {
            "tags": []
          },
          "execution_count": 15
        }
      ]
    },
    {
      "cell_type": "code",
      "metadata": {
        "id": "6s9Lc0eceCe6",
        "colab_type": "code",
        "colab": {}
      },
      "source": [
        "gp_df.to_csv(path + 'neo4j_trns_{}.csv'.format(exec_dt), index=False)"
      ],
      "execution_count": 0,
      "outputs": []
    }
  ]
}
