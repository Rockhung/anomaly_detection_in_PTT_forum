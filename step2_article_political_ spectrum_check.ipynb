{
 "cells": [
  {
   "cell_type": "code",
   "execution_count": 2,
   "metadata": {
    "colab": {},
    "colab_type": "code",
    "id": "MeRpPNkroCPh"
   },
   "outputs": [],
   "source": [
    "import gc\n",
    "import os\n",
    "import time\n",
    "import pandas as pd"
   ]
  },
  {
   "cell_type": "markdown",
   "metadata": {
    "colab_type": "text",
    "id": "kQnGT56nuXJN"
   },
   "source": [
    "# 1. set file path & political dict\n",
    "ref: https://github.com/crownpku/Awesome-Chinese-NLP"
   ]
  },
  {
   "cell_type": "code",
   "execution_count": 3,
   "metadata": {
    "colab": {
     "base_uri": "https://localhost:8080/",
     "height": 360
    },
    "colab_type": "code",
    "id": "zSRal7ugBtYY",
    "outputId": "0db6f66f-d75a-4839-83e6-530e596755bd"
   },
   "outputs": [
    {
     "data": {
      "text/plain": [
       "['Gossiping-1-5.json',\n",
       " 'Gossiping-39361-39363_reply_20191228_191753.csv',\n",
       " 'ntusd-negative.txt',\n",
       " 'ptt_id_check.ipynb',\n",
       " 'Gossiping-28800-29600_reply_20191229_192300.csv',\n",
       " '.DS_Store',\n",
       " 'Gossiping-28800-29600.json',\n",
       " 'ptt_excel.xlsx',\n",
       " 'Gossiping-28800-29600_article_20191229_192300.csv',\n",
       " 'Gossiping-1-5_article_20191228_201931.csv',\n",
       " 'Gossiping-1-5_article_20191228_191753.csv',\n",
       " 'local_script',\n",
       " 'neo4j_community_pagerank_1204-20191211T114233Z-001.zip',\n",
       " 'python -m PttWebCrawler -b PublicServan -i 100 200',\n",
       " 'Gossiping-39361-39363.json',\n",
       " 'test.json',\n",
       " 'Gossiping-37500-39075.json',\n",
       " 'ntusd-positive.txt',\n",
       " 'neo4j_community_pagerank_1204',\n",
       " 'Gossiping-39361-39363_article_20191228_191753.csv',\n",
       " '.ipynb_checkpoints',\n",
       " 'Gossiping-37700-39294_1207.json',\n",
       " 'test2.json',\n",
       " 'Gossiping-1-5_reply_20191228_201931.csv',\n",
       " 'Gossiping-1-5_reply_20191228_191753.csv',\n",
       " 'HatePolitics-2600-4035.json']"
      ]
     },
     "execution_count": 3,
     "metadata": {},
     "output_type": "execute_result"
    }
   ],
   "source": [
    "path = r'/Users/zoe/Desktop/ptt_crawler//'\n",
    "os.listdir(path)"
   ]
  },
  {
   "cell_type": "code",
   "execution_count": 4,
   "metadata": {
    "colab": {},
    "colab_type": "code",
    "id": "ZynuTp3pfJvF"
   },
   "outputs": [],
   "source": [
    "party_dict = {\n",
    "      'deep_dpp_kw' : ['賴清德', '台獨', '基進側翼', '阿扁', '陳水扁']\n",
    "    , 'light_dpp_kw' : ['民進黨', '林佳龍']\n",
    "    , 'tsai_kw' : ['蔡英文', '蔡總統', '小英']\n",
    "    , 'han_kw' : ['韓國瑜', '韓導', '韓國魚', '國瑜']\n",
    "    , 'light_kmt_kw' : ['國民黨', '吳敦義', '馬英九']\n",
    "    , 'deep_kmt_kw' : ['兩岸統一', '和平協議']\n",
    "    , 'third_party_kw' : ['柯文哲', '郭董', '郭台銘', '柯粉', '民眾黨', '時代力量', '黃國昌', '吳崢', '柯P', '李登輝']\n",
    "    , 'unrelated_kw' : ['親民黨', '宋楚瑜']\n",
    "    , 'hk_protest' : ['反送中', '逃犯條例', '連儂牆', '真普選']\n",
    "    , 'china_spy' : ['共諜案', '王立強', '向心']\n",
    "}\n",
    "\n",
    "filter_lst = ['com', 'imgur', 'https' , 'www', '新聞', '討論']"
   ]
  },
  {
   "cell_type": "markdown",
   "metadata": {
    "colab_type": "text",
    "id": "pYMn70Qr0ryu"
   },
   "source": [
    "# 2. politics check\n",
    "## notes:\n",
    "#### 1. trans dict to config file\n",
    "#### 2. build political dict from frequent words of article title & filter stop words\n",
    "#### 3. reference https://github.com/sweslo17/chinese_sentiment/blob/master/dict/user_dic.dic\n",
    "#### 4. others: open source political dict, wikipedia\n",
    "#### 5. 中文詞庫 https://scidm.nchc.org.tw/dataset/nchc_2019_te_04\n",
    "#### 6.  政治網路口碑的情感分析：語意關連性之觀點 http://csw.shu.edu.tw/File/Download/edmitems/%E5%82%B3%E6%92%AD%E7%A0%94%E7%A9%B6%E8%88%87%E5%AF%A6%E8%B8%908(2)-03%20%E9%99%B6%E6%8C%AF%E8%B6%85.pdf"
   ]
  },
  {
   "cell_type": "code",
   "execution_count": 5,
   "metadata": {
    "colab": {
     "base_uri": "https://localhost:8080/",
     "height": 34
    },
    "colab_type": "code",
    "id": "27sb2bWP4BDl",
    "outputId": "571fcfaf-3f58-42b1-8048-80ec67445529"
   },
   "outputs": [
    {
     "data": {
      "text/plain": [
       "[None, None, None, None, None, None, None, None, None, None]"
      ]
     },
     "execution_count": 5,
     "metadata": {},
     "output_type": "execute_result"
    }
   ],
   "source": []
  },
  {
   "cell_type": "code",
   "execution_count": 15,
   "metadata": {},
   "outputs": [
    {
     "name": "stdout",
     "output_type": "stream",
     "text": [
      "Gossiping-28800-29600_article_20191229_192300.csv\n",
      "Gossiping-1-5_article_20191228_201931.csv\n",
      "Gossiping-1-5_article_20191228_191753.csv\n",
      "Gossiping-37700-39294_1207_article_20191229_192300.csv\n",
      "Gossiping-39361-39363_article_20191228_191753.csv\n"
     ]
    }
   ],
   "source": [
    "for x in os.listdir(path):\n",
    "    if 'article' in  x:\n",
    "        print(x)\n",
    "        #df = pd.read_csv(path + x)\n",
    "        #break"
   ]
  },
  {
   "cell_type": "code",
   "execution_count": 16,
   "metadata": {},
   "outputs": [],
   "source": [
    "df = pd.read_csv(path + 'Gossiping-37700-39294_1207_article_20191229_192300.csv')"
   ]
  },
  {
   "cell_type": "code",
   "execution_count": 31,
   "metadata": {},
   "outputs": [],
   "source": [
    "def article_pol_tendency_check(art_df, party_dict):\n",
    "    pol_list = []\n",
    "    [ pol_list.extend(x) for x in party_dict.values()]\n",
    "    \n",
    "    art_df.loc[art_df.article_title.isna(), 'article_title'] = 'NoData'\n",
    "    art_df.loc[art_df.content.isna(), 'content'] = 'NoData'\n",
    "    art_df['corpus'] = art_df.article_title + ' ' + art_df.content\n",
    "    art_df['pol_word_cnt'] = art_df.corpus.str.count('|'.join(pol_list))\n",
    "\n",
    "    art_df['party'] = 'undef'\n",
    "\n",
    "    for slc_kw in party_dict: \n",
    "        rs_lst = []\n",
    "        #slc_kw = 'tsai_kw'\n",
    "        in_lst = party_dict[slc_kw]\n",
    "        print(in_lst)\n",
    "        ex_lst = []\n",
    "\n",
    "        [ex_lst.extend(party_dict[x]) for x in party_dict if x != slc_kw]\n",
    "        #因Re文會引述原文，為了確保分析的準確性，先排除這些文章\n",
    "        for row in art_df.itertuples():\n",
    "            temp_corpus = row.corpus\n",
    "            #temp_corpus = row.title\n",
    "            if any(kw in temp_corpus for kw in in_lst)\\\n",
    "            and not any(kw in temp_corpus for kw in ex_lst)\\\n",
    "            and row.re_flag == 'N':\n",
    "                art_df.loc[row.Index, 'party'] = slc_kw\n",
    "    return art_df"
   ]
  },
  {
   "cell_type": "code",
   "execution_count": 32,
   "metadata": {
    "colab": {},
    "colab_type": "code",
    "collapsed": true,
    "id": "x7OgDh4K37dF"
   },
   "outputs": [
    {
     "name": "stdout",
     "output_type": "stream",
     "text": [
      "['賴清德', '台獨', '基進側翼', '阿扁', '陳水扁']\n",
      "['民進黨', '林佳龍']\n",
      "['蔡英文', '蔡總統', '小英']\n",
      "['韓國瑜', '韓導', '韓國魚', '國瑜']\n",
      "['國民黨', '吳敦義', '馬英九']\n",
      "['兩岸統一', '和平協議']\n",
      "['柯文哲', '郭董', '郭台銘', '柯粉', '民眾黨', '時代力量', '黃國昌', '吳崢', '柯P', '李登輝']\n",
      "['親民黨', '宋楚瑜']\n",
      "['反送中', '逃犯條例', '連儂牆', '真普選']\n",
      "['共諜案', '王立強', '向心']\n"
     ]
    }
   ],
   "source": [
    "temp_df = article_pol_tendency_check(df, party_dict)"
   ]
  },
  {
   "cell_type": "code",
   "execution_count": 0,
   "metadata": {
    "colab": {},
    "colab_type": "code",
    "id": "B0AxmfO-7Lgk"
   },
   "outputs": [],
   "source": [
    "#pol_df = art_df[art_df.pol_word_cnt > 0].copy()"
   ]
  },
  {
   "cell_type": "markdown",
   "metadata": {},
   "source": [
    "#### check senti \n",
    "### personal political spectrum check\n",
    "### for accuracy we set senti in colab with CKIP & GPU acceleration, but for testing, you can just use string count or jieba with tradional繁體 dict + sentiment dict + politcal dict "
   ]
  },
  {
   "cell_type": "code",
   "execution_count": 0,
   "metadata": {
    "colab": {},
    "colab_type": "code",
    "id": "4jGFRZR57LlC"
   },
   "outputs": [],
   "source": []
  },
  {
   "cell_type": "code",
   "execution_count": 0,
   "metadata": {
    "colab": {},
    "colab_type": "code",
    "id": "p-r9pHYqJbbw"
   },
   "outputs": [],
   "source": [
    "# dpp_kw = ['民進黨', '蔡英文', '蔡總統', '賴清德', '小英']\n",
    "# kmt_kw = ['國民黨', '韓國瑜', '韓導', '馬英九', '韓國魚']\n",
    "# unrelated_kw = ['親民黨', '宋楚瑜', '柯文哲', '基進側翼', '郭董', '郭台銘', '柯粉', '民眾黨', '時代力量']\n",
    "\n",
    "# rs_lst = []\n",
    "\n",
    "# for row in hate_df_t2.itertuples():\n",
    "#     #just avoid none\n",
    "#     temp_corpus = str(row.article_title) + ' ' + row.content\n",
    "#     if any(kw in temp_corpus for kw in dpp_kw) and\\\n",
    "#        not any(kw in temp_corpus for kw in kmt_kw) and\\\n",
    "#        not any(kw in temp_corpus for kw in unrelated_kw)and\\\n",
    "#        row.re_flag is False:\n",
    "#         rs_lst.append(temp_corpus)\n",
    "#         print(temp_corpus)\n",
    "#         #break"
   ]
  },
  {
   "cell_type": "markdown",
   "metadata": {
    "colab_type": "text",
    "id": "Mg2eBrr2su26"
   },
   "source": [
    "# reply\n",
    "# seperate re and non-re\n",
    "## 1. check intensive interaction & reply cnt above avg/median by it's distribution\n"
   ]
  },
  {
   "cell_type": "code",
   "execution_count": 0,
   "metadata": {
    "colab": {},
    "colab_type": "code",
    "id": "KK0raRvfsu6M"
   },
   "outputs": [],
   "source": [
    "reply_df = []\n",
    "\n",
    "for x in pol_df.itertuples():\n",
    "    \n",
    "    if x.Index % 10000 == 1:\n",
    "        print(x.Index)\n",
    "        \n",
    "    tmp_reply = pd.DataFrame(x.messages)\n",
    "    #push_ip_ = reply.push_ipdatetime.str.split(' ', n=1, expand=True)\n",
    "\n",
    "    tmp_reply['target'] = x.author\n",
    "    tmp_ip_dt = tmp_reply.push_ipdatetime.copy()\n",
    "    \n",
    "    tmp_reply['reply_datetime'] = str(x.date.year) + '/' + np.where(tmp_ip_dt.str.len() < 20, tmp_ip_dt, tmp_ip_dt.str[-11:])\n",
    "    ##以發文日期作為推文的估計值，因為push_ipdatetime的ip 跟 datetime放在一起，有些只有datetime 沒有ip，好像跟RE 有關....\n",
    "    ##欄位重新命名，push_userid 改為 source\n",
    "    tmp_reply.rename({'push_userid':'source'}, axis=1, inplace=True)\n",
    "    tmp_reply['article_id'] = x.article_id\n",
    "    reply_df.append(tmp_reply)"
   ]
  },
  {
   "cell_type": "code",
   "execution_count": 0,
   "metadata": {
    "colab": {},
    "colab_type": "code",
    "id": "2pLkICr2su89"
   },
   "outputs": [],
   "source": [
    "reply_df = pd.concat(reply_df)"
   ]
  },
  {
   "cell_type": "code",
   "execution_count": 0,
   "metadata": {
    "colab": {},
    "colab_type": "code",
    "id": "rw3ZX1ZRsu_8"
   },
   "outputs": [],
   "source": [
    "reply_df.reply_datetime = pd.to_datetime(reply_df.reply_datetime, format='%Y/%m/%d %H:%M', errors='coerce')\n",
    "reply_df['ip'] = np.where(reply_df.push_ipdatetime.str.len() > 20, reply_df.push_ipdatetime.str[:-12], None)"
   ]
  },
  {
   "cell_type": "code",
   "execution_count": 0,
   "metadata": {
    "colab": {},
    "colab_type": "code",
    "id": "fOo3lqi3svCR"
   },
   "outputs": [],
   "source": [
    "reply_df.push_tag.replace({'推':'push', '噓':'boo', '→':'neutral'}, inplace=True)"
   ]
  },
  {
   "cell_type": "code",
   "execution_count": 0,
   "metadata": {
    "colab": {
     "base_uri": "https://localhost:8080/",
     "height": 204
    },
    "colab_type": "code",
    "id": "I4-bpiES2e6n",
    "outputId": "034a1253-e12a-4df6-bbed-9ad57d7faf63"
   },
   "outputs": [
    {
     "data": {
      "text/html": [
       "<div>\n",
       "<style scoped>\n",
       "    .dataframe tbody tr th:only-of-type {\n",
       "        vertical-align: middle;\n",
       "    }\n",
       "\n",
       "    .dataframe tbody tr th {\n",
       "        vertical-align: top;\n",
       "    }\n",
       "\n",
       "    .dataframe thead th {\n",
       "        text-align: right;\n",
       "    }\n",
       "</style>\n",
       "<table border=\"1\" class=\"dataframe\">\n",
       "  <thead>\n",
       "    <tr style=\"text-align: right;\">\n",
       "      <th></th>\n",
       "      <th>push_content</th>\n",
       "      <th>push_ipdatetime</th>\n",
       "      <th>push_tag</th>\n",
       "      <th>source</th>\n",
       "      <th>target</th>\n",
       "      <th>reply_datetime</th>\n",
       "      <th>article_id</th>\n",
       "      <th>ip</th>\n",
       "    </tr>\n",
       "  </thead>\n",
       "  <tbody>\n",
       "    <tr>\n",
       "      <th>0</th>\n",
       "      <td>http://i.imgur.com/bXC5X0l.jpg</td>\n",
       "      <td>112.104.64.169 09/26 08:51</td>\n",
       "      <td>neutral</td>\n",
       "      <td>silent328kn</td>\n",
       "      <td>t21</td>\n",
       "      <td>2019-09-26 08:51:00</td>\n",
       "      <td>M.1569459046.A.F55</td>\n",
       "      <td>112.104.64.169</td>\n",
       "    </tr>\n",
       "    <tr>\n",
       "      <th>1</th>\n",
       "      <td>沒有黨證 不是鴿子 悲劇</td>\n",
       "      <td>223.137.80.189 09/26 08:53</td>\n",
       "      <td>push</td>\n",
       "      <td>jason91818</td>\n",
       "      <td>t21</td>\n",
       "      <td>2019-09-26 08:53:00</td>\n",
       "      <td>M.1569459046.A.F55</td>\n",
       "      <td>223.137.80.189</td>\n",
       "    </tr>\n",
       "    <tr>\n",
       "      <th>0</th>\n",
       "      <td>推 柯糞吃屎</td>\n",
       "      <td>42.77.41.202 09/26 08:52</td>\n",
       "      <td>push</td>\n",
       "      <td>MoWilliams</td>\n",
       "      <td>hugh509)</td>\n",
       "      <td>2019-09-26 08:52:00</td>\n",
       "      <td>M.1569459079.A.990</td>\n",
       "      <td>42.77.41.202</td>\n",
       "    </tr>\n",
       "    <tr>\n",
       "      <th>1</th>\n",
       "      <td>總統府一再說謊 一開始說沒有政務人員涉入</td>\n",
       "      <td>61.220.51.98 09/26 08:52</td>\n",
       "      <td>boo</td>\n",
       "      <td>deann</td>\n",
       "      <td>hugh509)</td>\n",
       "      <td>2019-09-26 08:52:00</td>\n",
       "      <td>M.1569459079.A.990</td>\n",
       "      <td>61.220.51.98</td>\n",
       "    </tr>\n",
       "    <tr>\n",
       "      <th>2</th>\n",
       "      <td>台灣價值+1000</td>\n",
       "      <td>220.134.239.173 09/26 08:52</td>\n",
       "      <td>push</td>\n",
       "      <td>kevin751231</td>\n",
       "      <td>hugh509)</td>\n",
       "      <td>2019-09-26 08:52:00</td>\n",
       "      <td>M.1569459079.A.990</td>\n",
       "      <td>220.134.239.173</td>\n",
       "    </tr>\n",
       "  </tbody>\n",
       "</table>\n",
       "</div>"
      ],
      "text/plain": [
       "                     push_content  ...               ip\n",
       "0  http://i.imgur.com/bXC5X0l.jpg  ...   112.104.64.169\n",
       "1                    沒有黨證 不是鴿子 悲劇  ...   223.137.80.189\n",
       "0                          推 柯糞吃屎  ...     42.77.41.202\n",
       "1            總統府一再說謊 一開始說沒有政務人員涉入  ...     61.220.51.98\n",
       "2                       台灣價值+1000  ...  220.134.239.173\n",
       "\n",
       "[5 rows x 8 columns]"
      ]
     },
     "execution_count": 32,
     "metadata": {
      "tags": []
     },
     "output_type": "execute_result"
    }
   ],
   "source": [
    "reply_df.head()"
   ]
  },
  {
   "cell_type": "code",
   "execution_count": 0,
   "metadata": {
    "colab": {},
    "colab_type": "code",
    "id": "zj_vMYhA2e9l"
   },
   "outputs": [],
   "source": [
    "reply_df['reply_date'] = reply_df.reply_datetime.astype(str).str[:10]\n",
    "reply_df['reply_mn'] = reply_df.reply_datetime.astype(str).str[:7]"
   ]
  },
  {
   "cell_type": "code",
   "execution_count": 0,
   "metadata": {
    "colab": {},
    "colab_type": "code",
    "id": "SPQ5uSJq8HOK"
   },
   "outputs": [],
   "source": [
    "repl_dict = {'\\)':'', '\\(':''}\n",
    "reply_df.target.replace(repl_dict, regex=True, inplace=True)\n",
    "#hugh509)"
   ]
  },
  {
   "cell_type": "code",
   "execution_count": 0,
   "metadata": {
    "colab": {
     "base_uri": "https://localhost:8080/",
     "height": 1000
    },
    "colab_type": "code",
    "collapsed": true,
    "id": "uGs4oR348HSF",
    "outputId": "3fb59754-b3b3-4734-a36f-132e3deded8c"
   },
   "outputs": [
    {
     "data": {
      "text/html": [
       "<div>\n",
       "<style scoped>\n",
       "    .dataframe tbody tr th:only-of-type {\n",
       "        vertical-align: middle;\n",
       "    }\n",
       "\n",
       "    .dataframe tbody tr th {\n",
       "        vertical-align: top;\n",
       "    }\n",
       "\n",
       "    .dataframe thead th {\n",
       "        text-align: right;\n",
       "    }\n",
       "</style>\n",
       "<table border=\"1\" class=\"dataframe\">\n",
       "  <thead>\n",
       "    <tr style=\"text-align: right;\">\n",
       "      <th></th>\n",
       "      <th>target</th>\n",
       "      <th>ip</th>\n",
       "    </tr>\n",
       "  </thead>\n",
       "  <tbody>\n",
       "    <tr>\n",
       "      <th>4231</th>\n",
       "      <td>zxcelephant</td>\n",
       "      <td>18168</td>\n",
       "    </tr>\n",
       "    <tr>\n",
       "      <th>2328</th>\n",
       "      <td>johnny790218</td>\n",
       "      <td>13676</td>\n",
       "    </tr>\n",
       "    <tr>\n",
       "      <th>2221</th>\n",
       "      <td>ivorysoap</td>\n",
       "      <td>13254</td>\n",
       "    </tr>\n",
       "    <tr>\n",
       "      <th>3707</th>\n",
       "      <td>sunyeah</td>\n",
       "      <td>13080</td>\n",
       "    </tr>\n",
       "    <tr>\n",
       "      <th>874</th>\n",
       "      <td>Wojnarowski</td>\n",
       "      <td>12618</td>\n",
       "    </tr>\n",
       "    <tr>\n",
       "      <th>1247</th>\n",
       "      <td>beerduck</td>\n",
       "      <td>12106</td>\n",
       "    </tr>\n",
       "    <tr>\n",
       "      <th>3737</th>\n",
       "      <td>taipeixcity</td>\n",
       "      <td>11689</td>\n",
       "    </tr>\n",
       "    <tr>\n",
       "      <th>3717</th>\n",
       "      <td>sweat992001</td>\n",
       "      <td>11340</td>\n",
       "    </tr>\n",
       "    <tr>\n",
       "      <th>802</th>\n",
       "      <td>TTDEarl</td>\n",
       "      <td>10541</td>\n",
       "    </tr>\n",
       "    <tr>\n",
       "      <th>2656</th>\n",
       "      <td>live1002</td>\n",
       "      <td>10377</td>\n",
       "    </tr>\n",
       "    <tr>\n",
       "      <th>3507</th>\n",
       "      <td>sgzt</td>\n",
       "      <td>10293</td>\n",
       "    </tr>\n",
       "    <tr>\n",
       "      <th>4242</th>\n",
       "      <td>zzyyxx77</td>\n",
       "      <td>9826</td>\n",
       "    </tr>\n",
       "    <tr>\n",
       "      <th>48</th>\n",
       "      <td>Anddyliu</td>\n",
       "      <td>9718</td>\n",
       "    </tr>\n",
       "    <tr>\n",
       "      <th>2448</th>\n",
       "      <td>kid725</td>\n",
       "      <td>9295</td>\n",
       "    </tr>\n",
       "    <tr>\n",
       "      <th>2959</th>\n",
       "      <td>nicholas0406</td>\n",
       "      <td>9272</td>\n",
       "    </tr>\n",
       "    <tr>\n",
       "      <th>466</th>\n",
       "      <td>KouChouChing</td>\n",
       "      <td>8953</td>\n",
       "    </tr>\n",
       "    <tr>\n",
       "      <th>887</th>\n",
       "      <td>XXXXGGYY</td>\n",
       "      <td>8925</td>\n",
       "    </tr>\n",
       "    <tr>\n",
       "      <th>549</th>\n",
       "      <td>MikaHakkinen</td>\n",
       "      <td>8892</td>\n",
       "    </tr>\n",
       "    <tr>\n",
       "      <th>3838</th>\n",
       "      <td>tony121010</td>\n",
       "      <td>8517</td>\n",
       "    </tr>\n",
       "    <tr>\n",
       "      <th>691</th>\n",
       "      <td>Rambo</td>\n",
       "      <td>8361</td>\n",
       "    </tr>\n",
       "    <tr>\n",
       "      <th>2483</th>\n",
       "      <td>kivan00</td>\n",
       "      <td>8268</td>\n",
       "    </tr>\n",
       "    <tr>\n",
       "      <th>3453</th>\n",
       "      <td>sbflight</td>\n",
       "      <td>8246</td>\n",
       "    </tr>\n",
       "    <tr>\n",
       "      <th>762</th>\n",
       "      <td>Sinreigensou</td>\n",
       "      <td>8129</td>\n",
       "    </tr>\n",
       "    <tr>\n",
       "      <th>2418</th>\n",
       "      <td>kenbo</td>\n",
       "      <td>7530</td>\n",
       "    </tr>\n",
       "    <tr>\n",
       "      <th>509</th>\n",
       "      <td>LukeSkywaker</td>\n",
       "      <td>7494</td>\n",
       "    </tr>\n",
       "    <tr>\n",
       "      <th>3317</th>\n",
       "      <td>rich830502</td>\n",
       "      <td>7370</td>\n",
       "    </tr>\n",
       "    <tr>\n",
       "      <th>3215</th>\n",
       "      <td>pujipuji</td>\n",
       "      <td>7321</td>\n",
       "    </tr>\n",
       "    <tr>\n",
       "      <th>3901</th>\n",
       "      <td>ueewen</td>\n",
       "      <td>7293</td>\n",
       "    </tr>\n",
       "    <tr>\n",
       "      <th>826</th>\n",
       "      <td>Tiara5566</td>\n",
       "      <td>7199</td>\n",
       "    </tr>\n",
       "    <tr>\n",
       "      <th>3881</th>\n",
       "      <td>tw689</td>\n",
       "      <td>6992</td>\n",
       "    </tr>\n",
       "    <tr>\n",
       "      <th>3995</th>\n",
       "      <td>waymayday</td>\n",
       "      <td>6938</td>\n",
       "    </tr>\n",
       "    <tr>\n",
       "      <th>3320</th>\n",
       "      <td>richshen</td>\n",
       "      <td>6902</td>\n",
       "    </tr>\n",
       "    <tr>\n",
       "      <th>3530</th>\n",
       "      <td>shinmoner</td>\n",
       "      <td>6889</td>\n",
       "    </tr>\n",
       "    <tr>\n",
       "      <th>526</th>\n",
       "      <td>MagicMoney</td>\n",
       "      <td>6829</td>\n",
       "    </tr>\n",
       "    <tr>\n",
       "      <th>4092</th>\n",
       "      <td>xingting</td>\n",
       "      <td>6828</td>\n",
       "    </tr>\n",
       "    <tr>\n",
       "      <th>1086</th>\n",
       "      <td>andy02</td>\n",
       "      <td>6775</td>\n",
       "    </tr>\n",
       "    <tr>\n",
       "      <th>3903</th>\n",
       "      <td>uhbygv45</td>\n",
       "      <td>6757</td>\n",
       "    </tr>\n",
       "    <tr>\n",
       "      <th>4078</th>\n",
       "      <td>xamous</td>\n",
       "      <td>6724</td>\n",
       "    </tr>\n",
       "    <tr>\n",
       "      <th>4141</th>\n",
       "      <td>yfme</td>\n",
       "      <td>6659</td>\n",
       "    </tr>\n",
       "    <tr>\n",
       "      <th>223</th>\n",
       "      <td>DreamYeh</td>\n",
       "      <td>6640</td>\n",
       "    </tr>\n",
       "    <tr>\n",
       "      <th>3079</th>\n",
       "      <td>pasionlove</td>\n",
       "      <td>6639</td>\n",
       "    </tr>\n",
       "    <tr>\n",
       "      <th>2050</th>\n",
       "      <td>hello456</td>\n",
       "      <td>6547</td>\n",
       "    </tr>\n",
       "    <tr>\n",
       "      <th>3024</th>\n",
       "      <td>omanorboyo</td>\n",
       "      <td>6369</td>\n",
       "    </tr>\n",
       "    <tr>\n",
       "      <th>1560</th>\n",
       "      <td>cycling</td>\n",
       "      <td>6332</td>\n",
       "    </tr>\n",
       "    <tr>\n",
       "      <th>3773</th>\n",
       "      <td>tenfu</td>\n",
       "      <td>6293</td>\n",
       "    </tr>\n",
       "    <tr>\n",
       "      <th>3063</th>\n",
       "      <td>oz5566</td>\n",
       "      <td>6268</td>\n",
       "    </tr>\n",
       "    <tr>\n",
       "      <th>3093</th>\n",
       "      <td>pchunters123</td>\n",
       "      <td>6078</td>\n",
       "    </tr>\n",
       "    <tr>\n",
       "      <th>1042</th>\n",
       "      <td>akway</td>\n",
       "      <td>5986</td>\n",
       "    </tr>\n",
       "    <tr>\n",
       "      <th>3941</th>\n",
       "      <td>vc5566</td>\n",
       "      <td>5979</td>\n",
       "    </tr>\n",
       "  </tbody>\n",
       "</table>\n",
       "</div>"
      ],
      "text/plain": [
       "            target     ip\n",
       "4231   zxcelephant  18168\n",
       "2328  johnny790218  13676\n",
       "2221     ivorysoap  13254\n",
       "3707       sunyeah  13080\n",
       "874    Wojnarowski  12618\n",
       "1247      beerduck  12106\n",
       "3737   taipeixcity  11689\n",
       "3717   sweat992001  11340\n",
       "802        TTDEarl  10541\n",
       "2656      live1002  10377\n",
       "3507          sgzt  10293\n",
       "4242      zzyyxx77   9826\n",
       "48        Anddyliu   9718\n",
       "2448        kid725   9295\n",
       "2959  nicholas0406   9272\n",
       "466   KouChouChing   8953\n",
       "887       XXXXGGYY   8925\n",
       "549   MikaHakkinen   8892\n",
       "3838    tony121010   8517\n",
       "691          Rambo   8361\n",
       "2483       kivan00   8268\n",
       "3453      sbflight   8246\n",
       "762   Sinreigensou   8129\n",
       "2418         kenbo   7530\n",
       "509   LukeSkywaker   7494\n",
       "3317    rich830502   7370\n",
       "3215      pujipuji   7321\n",
       "3901        ueewen   7293\n",
       "826      Tiara5566   7199\n",
       "3881         tw689   6992\n",
       "3995     waymayday   6938\n",
       "3320      richshen   6902\n",
       "3530     shinmoner   6889\n",
       "526     MagicMoney   6829\n",
       "4092      xingting   6828\n",
       "1086        andy02   6775\n",
       "3903      uhbygv45   6757\n",
       "4078        xamous   6724\n",
       "4141          yfme   6659\n",
       "223       DreamYeh   6640\n",
       "3079    pasionlove   6639\n",
       "2050      hello456   6547\n",
       "3024    omanorboyo   6369\n",
       "1560       cycling   6332\n",
       "3773         tenfu   6293\n",
       "3063        oz5566   6268\n",
       "3093  pchunters123   6078\n",
       "1042         akway   5986\n",
       "3941        vc5566   5979"
      ]
     },
     "execution_count": 36,
     "metadata": {
      "tags": []
     },
     "output_type": "execute_result"
    }
   ],
   "source": [
    "reply_df.groupby('target', as_index=False).agg({'ip':'count'}).sort_values('ip', ascending=False)[1:50]"
   ]
  },
  {
   "cell_type": "code",
   "execution_count": 0,
   "metadata": {
    "colab": {},
    "colab_type": "code",
    "id": "xzH3Hrh5_xke"
   },
   "outputs": [],
   "source": [
    "reply_df.replace(',', '，', inplace=True, regex=True)"
   ]
  },
  {
   "cell_type": "code",
   "execution_count": 0,
   "metadata": {
    "colab": {
     "base_uri": "https://localhost:8080/",
     "height": 49
    },
    "colab_type": "code",
    "id": "wbBDx-57_f4B",
    "outputId": "eaa9db78-49d1-4ff4-e1c8-9bb496ec42e1"
   },
   "outputs": [
    {
     "data": {
      "text/html": [
       "<div>\n",
       "<style scoped>\n",
       "    .dataframe tbody tr th:only-of-type {\n",
       "        vertical-align: middle;\n",
       "    }\n",
       "\n",
       "    .dataframe tbody tr th {\n",
       "        vertical-align: top;\n",
       "    }\n",
       "\n",
       "    .dataframe thead th {\n",
       "        text-align: right;\n",
       "    }\n",
       "</style>\n",
       "<table border=\"1\" class=\"dataframe\">\n",
       "  <thead>\n",
       "    <tr style=\"text-align: right;\">\n",
       "      <th></th>\n",
       "      <th>push_content</th>\n",
       "      <th>push_ipdatetime</th>\n",
       "      <th>push_tag</th>\n",
       "      <th>source</th>\n",
       "      <th>target</th>\n",
       "      <th>reply_datetime</th>\n",
       "      <th>article_id</th>\n",
       "      <th>ip</th>\n",
       "      <th>reply_date</th>\n",
       "      <th>reply_mn</th>\n",
       "    </tr>\n",
       "  </thead>\n",
       "  <tbody>\n",
       "  </tbody>\n",
       "</table>\n",
       "</div>"
      ],
      "text/plain": [
       "Empty DataFrame\n",
       "Columns: [push_content, push_ipdatetime, push_tag, source, target, reply_datetime, article_id, ip, reply_date, reply_mn]\n",
       "Index: []"
      ]
     },
     "execution_count": 38,
     "metadata": {
      "tags": []
     },
     "output_type": "execute_result"
    }
   ],
   "source": [
    "reply_df[reply_df.push_content.str.contains(',')]"
   ]
  },
  {
   "cell_type": "code",
   "execution_count": 0,
   "metadata": {
    "colab": {},
    "colab_type": "code",
    "id": "WFUuQA5Z-q6Z"
   },
   "outputs": [],
   "source": [
    "reply_df.to_csv(path + 'gossi_pol.csv')"
   ]
  },
  {
   "cell_type": "code",
   "execution_count": 0,
   "metadata": {
    "colab": {},
    "colab_type": "code",
    "id": "zbyXszrz-q9v"
   },
   "outputs": [],
   "source": []
  },
  {
   "cell_type": "code",
   "execution_count": 0,
   "metadata": {
    "colab": {},
    "colab_type": "code",
    "id": "GQWSuylC8HVs"
   },
   "outputs": [],
   "source": []
  },
  {
   "cell_type": "code",
   "execution_count": 0,
   "metadata": {
    "colab": {},
    "colab_type": "code",
    "id": "LzxrYqMk2fAG"
   },
   "outputs": [],
   "source": [
    "reply_aggr_df = reply_df.groupby(['push_tag', 'source', 'target', 'reply_date']).count()['reply_mn']\n",
    "reply_aggr_df = pd.DataFrame(reply_aggr_df).reset_index()\n",
    "reply_aggr_df.columns = ['push_tag', 'source', 'target', 'reply_date', 'cnt']"
   ]
  },
  {
   "cell_type": "code",
   "execution_count": 0,
   "metadata": {
    "colab": {},
    "colab_type": "code",
    "id": "knrpJPdz2fCH"
   },
   "outputs": [],
   "source": [
    "reply_df_sum = reply_aggr_df.groupby(['source', 'target', 'push_tag'], as_index=False).sum()"
   ]
  },
  {
   "cell_type": "code",
   "execution_count": 0,
   "metadata": {
    "colab": {
     "base_uri": "https://localhost:8080/",
     "height": 285
    },
    "colab_type": "code",
    "id": "REbrxyWu3sEi",
    "outputId": "cd1986e1-e483-4fd4-c3c6-ec5778242e14"
   },
   "outputs": [
    {
     "data": {
      "text/plain": [
       "<matplotlib.axes._subplots.AxesSubplot at 0x7fe09a43e978>"
      ]
     },
     "execution_count": 27,
     "metadata": {
      "tags": []
     },
     "output_type": "execute_result"
    },
    {
     "data": {
      "image/png": "[encoded data removed]",
      "text/plain": [
       "<Figure size 432x288 with 1 Axes>"
      ]
     },
     "metadata": {
      "tags": []
     },
     "output_type": "display_data"
    }
   ],
   "source": [
    "#check massive coordinate influence operation (CIO)\n",
    "#avg, median, box plot, log (poison to normal)\n",
    "#[reply_df_sum.push_tag == 'push']\n",
    "\n",
    "reply_df_sum.groupby('cnt', as_index=False).count()['source'][:10].plot()"
   ]
  },
  {
   "cell_type": "code",
   "execution_count": 0,
   "metadata": {
    "colab": {
     "base_uri": "https://localhost:8080/",
     "height": 34
    },
    "colab_type": "code",
    "id": "NtI8VCTi3sHQ",
    "outputId": "4921d506-381f-4e01-fdf6-4b591c0a3bf2"
   },
   "outputs": [
    {
     "data": {
      "text/plain": [
       "3.22767691307578"
      ]
     },
     "execution_count": 28,
     "metadata": {
      "tags": []
     },
     "output_type": "execute_result"
    }
   ],
   "source": [
    "#reply_df_sum[reply_df_sum.push_tag == 'boo'].cnt.mean()\n",
    "#reply_df_sum[reply_df_sum.push_tag == 'push'].cnt.mean()\n",
    "reply_df_sum[reply_df_sum.push_tag == 'neutral'].cnt.mean()"
   ]
  },
  {
   "cell_type": "code",
   "execution_count": 0,
   "metadata": {
    "colab": {
     "base_uri": "https://localhost:8080/",
     "height": 419
    },
    "colab_type": "code",
    "id": "b16YICG_T1D-",
    "outputId": "f30c6667-bb0e-4140-fbe4-60ff972f2b5f"
   },
   "outputs": [
    {
     "data": {
      "text/html": [
       "<div>\n",
       "<style scoped>\n",
       "    .dataframe tbody tr th:only-of-type {\n",
       "        vertical-align: middle;\n",
       "    }\n",
       "\n",
       "    .dataframe tbody tr th {\n",
       "        vertical-align: top;\n",
       "    }\n",
       "\n",
       "    .dataframe thead th {\n",
       "        text-align: right;\n",
       "    }\n",
       "</style>\n",
       "<table border=\"1\" class=\"dataframe\">\n",
       "  <thead>\n",
       "    <tr style=\"text-align: right;\">\n",
       "      <th></th>\n",
       "      <th>source</th>\n",
       "      <th>target</th>\n",
       "      <th>push_tag</th>\n",
       "      <th>cnt</th>\n",
       "    </tr>\n",
       "  </thead>\n",
       "  <tbody>\n",
       "    <tr>\n",
       "      <th>0</th>\n",
       "      <td>A0091127</td>\n",
       "      <td>alberchi</td>\n",
       "      <td>push</td>\n",
       "      <td>1</td>\n",
       "    </tr>\n",
       "    <tr>\n",
       "      <th>1</th>\n",
       "      <td>A0091127</td>\n",
       "      <td>purplvampire</td>\n",
       "      <td>push</td>\n",
       "      <td>1</td>\n",
       "    </tr>\n",
       "    <tr>\n",
       "      <th>2</th>\n",
       "      <td>A0091127</td>\n",
       "      <td>rocklorl</td>\n",
       "      <td>boo</td>\n",
       "      <td>1</td>\n",
       "    </tr>\n",
       "    <tr>\n",
       "      <th>3</th>\n",
       "      <td>A0908</td>\n",
       "      <td>butten986</td>\n",
       "      <td>push</td>\n",
       "      <td>1</td>\n",
       "    </tr>\n",
       "    <tr>\n",
       "      <th>4</th>\n",
       "      <td>A0936104638</td>\n",
       "      <td>generally</td>\n",
       "      <td>boo</td>\n",
       "      <td>1</td>\n",
       "    </tr>\n",
       "    <tr>\n",
       "      <th>...</th>\n",
       "      <td>...</td>\n",
       "      <td>...</td>\n",
       "      <td>...</td>\n",
       "      <td>...</td>\n",
       "    </tr>\n",
       "    <tr>\n",
       "      <th>423449</th>\n",
       "      <td>zzzzzzzzzzzy</td>\n",
       "      <td>czqs2000</td>\n",
       "      <td>boo</td>\n",
       "      <td>1</td>\n",
       "    </tr>\n",
       "    <tr>\n",
       "      <th>423450</th>\n",
       "      <td>zzzzzzzzzzzy</td>\n",
       "      <td>czqs2000</td>\n",
       "      <td>neutral</td>\n",
       "      <td>1</td>\n",
       "    </tr>\n",
       "    <tr>\n",
       "      <th>423451</th>\n",
       "      <td>zzzzzzzzzzzy</td>\n",
       "      <td>diefishfish</td>\n",
       "      <td>push</td>\n",
       "      <td>1</td>\n",
       "    </tr>\n",
       "    <tr>\n",
       "      <th>423452</th>\n",
       "      <td>zzzzzzzzzzzy</td>\n",
       "      <td>eagleofsouth</td>\n",
       "      <td>neutral</td>\n",
       "      <td>1</td>\n",
       "    </tr>\n",
       "    <tr>\n",
       "      <th>423454</th>\n",
       "      <td>zzzzzzzzzzzy</td>\n",
       "      <td>yeh67</td>\n",
       "      <td>neutral</td>\n",
       "      <td>1</td>\n",
       "    </tr>\n",
       "  </tbody>\n",
       "</table>\n",
       "<p>287873 rows × 4 columns</p>\n",
       "</div>"
      ],
      "text/plain": [
       "              source        target push_tag  cnt\n",
       "0           A0091127      alberchi     push    1\n",
       "1           A0091127  purplvampire     push    1\n",
       "2           A0091127      rocklorl      boo    1\n",
       "3              A0908     butten986     push    1\n",
       "4        A0936104638     generally      boo    1\n",
       "...              ...           ...      ...  ...\n",
       "423449  zzzzzzzzzzzy      czqs2000      boo    1\n",
       "423450  zzzzzzzzzzzy      czqs2000  neutral    1\n",
       "423451  zzzzzzzzzzzy   diefishfish     push    1\n",
       "423452  zzzzzzzzzzzy  eagleofsouth  neutral    1\n",
       "423454  zzzzzzzzzzzy         yeh67  neutral    1\n",
       "\n",
       "[287873 rows x 4 columns]"
      ]
     },
     "execution_count": 29,
     "metadata": {
      "tags": []
     },
     "output_type": "execute_result"
    }
   ],
   "source": [
    "reply_df_sum[reply_df_sum.cnt == 1]"
   ]
  },
  {
   "cell_type": "markdown",
   "metadata": {
    "colab_type": "text",
    "id": "C7PqQsjh3VHs"
   },
   "source": [
    "# Reply distri (the fans of someone(KOL))\n",
    "# filter self reply"
   ]
  },
  {
   "cell_type": "code",
   "execution_count": 0,
   "metadata": {
    "colab": {},
    "colab_type": "code",
    "id": "il9MnkrpUQIi"
   },
   "outputs": [],
   "source": [
    "reply_df_sum = reply_df_sum[reply_df_sum.source != reply_df_sum.target]"
   ]
  },
  {
   "cell_type": "code",
   "execution_count": 0,
   "metadata": {
    "colab": {},
    "colab_type": "code",
    "id": "_bRXI_3J3sKZ"
   },
   "outputs": [],
   "source": [
    "fil_cond = reply_df_sum.cnt > 2\n",
    "\n",
    "reply_df_sum_pct = reply_df_sum[fil_cond].groupby(['source', 'push_tag', 'target']\\\n",
    "                   ).agg({'cnt':'sum'}).groupby(level=[0, 1]).apply(lambda x:100*x/float(x.sum()))"
   ]
  },
  {
   "cell_type": "code",
   "execution_count": 0,
   "metadata": {
    "colab": {
     "base_uri": "https://localhost:8080/",
     "height": 450
    },
    "colab_type": "code",
    "collapsed": true,
    "id": "5bBDa2KNYXt_",
    "outputId": "ab52f1e7-9a85-422c-a6d3-1c8a2f9796c5"
   },
   "outputs": [
    {
     "data": {
      "text/html": [
       "<div>\n",
       "<style scoped>\n",
       "    .dataframe tbody tr th:only-of-type {\n",
       "        vertical-align: middle;\n",
       "    }\n",
       "\n",
       "    .dataframe tbody tr th {\n",
       "        vertical-align: top;\n",
       "    }\n",
       "\n",
       "    .dataframe thead th {\n",
       "        text-align: right;\n",
       "    }\n",
       "</style>\n",
       "<table border=\"1\" class=\"dataframe\">\n",
       "  <thead>\n",
       "    <tr style=\"text-align: right;\">\n",
       "      <th></th>\n",
       "      <th></th>\n",
       "      <th></th>\n",
       "      <th>cnt</th>\n",
       "    </tr>\n",
       "    <tr>\n",
       "      <th>source</th>\n",
       "      <th>push_tag</th>\n",
       "      <th>target</th>\n",
       "      <th></th>\n",
       "    </tr>\n",
       "  </thead>\n",
       "  <tbody>\n",
       "    <tr>\n",
       "      <th>******</th>\n",
       "      <th>neutral</th>\n",
       "      <th>hw102050</th>\n",
       "      <td>100.000000</td>\n",
       "    </tr>\n",
       "    <tr>\n",
       "      <th rowspan=\"2\" valign=\"top\">************</th>\n",
       "      <th>neutral</th>\n",
       "      <th>hw102050</th>\n",
       "      <td>100.000000</td>\n",
       "    </tr>\n",
       "    <tr>\n",
       "      <th>push</th>\n",
       "      <th>hw102050</th>\n",
       "      <td>100.000000</td>\n",
       "    </tr>\n",
       "    <tr>\n",
       "      <th rowspan=\"2\" valign=\"top\">A0091127</th>\n",
       "      <th rowspan=\"2\" valign=\"top\">neutral</th>\n",
       "      <th>cosmite</th>\n",
       "      <td>23.529412</td>\n",
       "    </tr>\n",
       "    <tr>\n",
       "      <th>hoyumi</th>\n",
       "      <td>17.647059</td>\n",
       "    </tr>\n",
       "    <tr>\n",
       "      <th>...</th>\n",
       "      <th>...</th>\n",
       "      <th>...</th>\n",
       "      <td>...</td>\n",
       "    </tr>\n",
       "    <tr>\n",
       "      <th rowspan=\"5\" valign=\"top\">zzzzz14z14z</th>\n",
       "      <th rowspan=\"2\" valign=\"top\">neutral</th>\n",
       "      <th>Whitening</th>\n",
       "      <td>50.000000</td>\n",
       "    </tr>\n",
       "    <tr>\n",
       "      <th>kid725</th>\n",
       "      <td>50.000000</td>\n",
       "    </tr>\n",
       "    <tr>\n",
       "      <th rowspan=\"3\" valign=\"top\">push</th>\n",
       "      <th>joanzkow</th>\n",
       "      <td>46.153846</td>\n",
       "    </tr>\n",
       "    <tr>\n",
       "      <th>rayGG</th>\n",
       "      <td>30.769231</td>\n",
       "    </tr>\n",
       "    <tr>\n",
       "      <th>todao</th>\n",
       "      <td>23.076923</td>\n",
       "    </tr>\n",
       "  </tbody>\n",
       "</table>\n",
       "<p>155153 rows × 1 columns</p>\n",
       "</div>"
      ],
      "text/plain": [
       "                                        cnt\n",
       "source       push_tag target               \n",
       "******       neutral  hw102050   100.000000\n",
       "************ neutral  hw102050   100.000000\n",
       "             push     hw102050   100.000000\n",
       "A0091127     neutral  cosmite     23.529412\n",
       "                      hoyumi      17.647059\n",
       "...                                     ...\n",
       "zzzzz14z14z  neutral  Whitening   50.000000\n",
       "                      kid725      50.000000\n",
       "             push     joanzkow    46.153846\n",
       "                      rayGG       30.769231\n",
       "                      todao       23.076923\n",
       "\n",
       "[155153 rows x 1 columns]"
      ]
     },
     "execution_count": 46,
     "metadata": {
      "tags": []
     },
     "output_type": "execute_result"
    }
   ],
   "source": [
    "reply_df_sum_pct"
   ]
  },
  {
   "cell_type": "code",
   "execution_count": 0,
   "metadata": {
    "colab": {},
    "colab_type": "code",
    "id": "Yv7RjTf1KUJe"
   },
   "outputs": [],
   "source": [
    "reply_df_sum_pct = reply_df_sum_pct.reset_index()"
   ]
  },
  {
   "cell_type": "code",
   "execution_count": 0,
   "metadata": {
    "colab": {},
    "colab_type": "code",
    "id": "Mg7yY2r6YXwv"
   },
   "outputs": [],
   "source": []
  },
  {
   "cell_type": "code",
   "execution_count": 0,
   "metadata": {
    "colab": {
     "base_uri": "https://localhost:8080/",
     "height": 49
    },
    "colab_type": "code",
    "id": "zG4TJLkCi8JY",
    "outputId": "e7b2c4db-2633-48a7-c6a2-59721be54ff6"
   },
   "outputs": [
    {
     "data": {
      "text/html": [
       "<div>\n",
       "<style scoped>\n",
       "    .dataframe tbody tr th:only-of-type {\n",
       "        vertical-align: middle;\n",
       "    }\n",
       "\n",
       "    .dataframe tbody tr th {\n",
       "        vertical-align: top;\n",
       "    }\n",
       "\n",
       "    .dataframe thead th {\n",
       "        text-align: right;\n",
       "    }\n",
       "</style>\n",
       "<table border=\"1\" class=\"dataframe\">\n",
       "  <thead>\n",
       "    <tr style=\"text-align: right;\">\n",
       "      <th></th>\n",
       "      <th>source</th>\n",
       "      <th>target</th>\n",
       "      <th>push_tag</th>\n",
       "      <th>cnt</th>\n",
       "    </tr>\n",
       "  </thead>\n",
       "  <tbody>\n",
       "  </tbody>\n",
       "</table>\n",
       "</div>"
      ],
      "text/plain": [
       "Empty DataFrame\n",
       "Columns: [source, target, push_tag, cnt]\n",
       "Index: []"
      ]
     },
     "execution_count": 32,
     "metadata": {
      "tags": []
     },
     "output_type": "execute_result"
    }
   ],
   "source": [
    "reply_df_sum[reply_df_sum.target == 'jobli'].sort_values('cnt', ascending=False)[:20]"
   ]
  },
  {
   "cell_type": "code",
   "execution_count": 0,
   "metadata": {
    "colab": {},
    "colab_type": "code",
    "id": "UYyIX10Wi8Mf"
   },
   "outputs": [],
   "source": [
    "reply_df_sum[reply_df_sum.source == 'yisdl'].sort_values('cnt', ascending=False)[:20]"
   ]
  },
  {
   "cell_type": "code",
   "execution_count": 0,
   "metadata": {
    "colab": {},
    "colab_type": "code",
    "id": "nZI53YUFKUMP"
   },
   "outputs": [],
   "source": [
    "#duped by aggr!\n",
    "reply_df_sum_fn = reply_df_sum_pct.merge(reply_df_sum, how='left', on=['source', 'target', 'push_tag'])"
   ]
  },
  {
   "cell_type": "code",
   "execution_count": 0,
   "metadata": {
    "colab": {},
    "colab_type": "code",
    "id": "GDJENjrIKUO8"
   },
   "outputs": [],
   "source": []
  },
  {
   "cell_type": "code",
   "execution_count": 0,
   "metadata": {
    "colab": {
     "base_uri": "https://localhost:8080/",
     "height": 51
    },
    "colab_type": "code",
    "id": "TJFAVQ0KgMg9",
    "outputId": "2233d5cc-a941-4ee9-b63f-de29559a494d"
   },
   "outputs": [
    {
     "name": "stderr",
     "output_type": "stream",
     "text": [
      "/usr/local/lib/python3.6/dist-packages/ipykernel_launcher.py:7: UserWarning: Boolean Series key will be reindexed to match DataFrame index.\n",
      "  import sys\n"
     ]
    }
   ],
   "source": [
    "top_n_kol = author_attr.sort_values('push', ascending=False)[:].Id\n",
    "\n",
    "cond1 = reply_df_sum_fn.cnt_x > 70\n",
    "cond2 = reply_df_sum_fn.cnt_y > 30\n",
    "cond3 = reply_df_sum.target.isin(top_n_kol)\n",
    "\n",
    "temp_rnk = reply_df_sum_fn[ cond1 & cond2 & cond3].sort_values('target')\n",
    "#temp_rnk[temp_rnk.target.isin(known_id)]"
   ]
  },
  {
   "cell_type": "code",
   "execution_count": 0,
   "metadata": {
    "colab": {
     "base_uri": "https://localhost:8080/",
     "height": 669
    },
    "colab_type": "code",
    "collapsed": true,
    "id": "Y1JUG3CQgqPA",
    "outputId": "b5db4492-c9d1-4c61-981c-e2908411dd71"
   },
   "outputs": [
    {
     "data": {
      "text/html": [
       "<div>\n",
       "<style scoped>\n",
       "    .dataframe tbody tr th:only-of-type {\n",
       "        vertical-align: middle;\n",
       "    }\n",
       "\n",
       "    .dataframe tbody tr th {\n",
       "        vertical-align: top;\n",
       "    }\n",
       "\n",
       "    .dataframe thead th {\n",
       "        text-align: right;\n",
       "    }\n",
       "</style>\n",
       "<table border=\"1\" class=\"dataframe\">\n",
       "  <thead>\n",
       "    <tr style=\"text-align: right;\">\n",
       "      <th></th>\n",
       "      <th>source</th>\n",
       "      <th>push_tag</th>\n",
       "      <th>target</th>\n",
       "      <th>cnt_x</th>\n",
       "      <th>cnt_y</th>\n",
       "    </tr>\n",
       "  </thead>\n",
       "  <tbody>\n",
       "    <tr>\n",
       "      <th>144182</th>\n",
       "      <td>w09351500</td>\n",
       "      <td>push</td>\n",
       "      <td>yangyunjie</td>\n",
       "      <td>83.954155</td>\n",
       "      <td>293</td>\n",
       "    </tr>\n",
       "    <tr>\n",
       "      <th>27993</th>\n",
       "      <td>YU0121</td>\n",
       "      <td>push</td>\n",
       "      <td>Bignana</td>\n",
       "      <td>97.260274</td>\n",
       "      <td>213</td>\n",
       "    </tr>\n",
       "    <tr>\n",
       "      <th>12165</th>\n",
       "      <td>Ironstick</td>\n",
       "      <td>boo</td>\n",
       "      <td>Bignana</td>\n",
       "      <td>90.666667</td>\n",
       "      <td>136</td>\n",
       "    </tr>\n",
       "    <tr>\n",
       "      <th>23371</th>\n",
       "      <td>Skydier</td>\n",
       "      <td>boo</td>\n",
       "      <td>Bignana</td>\n",
       "      <td>88.741722</td>\n",
       "      <td>134</td>\n",
       "    </tr>\n",
       "    <tr>\n",
       "      <th>62890</th>\n",
       "      <td>fantasibear</td>\n",
       "      <td>boo</td>\n",
       "      <td>Bignana</td>\n",
       "      <td>100.000000</td>\n",
       "      <td>111</td>\n",
       "    </tr>\n",
       "    <tr>\n",
       "      <th>22412</th>\n",
       "      <td>SP500</td>\n",
       "      <td>boo</td>\n",
       "      <td>doraBBO</td>\n",
       "      <td>97.115385</td>\n",
       "      <td>101</td>\n",
       "    </tr>\n",
       "    <tr>\n",
       "      <th>6531</th>\n",
       "      <td>Dumbbbb</td>\n",
       "      <td>boo</td>\n",
       "      <td>johnson20524</td>\n",
       "      <td>100.000000</td>\n",
       "      <td>93</td>\n",
       "    </tr>\n",
       "    <tr>\n",
       "      <th>42276</th>\n",
       "      <td>brianlee15</td>\n",
       "      <td>boo</td>\n",
       "      <td>gentleman888</td>\n",
       "      <td>100.000000</td>\n",
       "      <td>90</td>\n",
       "    </tr>\n",
       "    <tr>\n",
       "      <th>52834</th>\n",
       "      <td>dan5120</td>\n",
       "      <td>boo</td>\n",
       "      <td>Bignana</td>\n",
       "      <td>89.795918</td>\n",
       "      <td>88</td>\n",
       "    </tr>\n",
       "    <tr>\n",
       "      <th>87322</th>\n",
       "      <td>kawhi5566</td>\n",
       "      <td>boo</td>\n",
       "      <td>doraBBO</td>\n",
       "      <td>100.000000</td>\n",
       "      <td>88</td>\n",
       "    </tr>\n",
       "    <tr>\n",
       "      <th>66820</th>\n",
       "      <td>fukawa947</td>\n",
       "      <td>boo</td>\n",
       "      <td>wen9008</td>\n",
       "      <td>100.000000</td>\n",
       "      <td>83</td>\n",
       "    </tr>\n",
       "    <tr>\n",
       "      <th>2683</th>\n",
       "      <td>Bignana</td>\n",
       "      <td>push</td>\n",
       "      <td>Induction</td>\n",
       "      <td>70.909091</td>\n",
       "      <td>78</td>\n",
       "    </tr>\n",
       "    <tr>\n",
       "      <th>95147</th>\n",
       "      <td>leo8064047</td>\n",
       "      <td>push</td>\n",
       "      <td>haudai</td>\n",
       "      <td>100.000000</td>\n",
       "      <td>78</td>\n",
       "    </tr>\n",
       "    <tr>\n",
       "      <th>67750</th>\n",
       "      <td>galilei503</td>\n",
       "      <td>push</td>\n",
       "      <td>haudai</td>\n",
       "      <td>100.000000</td>\n",
       "      <td>78</td>\n",
       "    </tr>\n",
       "    <tr>\n",
       "      <th>17811</th>\n",
       "      <td>Mews</td>\n",
       "      <td>boo</td>\n",
       "      <td>Bignana</td>\n",
       "      <td>100.000000</td>\n",
       "      <td>76</td>\n",
       "    </tr>\n",
       "    <tr>\n",
       "      <th>139075</th>\n",
       "      <td>tom282f3</td>\n",
       "      <td>boo</td>\n",
       "      <td>ecmvm123</td>\n",
       "      <td>96.103896</td>\n",
       "      <td>74</td>\n",
       "    </tr>\n",
       "    <tr>\n",
       "      <th>65559</th>\n",
       "      <td>fr346342</td>\n",
       "      <td>push</td>\n",
       "      <td>ecmvm123</td>\n",
       "      <td>83.720930</td>\n",
       "      <td>72</td>\n",
       "    </tr>\n",
       "    <tr>\n",
       "      <th>115186</th>\n",
       "      <td>ppony</td>\n",
       "      <td>boo</td>\n",
       "      <td>uhbygv45</td>\n",
       "      <td>90.277778</td>\n",
       "      <td>65</td>\n",
       "    </tr>\n",
       "    <tr>\n",
       "      <th>12850</th>\n",
       "      <td>KA</td>\n",
       "      <td>boo</td>\n",
       "      <td>kid725</td>\n",
       "      <td>95.522388</td>\n",
       "      <td>64</td>\n",
       "    </tr>\n",
       "    <tr>\n",
       "      <th>131681</th>\n",
       "      <td>spaceview</td>\n",
       "      <td>boo</td>\n",
       "      <td>taipeixcity</td>\n",
       "      <td>100.000000</td>\n",
       "      <td>60</td>\n",
       "    </tr>\n",
       "  </tbody>\n",
       "</table>\n",
       "</div>"
      ],
      "text/plain": [
       "             source push_tag        target       cnt_x  cnt_y\n",
       "144182    w09351500     push    yangyunjie   83.954155    293\n",
       "27993        YU0121     push       Bignana   97.260274    213\n",
       "12165     Ironstick      boo       Bignana   90.666667    136\n",
       "23371       Skydier      boo       Bignana   88.741722    134\n",
       "62890   fantasibear      boo       Bignana  100.000000    111\n",
       "22412         SP500      boo       doraBBO   97.115385    101\n",
       "6531        Dumbbbb      boo  johnson20524  100.000000     93\n",
       "42276    brianlee15      boo  gentleman888  100.000000     90\n",
       "52834       dan5120      boo       Bignana   89.795918     88\n",
       "87322     kawhi5566      boo       doraBBO  100.000000     88\n",
       "66820     fukawa947      boo       wen9008  100.000000     83\n",
       "2683        Bignana     push     Induction   70.909091     78\n",
       "95147    leo8064047     push        haudai  100.000000     78\n",
       "67750    galilei503     push        haudai  100.000000     78\n",
       "17811          Mews      boo       Bignana  100.000000     76\n",
       "139075     tom282f3      boo      ecmvm123   96.103896     74\n",
       "65559      fr346342     push      ecmvm123   83.720930     72\n",
       "115186        ppony      boo      uhbygv45   90.277778     65\n",
       "12850            KA      boo        kid725   95.522388     64\n",
       "131681    spaceview      boo   taipeixcity  100.000000     60"
      ]
     },
     "execution_count": 69,
     "metadata": {
      "tags": []
     },
     "output_type": "execute_result"
    }
   ],
   "source": [
    "temp_rnk[temp_rnk.push_tag != 'neutral'].sort_values('cnt_y', ascending=False)[:20]"
   ]
  },
  {
   "cell_type": "code",
   "execution_count": 0,
   "metadata": {
    "colab": {
     "base_uri": "https://localhost:8080/",
     "height": 762
    },
    "colab_type": "code",
    "collapsed": true,
    "id": "nh2FjTvriDjg",
    "outputId": "bfeb4f38-4c5c-48d1-8859-08240d5def9e"
   },
   "outputs": [
    {
     "data": {
      "text/html": [
       "<div>\n",
       "<style scoped>\n",
       "    .dataframe tbody tr th:only-of-type {\n",
       "        vertical-align: middle;\n",
       "    }\n",
       "\n",
       "    .dataframe tbody tr th {\n",
       "        vertical-align: top;\n",
       "    }\n",
       "\n",
       "    .dataframe thead th {\n",
       "        text-align: right;\n",
       "    }\n",
       "</style>\n",
       "<table border=\"1\" class=\"dataframe\">\n",
       "  <thead>\n",
       "    <tr style=\"text-align: right;\">\n",
       "      <th></th>\n",
       "      <th>source</th>\n",
       "      <th>target</th>\n",
       "      <th>push_tag</th>\n",
       "      <th>cnt</th>\n",
       "    </tr>\n",
       "  </thead>\n",
       "  <tbody>\n",
       "    <tr>\n",
       "      <th>2153647</th>\n",
       "      <td>w09351500</td>\n",
       "      <td>yangyunjie</td>\n",
       "      <td>push</td>\n",
       "      <td>293</td>\n",
       "    </tr>\n",
       "    <tr>\n",
       "      <th>2153640</th>\n",
       "      <td>w09351500</td>\n",
       "      <td>ptt80357</td>\n",
       "      <td>boo</td>\n",
       "      <td>86</td>\n",
       "    </tr>\n",
       "    <tr>\n",
       "      <th>2153643</th>\n",
       "      <td>w09351500</td>\n",
       "      <td>wade0130</td>\n",
       "      <td>push</td>\n",
       "      <td>56</td>\n",
       "    </tr>\n",
       "    <tr>\n",
       "      <th>2153629</th>\n",
       "      <td>w09351500</td>\n",
       "      <td>askingts</td>\n",
       "      <td>boo</td>\n",
       "      <td>23</td>\n",
       "    </tr>\n",
       "    <tr>\n",
       "      <th>2153626</th>\n",
       "      <td>w09351500</td>\n",
       "      <td>CTC0115</td>\n",
       "      <td>boo</td>\n",
       "      <td>5</td>\n",
       "    </tr>\n",
       "    <tr>\n",
       "      <th>2153646</th>\n",
       "      <td>w09351500</td>\n",
       "      <td>yangyunjie</td>\n",
       "      <td>neutral</td>\n",
       "      <td>5</td>\n",
       "    </tr>\n",
       "    <tr>\n",
       "      <th>2153634</th>\n",
       "      <td>w09351500</td>\n",
       "      <td>excell</td>\n",
       "      <td>boo</td>\n",
       "      <td>5</td>\n",
       "    </tr>\n",
       "    <tr>\n",
       "      <th>2153631</th>\n",
       "      <td>w09351500</td>\n",
       "      <td>br06</td>\n",
       "      <td>boo</td>\n",
       "      <td>4</td>\n",
       "    </tr>\n",
       "    <tr>\n",
       "      <th>2153633</th>\n",
       "      <td>w09351500</td>\n",
       "      <td>cycling</td>\n",
       "      <td>boo</td>\n",
       "      <td>4</td>\n",
       "    </tr>\n",
       "    <tr>\n",
       "      <th>2153635</th>\n",
       "      <td>w09351500</td>\n",
       "      <td>kenjohn</td>\n",
       "      <td>boo</td>\n",
       "      <td>4</td>\n",
       "    </tr>\n",
       "    <tr>\n",
       "      <th>2153627</th>\n",
       "      <td>w09351500</td>\n",
       "      <td>ai770116</td>\n",
       "      <td>boo</td>\n",
       "      <td>4</td>\n",
       "    </tr>\n",
       "    <tr>\n",
       "      <th>2153641</th>\n",
       "      <td>w09351500</td>\n",
       "      <td>ptt80357</td>\n",
       "      <td>neutral</td>\n",
       "      <td>3</td>\n",
       "    </tr>\n",
       "    <tr>\n",
       "      <th>2153644</th>\n",
       "      <td>w09351500</td>\n",
       "      <td>yamatobar</td>\n",
       "      <td>boo</td>\n",
       "      <td>3</td>\n",
       "    </tr>\n",
       "    <tr>\n",
       "      <th>2153645</th>\n",
       "      <td>w09351500</td>\n",
       "      <td>yamatobar</td>\n",
       "      <td>neutral</td>\n",
       "      <td>2</td>\n",
       "    </tr>\n",
       "    <tr>\n",
       "      <th>2153642</th>\n",
       "      <td>w09351500</td>\n",
       "      <td>ptt80357</td>\n",
       "      <td>push</td>\n",
       "      <td>1</td>\n",
       "    </tr>\n",
       "    <tr>\n",
       "      <th>2153637</th>\n",
       "      <td>w09351500</td>\n",
       "      <td>musashi023</td>\n",
       "      <td>neutral</td>\n",
       "      <td>1</td>\n",
       "    </tr>\n",
       "    <tr>\n",
       "      <th>2153639</th>\n",
       "      <td>w09351500</td>\n",
       "      <td>ncdonalds123</td>\n",
       "      <td>neutral</td>\n",
       "      <td>1</td>\n",
       "    </tr>\n",
       "    <tr>\n",
       "      <th>2153638</th>\n",
       "      <td>w09351500</td>\n",
       "      <td>myfancy</td>\n",
       "      <td>push</td>\n",
       "      <td>1</td>\n",
       "    </tr>\n",
       "    <tr>\n",
       "      <th>2153636</th>\n",
       "      <td>w09351500</td>\n",
       "      <td>mithralin</td>\n",
       "      <td>push</td>\n",
       "      <td>1</td>\n",
       "    </tr>\n",
       "    <tr>\n",
       "      <th>2153632</th>\n",
       "      <td>w09351500</td>\n",
       "      <td>caeasonfb</td>\n",
       "      <td>neutral</td>\n",
       "      <td>1</td>\n",
       "    </tr>\n",
       "    <tr>\n",
       "      <th>2153630</th>\n",
       "      <td>w09351500</td>\n",
       "      <td>askingts</td>\n",
       "      <td>neutral</td>\n",
       "      <td>1</td>\n",
       "    </tr>\n",
       "    <tr>\n",
       "      <th>2153628</th>\n",
       "      <td>w09351500</td>\n",
       "      <td>ai770116</td>\n",
       "      <td>neutral</td>\n",
       "      <td>1</td>\n",
       "    </tr>\n",
       "    <tr>\n",
       "      <th>2153648</th>\n",
       "      <td>w09351500</td>\n",
       "      <td>yoyoflag</td>\n",
       "      <td>boo</td>\n",
       "      <td>1</td>\n",
       "    </tr>\n",
       "  </tbody>\n",
       "</table>\n",
       "</div>"
      ],
      "text/plain": [
       "            source        target push_tag  cnt\n",
       "2153647  w09351500    yangyunjie     push  293\n",
       "2153640  w09351500      ptt80357      boo   86\n",
       "2153643  w09351500      wade0130     push   56\n",
       "2153629  w09351500      askingts      boo   23\n",
       "2153626  w09351500       CTC0115      boo    5\n",
       "2153646  w09351500    yangyunjie  neutral    5\n",
       "2153634  w09351500        excell      boo    5\n",
       "2153631  w09351500          br06      boo    4\n",
       "2153633  w09351500       cycling      boo    4\n",
       "2153635  w09351500       kenjohn      boo    4\n",
       "2153627  w09351500      ai770116      boo    4\n",
       "2153641  w09351500      ptt80357  neutral    3\n",
       "2153644  w09351500     yamatobar      boo    3\n",
       "2153645  w09351500     yamatobar  neutral    2\n",
       "2153642  w09351500      ptt80357     push    1\n",
       "2153637  w09351500    musashi023  neutral    1\n",
       "2153639  w09351500  ncdonalds123  neutral    1\n",
       "2153638  w09351500       myfancy     push    1\n",
       "2153636  w09351500     mithralin     push    1\n",
       "2153632  w09351500     caeasonfb  neutral    1\n",
       "2153630  w09351500      askingts  neutral    1\n",
       "2153628  w09351500      ai770116  neutral    1\n",
       "2153648  w09351500      yoyoflag      boo    1"
      ]
     },
     "execution_count": 67,
     "metadata": {
      "tags": []
     },
     "output_type": "execute_result"
    }
   ],
   "source": [
    "reply_df_sum[reply_df_sum.source == 'w09351500'].sort_values('cnt', ascending=False)"
   ]
  },
  {
   "cell_type": "markdown",
   "metadata": {
    "colab_type": "text",
    "id": "hhQ4E2exiDnm"
   },
   "source": [
    "# try inverse: Volume distribution"
   ]
  },
  {
   "cell_type": "code",
   "execution_count": 0,
   "metadata": {
    "colab": {},
    "colab_type": "code",
    "id": "sU9YmgE8P9G9"
   },
   "outputs": [],
   "source": [
    "fil_cond = reply_df_sum.cnt > 2\n",
    "\n",
    "reply_df_sum_pct_inv = reply_df_sum[fil_cond].groupby(['target', 'push_tag', 'source']\\\n",
    "                   ).agg({'cnt':'sum'}).groupby(level=[0, 1]).apply(lambda x:100*x/float(x.sum()))"
   ]
  },
  {
   "cell_type": "code",
   "execution_count": 0,
   "metadata": {
    "colab": {},
    "colab_type": "code",
    "id": "cIXP17h1xmBg"
   },
   "outputs": [],
   "source": [
    "reply_df_sum_pct_inv = reply_df_sum_pct_inv.reset_index()"
   ]
  },
  {
   "cell_type": "code",
   "execution_count": 0,
   "metadata": {
    "colab": {},
    "colab_type": "code",
    "id": "jBtsNTZ0xmEm"
   },
   "outputs": [],
   "source": [
    "reply_df_sum_fn_inv = reply_df_sum_pct_inv.merge(reply_df_sum, how='left', on=['source', 'target', 'push_tag'])"
   ]
  },
  {
   "cell_type": "code",
   "execution_count": 0,
   "metadata": {
    "colab": {
     "base_uri": "https://localhost:8080/",
     "height": 204
    },
    "colab_type": "code",
    "id": "sup4JdlbyxXo",
    "outputId": "637d63c1-e25d-4110-bec9-b98c971f0e0f"
   },
   "outputs": [
    {
     "data": {
      "text/html": [
       "<div>\n",
       "<style scoped>\n",
       "    .dataframe tbody tr th:only-of-type {\n",
       "        vertical-align: middle;\n",
       "    }\n",
       "\n",
       "    .dataframe tbody tr th {\n",
       "        vertical-align: top;\n",
       "    }\n",
       "\n",
       "    .dataframe thead th {\n",
       "        text-align: right;\n",
       "    }\n",
       "</style>\n",
       "<table border=\"1\" class=\"dataframe\">\n",
       "  <thead>\n",
       "    <tr style=\"text-align: right;\">\n",
       "      <th></th>\n",
       "      <th>target</th>\n",
       "      <th>push_tag</th>\n",
       "      <th>source</th>\n",
       "      <th>cnt_x</th>\n",
       "      <th>cnt_y</th>\n",
       "    </tr>\n",
       "  </thead>\n",
       "  <tbody>\n",
       "    <tr>\n",
       "      <th>0</th>\n",
       "      <td></td>\n",
       "      <td>boo</td>\n",
       "      <td>ElizabethXIV</td>\n",
       "      <td>13.513514</td>\n",
       "      <td>5</td>\n",
       "    </tr>\n",
       "    <tr>\n",
       "      <th>1</th>\n",
       "      <td></td>\n",
       "      <td>boo</td>\n",
       "      <td>cowardlyman</td>\n",
       "      <td>13.513514</td>\n",
       "      <td>5</td>\n",
       "    </tr>\n",
       "    <tr>\n",
       "      <th>2</th>\n",
       "      <td></td>\n",
       "      <td>boo</td>\n",
       "      <td>evildewk</td>\n",
       "      <td>10.810811</td>\n",
       "      <td>4</td>\n",
       "    </tr>\n",
       "    <tr>\n",
       "      <th>3</th>\n",
       "      <td></td>\n",
       "      <td>boo</td>\n",
       "      <td>fragment1000</td>\n",
       "      <td>27.027027</td>\n",
       "      <td>10</td>\n",
       "    </tr>\n",
       "    <tr>\n",
       "      <th>4</th>\n",
       "      <td></td>\n",
       "      <td>boo</td>\n",
       "      <td>frtwwilo</td>\n",
       "      <td>8.108108</td>\n",
       "      <td>3</td>\n",
       "    </tr>\n",
       "  </tbody>\n",
       "</table>\n",
       "</div>"
      ],
      "text/plain": [
       "  target push_tag        source      cnt_x  cnt_y\n",
       "0             boo  ElizabethXIV  13.513514      5\n",
       "1             boo   cowardlyman  13.513514      5\n",
       "2             boo      evildewk  10.810811      4\n",
       "3             boo  fragment1000  27.027027     10\n",
       "4             boo      frtwwilo   8.108108      3"
      ]
     },
     "execution_count": 78,
     "metadata": {
      "tags": []
     },
     "output_type": "execute_result"
    }
   ],
   "source": [
    "reply_df_sum_fn_inv.head()"
   ]
  },
  {
   "cell_type": "code",
   "execution_count": 0,
   "metadata": {
    "colab": {},
    "colab_type": "code",
    "id": "GGTpXwGyxmHY"
   },
   "outputs": [],
   "source": [
    "top_n_kol = author_attr.sort_values('push', ascending=False)[:].Id\n",
    "\n",
    "#threshold is 70%\n",
    "cond1 = reply_df_sum_fn_inv.cnt_x > 10\n",
    "cond2 = reply_df_sum_fn_inv.cnt_y > 30\n",
    "cond3 = reply_df_sum_fn_inv.target.isin(top_n_kol)\n",
    "\n",
    "temp_rnk = reply_df_sum_fn_inv[ cond1 & cond2 & cond3].sort_values('cnt_y', ascending=False)"
   ]
  },
  {
   "cell_type": "code",
   "execution_count": 0,
   "metadata": {
    "colab": {
     "base_uri": "https://localhost:8080/",
     "height": 669
    },
    "colab_type": "code",
    "id": "fk9iK8aEyjkI",
    "outputId": "6b22db17-6824-4d6b-9de0-0ea67cb7d8d7"
   },
   "outputs": [
    {
     "data": {
      "text/html": [
       "<div>\n",
       "<style scoped>\n",
       "    .dataframe tbody tr th:only-of-type {\n",
       "        vertical-align: middle;\n",
       "    }\n",
       "\n",
       "    .dataframe tbody tr th {\n",
       "        vertical-align: top;\n",
       "    }\n",
       "\n",
       "    .dataframe thead th {\n",
       "        text-align: right;\n",
       "    }\n",
       "</style>\n",
       "<table border=\"1\" class=\"dataframe\">\n",
       "  <thead>\n",
       "    <tr style=\"text-align: right;\">\n",
       "      <th></th>\n",
       "      <th>target</th>\n",
       "      <th>push_tag</th>\n",
       "      <th>source</th>\n",
       "      <th>cnt_x</th>\n",
       "      <th>cnt_y</th>\n",
       "    </tr>\n",
       "  </thead>\n",
       "  <tbody>\n",
       "    <tr>\n",
       "      <th>148880</th>\n",
       "      <td>yangyunjie</td>\n",
       "      <td>push</td>\n",
       "      <td>w09351500</td>\n",
       "      <td>98.986486</td>\n",
       "      <td>293</td>\n",
       "    </tr>\n",
       "    <tr>\n",
       "      <th>48355</th>\n",
       "      <td>c77110901</td>\n",
       "      <td>push</td>\n",
       "      <td>a382773</td>\n",
       "      <td>68.766404</td>\n",
       "      <td>262</td>\n",
       "    </tr>\n",
       "    <tr>\n",
       "      <th>150073</th>\n",
       "      <td>younglol</td>\n",
       "      <td>push</td>\n",
       "      <td>a382773</td>\n",
       "      <td>65.048544</td>\n",
       "      <td>134</td>\n",
       "    </tr>\n",
       "    <tr>\n",
       "      <th>142975</th>\n",
       "      <td>wade0130</td>\n",
       "      <td>push</td>\n",
       "      <td>yangyunjie</td>\n",
       "      <td>51.250000</td>\n",
       "      <td>123</td>\n",
       "    </tr>\n",
       "    <tr>\n",
       "      <th>24822</th>\n",
       "      <td>SC5566</td>\n",
       "      <td>push</td>\n",
       "      <td>yangyunjie</td>\n",
       "      <td>100.000000</td>\n",
       "      <td>85</td>\n",
       "    </tr>\n",
       "    <tr>\n",
       "      <th>144125</th>\n",
       "      <td>wen9008</td>\n",
       "      <td>push</td>\n",
       "      <td>fcuk9981</td>\n",
       "      <td>35.443038</td>\n",
       "      <td>84</td>\n",
       "    </tr>\n",
       "    <tr>\n",
       "      <th>73330</th>\n",
       "      <td>haudai</td>\n",
       "      <td>push</td>\n",
       "      <td>leo8064047</td>\n",
       "      <td>46.428571</td>\n",
       "      <td>78</td>\n",
       "    </tr>\n",
       "    <tr>\n",
       "      <th>73327</th>\n",
       "      <td>haudai</td>\n",
       "      <td>push</td>\n",
       "      <td>galilei503</td>\n",
       "      <td>46.428571</td>\n",
       "      <td>78</td>\n",
       "    </tr>\n",
       "    <tr>\n",
       "      <th>12685</th>\n",
       "      <td>Induction</td>\n",
       "      <td>push</td>\n",
       "      <td>Bignana</td>\n",
       "      <td>44.067797</td>\n",
       "      <td>78</td>\n",
       "    </tr>\n",
       "    <tr>\n",
       "      <th>66271</th>\n",
       "      <td>fr346342</td>\n",
       "      <td>push</td>\n",
       "      <td>SC5566</td>\n",
       "      <td>100.000000</td>\n",
       "      <td>77</td>\n",
       "    </tr>\n",
       "    <tr>\n",
       "      <th>74593</th>\n",
       "      <td>hizo</td>\n",
       "      <td>push</td>\n",
       "      <td>linchen1121</td>\n",
       "      <td>23.529412</td>\n",
       "      <td>76</td>\n",
       "    </tr>\n",
       "    <tr>\n",
       "      <th>48359</th>\n",
       "      <td>c77110901</td>\n",
       "      <td>push</td>\n",
       "      <td>younglol</td>\n",
       "      <td>19.422572</td>\n",
       "      <td>74</td>\n",
       "    </tr>\n",
       "    <tr>\n",
       "      <th>61639</th>\n",
       "      <td>ecmvm123</td>\n",
       "      <td>push</td>\n",
       "      <td>fr346342</td>\n",
       "      <td>56.250000</td>\n",
       "      <td>72</td>\n",
       "    </tr>\n",
       "    <tr>\n",
       "      <th>111389</th>\n",
       "      <td>ptt80357</td>\n",
       "      <td>push</td>\n",
       "      <td>dawn855532</td>\n",
       "      <td>14.193548</td>\n",
       "      <td>66</td>\n",
       "    </tr>\n",
       "    <tr>\n",
       "      <th>36077</th>\n",
       "      <td>a382773</td>\n",
       "      <td>push</td>\n",
       "      <td>younglol</td>\n",
       "      <td>52.066116</td>\n",
       "      <td>63</td>\n",
       "    </tr>\n",
       "    <tr>\n",
       "      <th>97297</th>\n",
       "      <td>lunashining</td>\n",
       "      <td>push</td>\n",
       "      <td>sharkimage</td>\n",
       "      <td>52.991453</td>\n",
       "      <td>62</td>\n",
       "    </tr>\n",
       "    <tr>\n",
       "      <th>150076</th>\n",
       "      <td>younglol</td>\n",
       "      <td>push</td>\n",
       "      <td>ilovetaylor</td>\n",
       "      <td>29.126214</td>\n",
       "      <td>60</td>\n",
       "    </tr>\n",
       "    <tr>\n",
       "      <th>142973</th>\n",
       "      <td>wade0130</td>\n",
       "      <td>push</td>\n",
       "      <td>ecmvm123</td>\n",
       "      <td>24.166667</td>\n",
       "      <td>58</td>\n",
       "    </tr>\n",
       "    <tr>\n",
       "      <th>107961</th>\n",
       "      <td>pate41</td>\n",
       "      <td>push</td>\n",
       "      <td>sharkimage</td>\n",
       "      <td>44.961240</td>\n",
       "      <td>58</td>\n",
       "    </tr>\n",
       "    <tr>\n",
       "      <th>36076</th>\n",
       "      <td>a382773</td>\n",
       "      <td>push</td>\n",
       "      <td>c77110901</td>\n",
       "      <td>47.933884</td>\n",
       "      <td>58</td>\n",
       "    </tr>\n",
       "  </tbody>\n",
       "</table>\n",
       "</div>"
      ],
      "text/plain": [
       "             target push_tag       source       cnt_x  cnt_y\n",
       "148880   yangyunjie     push    w09351500   98.986486    293\n",
       "48355     c77110901     push      a382773   68.766404    262\n",
       "150073     younglol     push      a382773   65.048544    134\n",
       "142975     wade0130     push   yangyunjie   51.250000    123\n",
       "24822        SC5566     push   yangyunjie  100.000000     85\n",
       "144125      wen9008     push     fcuk9981   35.443038     84\n",
       "73330        haudai     push   leo8064047   46.428571     78\n",
       "73327        haudai     push   galilei503   46.428571     78\n",
       "12685     Induction     push      Bignana   44.067797     78\n",
       "66271      fr346342     push       SC5566  100.000000     77\n",
       "74593          hizo     push  linchen1121   23.529412     76\n",
       "48359     c77110901     push     younglol   19.422572     74\n",
       "61639      ecmvm123     push     fr346342   56.250000     72\n",
       "111389     ptt80357     push   dawn855532   14.193548     66\n",
       "36077       a382773     push     younglol   52.066116     63\n",
       "97297   lunashining     push   sharkimage   52.991453     62\n",
       "150076     younglol     push  ilovetaylor   29.126214     60\n",
       "142973     wade0130     push     ecmvm123   24.166667     58\n",
       "107961       pate41     push   sharkimage   44.961240     58\n",
       "36076       a382773     push    c77110901   47.933884     58"
      ]
     },
     "execution_count": 113,
     "metadata": {
      "tags": []
     },
     "output_type": "execute_result"
    }
   ],
   "source": [
    "temp_rnk[temp_rnk.push_tag == 'push'][:20]"
   ]
  },
  {
   "cell_type": "code",
   "execution_count": 0,
   "metadata": {
    "colab": {},
    "colab_type": "code",
    "id": "-vLF6HDK13E-"
   },
   "outputs": [],
   "source": [
    "#author_attr.sort_values('push', ascending=False)[:100]"
   ]
  },
  {
   "cell_type": "code",
   "execution_count": 0,
   "metadata": {
    "colab": {
     "base_uri": "https://localhost:8080/",
     "height": 419
    },
    "colab_type": "code",
    "id": "cWc-BrzjyjnC",
    "outputId": "0cb6e0d6-87b7-4747-9b08-ceed66cfb501"
   },
   "outputs": [
    {
     "data": {
      "text/html": [
       "<div>\n",
       "<style scoped>\n",
       "    .dataframe tbody tr th:only-of-type {\n",
       "        vertical-align: middle;\n",
       "    }\n",
       "\n",
       "    .dataframe tbody tr th {\n",
       "        vertical-align: top;\n",
       "    }\n",
       "\n",
       "    .dataframe thead th {\n",
       "        text-align: right;\n",
       "    }\n",
       "</style>\n",
       "<table border=\"1\" class=\"dataframe\">\n",
       "  <thead>\n",
       "    <tr style=\"text-align: right;\">\n",
       "      <th></th>\n",
       "      <th>source</th>\n",
       "      <th>target</th>\n",
       "      <th>push_tag</th>\n",
       "      <th>cnt</th>\n",
       "    </tr>\n",
       "  </thead>\n",
       "  <tbody>\n",
       "    <tr>\n",
       "      <th>435926</th>\n",
       "      <td>a382773</td>\n",
       "      <td>c77110901</td>\n",
       "      <td>push</td>\n",
       "      <td>262</td>\n",
       "    </tr>\n",
       "    <tr>\n",
       "      <th>2279872</th>\n",
       "      <td>younglol</td>\n",
       "      <td>c77110901</td>\n",
       "      <td>push</td>\n",
       "      <td>74</td>\n",
       "    </tr>\n",
       "    <tr>\n",
       "      <th>1156784</th>\n",
       "      <td>ilovetaylor</td>\n",
       "      <td>c77110901</td>\n",
       "      <td>push</td>\n",
       "      <td>31</td>\n",
       "    </tr>\n",
       "    <tr>\n",
       "      <th>504850</th>\n",
       "      <td>alog</td>\n",
       "      <td>c77110901</td>\n",
       "      <td>neutral</td>\n",
       "      <td>23</td>\n",
       "    </tr>\n",
       "    <tr>\n",
       "      <th>788003</th>\n",
       "      <td>danieloo</td>\n",
       "      <td>c77110901</td>\n",
       "      <td>neutral</td>\n",
       "      <td>21</td>\n",
       "    </tr>\n",
       "    <tr>\n",
       "      <th>...</th>\n",
       "      <td>...</td>\n",
       "      <td>...</td>\n",
       "      <td>...</td>\n",
       "      <td>...</td>\n",
       "    </tr>\n",
       "    <tr>\n",
       "      <th>865414</th>\n",
       "      <td>eatingshit</td>\n",
       "      <td>c77110901</td>\n",
       "      <td>boo</td>\n",
       "      <td>1</td>\n",
       "    </tr>\n",
       "    <tr>\n",
       "      <th>871936</th>\n",
       "      <td>edwardtp</td>\n",
       "      <td>c77110901</td>\n",
       "      <td>neutral</td>\n",
       "      <td>1</td>\n",
       "    </tr>\n",
       "    <tr>\n",
       "      <th>873352</th>\n",
       "      <td>eemail</td>\n",
       "      <td>c77110901</td>\n",
       "      <td>neutral</td>\n",
       "      <td>1</td>\n",
       "    </tr>\n",
       "    <tr>\n",
       "      <th>877745</th>\n",
       "      <td>eko112</td>\n",
       "      <td>c77110901</td>\n",
       "      <td>neutral</td>\n",
       "      <td>1</td>\n",
       "    </tr>\n",
       "    <tr>\n",
       "      <th>2323295</th>\n",
       "      <td>zxxxxxxxxx</td>\n",
       "      <td>c77110901</td>\n",
       "      <td>boo</td>\n",
       "      <td>1</td>\n",
       "    </tr>\n",
       "  </tbody>\n",
       "</table>\n",
       "<p>695 rows × 4 columns</p>\n",
       "</div>"
      ],
      "text/plain": [
       "              source     target push_tag  cnt\n",
       "435926       a382773  c77110901     push  262\n",
       "2279872     younglol  c77110901     push   74\n",
       "1156784  ilovetaylor  c77110901     push   31\n",
       "504850          alog  c77110901  neutral   23\n",
       "788003      danieloo  c77110901  neutral   21\n",
       "...              ...        ...      ...  ...\n",
       "865414    eatingshit  c77110901      boo    1\n",
       "871936      edwardtp  c77110901  neutral    1\n",
       "873352        eemail  c77110901  neutral    1\n",
       "877745        eko112  c77110901  neutral    1\n",
       "2323295   zxxxxxxxxx  c77110901      boo    1\n",
       "\n",
       "[695 rows x 4 columns]"
      ]
     },
     "execution_count": 112,
     "metadata": {
      "tags": []
     },
     "output_type": "execute_result"
    }
   ],
   "source": [
    "reply_df_sum[reply_df_sum.target == 'c77110901'].sort_values('cnt', ascending=False)\n",
    "#y30048"
   ]
  },
  {
   "cell_type": "code",
   "execution_count": 0,
   "metadata": {
    "colab": {},
    "colab_type": "code",
    "id": "0GqQB-Vcyjpq"
   },
   "outputs": [],
   "source": []
  },
  {
   "cell_type": "code",
   "execution_count": 0,
   "metadata": {
    "colab": {
     "base_uri": "https://localhost:8080/",
     "height": 134
    },
    "colab_type": "code",
    "id": "_5L_BmndgMkG",
    "outputId": "d7ca39c2-39a4-4745-b589-bf79c6002147"
   },
   "outputs": [
    {
     "ename": "SyntaxError",
     "evalue": "ignored",
     "output_type": "error",
     "traceback": [
      "\u001b[0;36m  File \u001b[0;32m\"<ipython-input-36-881860886a8f>\"\u001b[0;36m, line \u001b[0;32m3\u001b[0m\n\u001b[0;31m    https://pttpedia.fandom.com/zh/wiki/Gossiping%E6%9D%BF_(%E5%85%AB%E5%8D%A6%E6%9D%BF)\u001b[0m\n\u001b[0m           ^\u001b[0m\n\u001b[0;31mSyntaxError\u001b[0m\u001b[0;31m:\u001b[0m invalid syntax\n"
     ]
    }
   ],
   "source": [
    "known_id\n",
    "\n",
    "https://pttpedia.fandom.com/zh/wiki/Gossiping%E6%9D%BF_(%E5%85%AB%E5%8D%A6%E6%9D%BF)\n",
    "現任板主\n",
    "RS5566/Bignana/RedMango/arsonlolita"
   ]
  },
  {
   "cell_type": "code",
   "execution_count": 0,
   "metadata": {
    "colab": {},
    "colab_type": "code",
    "id": "7O51E2gIgMnY"
   },
   "outputs": [],
   "source": []
  },
  {
   "cell_type": "code",
   "execution_count": 0,
   "metadata": {
    "colab": {},
    "colab_type": "code",
    "id": "mnKdZfukgMo5"
   },
   "outputs": [],
   "source": []
  },
  {
   "cell_type": "code",
   "execution_count": 0,
   "metadata": {
    "colab": {},
    "colab_type": "code",
    "id": "wqqanHy22fEG"
   },
   "outputs": [],
   "source": [
    "#it seems would be a wrong convert, because each relation could only get last record without weight sum\n",
    "#G = nx.from_pandas_edgelist(reply_df, source='source', target='target', create_using=nx.DiGraph())"
   ]
  },
  {
   "cell_type": "markdown",
   "metadata": {
    "colab_type": "text",
    "id": "c6Z8_vv_skOB"
   },
   "source": [
    "# statistics"
   ]
  },
  {
   "cell_type": "code",
   "execution_count": 0,
   "metadata": {
    "colab": {
     "base_uri": "https://localhost:8080/",
     "height": 949
    },
    "colab_type": "code",
    "id": "zGF9mKrvskQZ",
    "outputId": "3ceedc83-6ad0-490c-91b4-a9f953009f93"
   },
   "outputs": [
    {
     "data": {
      "text/html": [
       "<div>\n",
       "<style scoped>\n",
       "    .dataframe tbody tr th:only-of-type {\n",
       "        vertical-align: middle;\n",
       "    }\n",
       "\n",
       "    .dataframe tbody tr th {\n",
       "        vertical-align: top;\n",
       "    }\n",
       "\n",
       "    .dataframe thead th {\n",
       "        text-align: right;\n",
       "    }\n",
       "</style>\n",
       "<table border=\"1\" class=\"dataframe\">\n",
       "  <thead>\n",
       "    <tr style=\"text-align: right;\">\n",
       "      <th></th>\n",
       "      <th>article_id</th>\n",
       "      <th>article_title</th>\n",
       "      <th>author</th>\n",
       "      <th>board</th>\n",
       "      <th>content</th>\n",
       "      <th>date</th>\n",
       "      <th>ip</th>\n",
       "      <th>messages</th>\n",
       "      <th>all</th>\n",
       "      <th>boo</th>\n",
       "      <th>count</th>\n",
       "      <th>neutral</th>\n",
       "      <th>push</th>\n",
       "      <th>re_flag</th>\n",
       "    </tr>\n",
       "  </thead>\n",
       "  <tbody>\n",
       "    <tr>\n",
       "      <th>0</th>\n",
       "      <td>M.1571141315.A.A38</td>\n",
       "      <td>[新聞] 台灣民眾黨第二波提名 移民署專員陳允萍</td>\n",
       "      <td>batt0909</td>\n",
       "      <td>HatePolitics</td>\n",
       "      <td>1.新聞網址 https://tinyurl.com/y59nj5jl 2.新聞來源 聯合 ...</td>\n",
       "      <td>2019-10-15 20:08:31</td>\n",
       "      <td>118.171.54.225</td>\n",
       "      <td>[{'push_content': '不是台東人 不過 聽過他的事蹟 很棒', 'push_...</td>\n",
       "      <td>11</td>\n",
       "      <td>0</td>\n",
       "      <td>9</td>\n",
       "      <td>2</td>\n",
       "      <td>9</td>\n",
       "      <td>False</td>\n",
       "    </tr>\n",
       "    <tr>\n",
       "      <th>0</th>\n",
       "      <td>M.1565594449.A.3F0</td>\n",
       "      <td></td>\n",
       "      <td></td>\n",
       "      <td>HatePolitics</td>\n",
       "      <td>作者: kero2377 (賤畜福利熊) 看板: HatePolitics 標題: [討論]...</td>\n",
       "      <td>NaT</td>\n",
       "      <td>123.194.10.195</td>\n",
       "      <td>[{'push_content': '我只看見郭台銘蓄勢以待', 'push_ipdatet...</td>\n",
       "      <td>189</td>\n",
       "      <td>11</td>\n",
       "      <td>64</td>\n",
       "      <td>103</td>\n",
       "      <td>75</td>\n",
       "      <td>False</td>\n",
       "    </tr>\n",
       "    <tr>\n",
       "      <th>0</th>\n",
       "      <td>M.1570175294.A.C5E</td>\n",
       "      <td>[公告] 政治黑特板板規_20191004_V5.4</td>\n",
       "      <td>mark2165</td>\n",
       "      <td>HatePolitics</td>\n",
       "      <td>第一章 總則 1.本板接受中華民國政府頒布之法律，教育部學術網路公約，以及PTT站方制定之站...</td>\n",
       "      <td>2019-10-04 15:48:12</td>\n",
       "      <td>111.242.230.238</td>\n",
       "      <td>[{'push_content': '修了什麼也講一下吧', 'push_ipdatetim...</td>\n",
       "      <td>5</td>\n",
       "      <td>0</td>\n",
       "      <td>2</td>\n",
       "      <td>3</td>\n",
       "      <td>2</td>\n",
       "      <td>False</td>\n",
       "    </tr>\n",
       "    <tr>\n",
       "      <th>0</th>\n",
       "      <td>M.1570254569.A.D42</td>\n",
       "      <td>[討論] 政黑投票結果整理</td>\n",
       "      <td>kero2377</td>\n",
       "      <td>HatePolitics</td>\n",
       "      <td>總統你錯了投票結果 投票結果:(共有 228 人投票每人最多可投 5 票) 選 項 政治鬥爭...</td>\n",
       "      <td>2019-10-05 13:49:26</td>\n",
       "      <td>123.194.10.195</td>\n",
       "      <td>[{'push_content': '厚氣氣氣', 'push_ipdatetime': '...</td>\n",
       "      <td>27</td>\n",
       "      <td>4</td>\n",
       "      <td>8</td>\n",
       "      <td>11</td>\n",
       "      <td>12</td>\n",
       "      <td>False</td>\n",
       "    </tr>\n",
       "    <tr>\n",
       "      <th>0</th>\n",
       "      <td>M.1570332617.A.90A</td>\n",
       "      <td>[公告] 2020選戰大預測活動開跑!!!!!!!!!!!</td>\n",
       "      <td>kero2377</td>\n",
       "      <td>HatePolitics</td>\n",
       "      <td>2020選戰預測大活動正式開跑 2020大選將至 各家版友的預測文也如雨後春筍般紛紛出爐 所...</td>\n",
       "      <td>2019-10-06 11:30:15</td>\n",
       "      <td>123.194.10.195</td>\n",
       "      <td>[{'push_content': '推', 'push_ipdatetime': '110...</td>\n",
       "      <td>30</td>\n",
       "      <td>6</td>\n",
       "      <td>5</td>\n",
       "      <td>13</td>\n",
       "      <td>11</td>\n",
       "      <td>False</td>\n",
       "    </tr>\n",
       "    <tr>\n",
       "      <th>...</th>\n",
       "      <td>...</td>\n",
       "      <td>...</td>\n",
       "      <td>...</td>\n",
       "      <td>...</td>\n",
       "      <td>...</td>\n",
       "      <td>...</td>\n",
       "      <td>...</td>\n",
       "      <td>...</td>\n",
       "      <td>...</td>\n",
       "      <td>...</td>\n",
       "      <td>...</td>\n",
       "      <td>...</td>\n",
       "      <td>...</td>\n",
       "      <td>...</td>\n",
       "    </tr>\n",
       "    <tr>\n",
       "      <th>0</th>\n",
       "      <td>M.1571143570.A.242</td>\n",
       "      <td>[討論] 韓國瑜再撐10天就換不掉了</td>\n",
       "      <td>RichWomen</td>\n",
       "      <td>HatePolitics</td>\n",
       "      <td>很清楚麻 不到一個月 韓國瑜就要去中選會登記 現在就是韓國瑜不被換的危急存亡之秋 不換不換不...</td>\n",
       "      <td>2019-10-15 20:46:08</td>\n",
       "      <td>36.224.44.144</td>\n",
       "      <td>[{'push_content': '笑 韓國瑜是初選大勝的最強打者', 'push_ipd...</td>\n",
       "      <td>53</td>\n",
       "      <td>2</td>\n",
       "      <td>15</td>\n",
       "      <td>34</td>\n",
       "      <td>17</td>\n",
       "      <td>False</td>\n",
       "    </tr>\n",
       "    <tr>\n",
       "      <th>0</th>\n",
       "      <td>M.1571143609.A.8FF</td>\n",
       "      <td>Re: [黑特] 台灣社運圈的悲哀與裂痕</td>\n",
       "      <td>ak47good</td>\n",
       "      <td>HatePolitics</td>\n",
       "      <td>: 引述《radiohead56 (L o S e r f a t n e r D)》之銘言...</td>\n",
       "      <td>2019-10-15 20:46:43</td>\n",
       "      <td>61.228.233.77</td>\n",
       "      <td>[{'push_content': '多標吃屎柯糞算嗎? 到處貼特別噁心', 'push_i...</td>\n",
       "      <td>1</td>\n",
       "      <td>0</td>\n",
       "      <td>1</td>\n",
       "      <td>0</td>\n",
       "      <td>1</td>\n",
       "      <td>True</td>\n",
       "    </tr>\n",
       "    <tr>\n",
       "      <th>0</th>\n",
       "      <td>M.1571144004.A.3CD</td>\n",
       "      <td>[新聞] 柯文哲稱時代力量被消化 林濁水打臉狠批</td>\n",
       "      <td>bankingpaul</td>\n",
       "      <td>HatePolitics</td>\n",
       "      <td>媒體：自由 柯文哲稱時代力量被消化 林濁水打臉狠批：龜笑鱉無尾 http://news.lt...</td>\n",
       "      <td>2019-10-15 20:53:22</td>\n",
       "      <td>110.50.159.50</td>\n",
       "      <td>[{'push_content': '那裡狠？', 'push_ipdatetime': '...</td>\n",
       "      <td>8</td>\n",
       "      <td>0</td>\n",
       "      <td>4</td>\n",
       "      <td>4</td>\n",
       "      <td>4</td>\n",
       "      <td>False</td>\n",
       "    </tr>\n",
       "    <tr>\n",
       "      <th>0</th>\n",
       "      <td>M.1571144083.A.90A</td>\n",
       "      <td>[新聞] 雙北申辦亞運 侯友宜：中央地方合作才辦</td>\n",
       "      <td>weni302</td>\n",
       "      <td>HatePolitics</td>\n",
       "      <td>1.新聞網址 https://www.cna.com.tw/news/aspt/201910...</td>\n",
       "      <td>2019-10-15 20:54:41</td>\n",
       "      <td>180.217.141.158</td>\n",
       "      <td>[{'push_content': '卡韓', 'push_ipdatetime': '22...</td>\n",
       "      <td>9</td>\n",
       "      <td>1</td>\n",
       "      <td>3</td>\n",
       "      <td>4</td>\n",
       "      <td>4</td>\n",
       "      <td>False</td>\n",
       "    </tr>\n",
       "    <tr>\n",
       "      <th>0</th>\n",
       "      <td>M.1571144424.A.47A</td>\n",
       "      <td>Re: [討論] 韓導的副手是哪位?</td>\n",
       "      <td>Alfief</td>\n",
       "      <td>HatePolitics</td>\n",
       "      <td>一定是外省籍搭配本省籍 這樣人選就很好猜了 不太可能正副總統候選人都是外省籍</td>\n",
       "      <td>2019-10-15 21:00:22</td>\n",
       "      <td>118.165.131.105</td>\n",
       "      <td>[{'push_content': '期待周金', 'push_ipdatetime': '...</td>\n",
       "      <td>9</td>\n",
       "      <td>0</td>\n",
       "      <td>3</td>\n",
       "      <td>6</td>\n",
       "      <td>3</td>\n",
       "      <td>True</td>\n",
       "    </tr>\n",
       "  </tbody>\n",
       "</table>\n",
       "<p>77421 rows × 14 columns</p>\n",
       "</div>"
      ],
      "text/plain": [
       "            article_id                  article_title  ... push re_flag\n",
       "0   M.1571141315.A.A38       [新聞] 台灣民眾黨第二波提名 移民署專員陳允萍  ...    9   False\n",
       "0   M.1565594449.A.3F0                                 ...   75   False\n",
       "0   M.1570175294.A.C5E     [公告] 政治黑特板板規_20191004_V5.4  ...    2   False\n",
       "0   M.1570254569.A.D42                  [討論] 政黑投票結果整理  ...   12   False\n",
       "0   M.1570332617.A.90A  [公告] 2020選戰大預測活動開跑!!!!!!!!!!!  ...   11   False\n",
       "..                 ...                            ...  ...  ...     ...\n",
       "0   M.1571143570.A.242             [討論] 韓國瑜再撐10天就換不掉了  ...   17   False\n",
       "0   M.1571143609.A.8FF           Re: [黑特] 台灣社運圈的悲哀與裂痕  ...    1    True\n",
       "0   M.1571144004.A.3CD       [新聞] 柯文哲稱時代力量被消化 林濁水打臉狠批  ...    4   False\n",
       "0   M.1571144083.A.90A       [新聞] 雙北申辦亞運 侯友宜：中央地方合作才辦  ...    4   False\n",
       "0   M.1571144424.A.47A             Re: [討論] 韓導的副手是哪位?  ...    3    True\n",
       "\n",
       "[77421 rows x 14 columns]"
      ]
     },
     "execution_count": 32,
     "metadata": {
      "tags": []
     },
     "output_type": "execute_result"
    }
   ],
   "source": [
    "hate_df_t2"
   ]
  },
  {
   "cell_type": "code",
   "execution_count": 0,
   "metadata": {
    "colab": {},
    "colab_type": "code",
    "id": "3ZW_-bgtskTE"
   },
   "outputs": [],
   "source": []
  },
  {
   "cell_type": "code",
   "execution_count": 0,
   "metadata": {
    "colab": {},
    "colab_type": "code",
    "id": "rrPXmc8RskWB"
   },
   "outputs": [],
   "source": []
  },
  {
   "cell_type": "code",
   "execution_count": 0,
   "metadata": {
    "colab": {},
    "colab_type": "code",
    "id": "s3Q0I1-WskYx"
   },
   "outputs": [],
   "source": []
  },
  {
   "cell_type": "markdown",
   "metadata": {
    "colab_type": "text",
    "id": "kY1eTmoDf-V-"
   },
   "source": [
    "features:\n",
    "ptt profiling (source\n",
    "1. create time\n",
    "\n",
    "behavior\n",
    "1. centralization (networking & statistics (distribution)\n",
    "\n",
    "協同性資訊操弄/群控引流  \n",
    "cib? \n",
    "Collaborative Information Behaviour (CIB)\n",
    "collaborative inauthentic behavior\n",
    "cio coordinate influence operatoin\n",
    "cib coordinate inauthentic behavior\n"
   ]
  },
  {
   "cell_type": "code",
   "execution_count": 0,
   "metadata": {
    "colab": {},
    "colab_type": "code",
    "id": "HyfFWgeOf--p"
   },
   "outputs": [],
   "source": []
  },
  {
   "cell_type": "code",
   "execution_count": 0,
   "metadata": {
    "colab": {},
    "colab_type": "code",
    "id": "xzTkpyRnf_BE"
   },
   "outputs": [],
   "source": []
  },
  {
   "cell_type": "markdown",
   "metadata": {
    "colab_type": "text",
    "id": "6PNMzBucIba4"
   },
   "source": [
    "# frequency calculation"
   ]
  },
  {
   "cell_type": "code",
   "execution_count": 0,
   "metadata": {
    "colab": {},
    "colab_type": "code",
    "id": "vBrQeHNRoXPX"
   },
   "outputs": [],
   "source": [
    "training_corpus = hate_df_t2.article_title + ' ' + hate_df_t2.content\n",
    "training_corpus.reset_index(drop=True, inplace=True)\n",
    "training_corpus = training_corpus[training_corpus.notna()]"
   ]
  },
  {
   "cell_type": "code",
   "execution_count": 0,
   "metadata": {
    "colab": {},
    "colab_type": "code",
    "id": "P8dJADHUdjxH"
   },
   "outputs": [],
   "source": [
    "training_corpus = training_corpus[training_corpus.notna()]"
   ]
  },
  {
   "cell_type": "code",
   "execution_count": 0,
   "metadata": {
    "colab": {
     "base_uri": "https://localhost:8080/",
     "height": 54
    },
    "colab_type": "code",
    "id": "3lsPhHITCCO3",
    "outputId": "381d7748-5a83-4e1c-f323-77168393de6a"
   },
   "outputs": [
    {
     "data": {
      "text/plain": [
       "'[討論] 吳釗燮到底是什麼來頭 怎麼這麼大咖？ 經歷：中華民國總統府秘書長、中華民國總統府副秘書長、國家安全會議秘書長 民主進步黨秘書長、行政院大陸委員會主任委員、駐美代表 還在推特大嗆中國官媒 堪稱中華民國史上最硬外交部長 吳澧培是美國銀行家 兒子吳迪在美國的台灣人公共事務會工作 可見得跟美國有特殊關係'"
      ]
     },
     "execution_count": 32,
     "metadata": {
      "tags": []
     },
     "output_type": "execute_result"
    }
   ],
   "source": [
    "training_corpus[0]"
   ]
  },
  {
   "cell_type": "markdown",
   "metadata": {
    "colab_type": "text",
    "id": "rTooI9Ym567Z"
   },
   "source": [
    "#try Tensorflow 2.0 of word2vec"
   ]
  },
  {
   "cell_type": "code",
   "execution_count": 0,
   "metadata": {
    "colab": {},
    "colab_type": "code",
    "id": "DIow5Ovr56-J"
   },
   "outputs": [],
   "source": [
    "embedding_layer = layers.Embedding(1000, 5)"
   ]
  },
  {
   "cell_type": "code",
   "execution_count": 0,
   "metadata": {
    "colab": {
     "base_uri": "https://localhost:8080/",
     "height": 34
    },
    "colab_type": "code",
    "id": "7a-ArdM_Xfnz",
    "outputId": "e25a0206-87c0-43ac-9f81-242f5f853e81"
   },
   "outputs": [
    {
     "data": {
      "text/plain": [
       "<tf.Tensor: id=41, shape=(3,), dtype=int32, numpy=array([4, 5, 6], dtype=int32)>"
      ]
     },
     "execution_count": 55,
     "metadata": {
      "tags": []
     },
     "output_type": "execute_result"
    }
   ],
   "source": [
    "tf.constant([4,5,6])"
   ]
  },
  {
   "cell_type": "code",
   "execution_count": 0,
   "metadata": {
    "colab": {
     "base_uri": "https://localhost:8080/",
     "height": 34
    },
    "colab_type": "code",
    "id": "LeVcLIcE57Al",
    "outputId": "a3811cff-c631-4d67-a8ab-73619e9448be"
   },
   "outputs": [
    {
     "data": {
      "text/plain": [
       "TensorShape([3, 5])"
      ]
     },
     "execution_count": 60,
     "metadata": {
      "tags": []
     },
     "output_type": "execute_result"
    }
   ],
   "source": [
    "result = embedding_layer(tf.constant([4,5,6]))\n",
    "result.shape"
   ]
  },
  {
   "cell_type": "code",
   "execution_count": 0,
   "metadata": {
    "colab": {
     "base_uri": "https://localhost:8080/",
     "height": 34
    },
    "colab_type": "code",
    "id": "vYXcEM6657DI",
    "outputId": "03124b4c-4dd3-4a71-f06a-1920ef426b1d"
   },
   "outputs": [
    {
     "data": {
      "text/plain": [
       "TensorShape([2, 3, 5])"
      ]
     },
     "execution_count": 62,
     "metadata": {
      "tags": []
     },
     "output_type": "execute_result"
    }
   ],
   "source": [
    "result = embedding_layer(tf.constant([[0,1,2],[3,4,6]]))\n",
    "result.shape"
   ]
  },
  {
   "cell_type": "code",
   "execution_count": 0,
   "metadata": {
    "colab": {},
    "colab_type": "code",
    "id": "9Y6HSH3W57FY"
   },
   "outputs": [],
   "source": []
  },
  {
   "cell_type": "markdown",
   "metadata": {
    "colab_type": "text",
    "id": "FjH03m_TV-TW"
   },
   "source": [
    "#try ckip"
   ]
  },
  {
   "cell_type": "code",
   "execution_count": 0,
   "metadata": {
    "colab": {
     "base_uri": "https://localhost:8080/",
     "height": 85
    },
    "colab_type": "code",
    "id": "rn3TSc0PV-Xe",
    "outputId": "b8238cec-747e-4e56-8941-3a382649d5db"
   },
   "outputs": [
    {
     "name": "stderr",
     "output_type": "stream",
     "text": [
      "Downloading...\n",
      "From: https://drive.google.com/uc?id=1efHsY16pxK0lBD2gYCgCTnv1Swstq771\n",
      "To: /content/data.zip\n",
      "1.88GB [00:32, 58.5MB/s]\n"
     ]
    }
   ],
   "source": [
    "data_utils.download_data_gdown(\"./\")\n",
    "#CUDA_VISIBLE_DEVICES environment variable, e.g. \n",
    "os.environ[\"CUDA_VISIBLE_DEVICES\"] = \"0\"\n",
    "#disable_cuda=False, e.g. ws = WS(\"./data\", disable_cuda=False)\n",
    "\n",
    "ws = WS(\"./data\", disable_cuda=False)\n",
    "pos = POS(\"./data\", disable_cuda=False)\n",
    "ner = NER(\"./data\", disable_cuda=False)"
   ]
  },
  {
   "cell_type": "code",
   "execution_count": 0,
   "metadata": {
    "colab": {
     "base_uri": "https://localhost:8080/",
     "height": 34
    },
    "colab_type": "code",
    "id": "L9pULmpJdZH_",
    "outputId": "57217a56-4c87-4522-c118-db81e2eadc25"
   },
   "outputs": [
    {
     "data": {
      "text/plain": [
       "0"
      ]
     },
     "execution_count": 31,
     "metadata": {
      "tags": []
     },
     "output_type": "execute_result"
    }
   ],
   "source": [
    "gc.collect()"
   ]
  },
  {
   "cell_type": "code",
   "execution_count": 0,
   "metadata": {
    "colab": {},
    "colab_type": "code",
    "id": "0EbQa757V-bS"
   },
   "outputs": [],
   "source": [
    "ws_lst = ws(training_corpus[:100])\n",
    "#100 about 10s"
   ]
  },
  {
   "cell_type": "code",
   "execution_count": 0,
   "metadata": {
    "colab": {},
    "colab_type": "code",
    "id": "QamVT9XCc-eZ"
   },
   "outputs": [],
   "source": [
    "#ws_lst[1]\n",
    "pos_sentence_list = pos(ws_lst)"
   ]
  },
  {
   "cell_type": "code",
   "execution_count": 0,
   "metadata": {
    "colab": {},
    "colab_type": "code",
    "id": "C49QXPs75cJv"
   },
   "outputs": [],
   "source": [
    "entity_sentence_list = ner(ws_lst, pos_sentence_list)"
   ]
  },
  {
   "cell_type": "code",
   "execution_count": 0,
   "metadata": {
    "colab": {},
    "colab_type": "code",
    "id": "FoH8OQEwF2oW"
   },
   "outputs": [],
   "source": [
    "tt = []\n",
    "[ tt.extend(x) for x in pos_sentence_list]\n",
    "tt = pd.DataFrame(tt)\n",
    "tt['temp'] = 1\n",
    "tt.groupby([0], as_index=False).count().sort_values('temp', ascending=False)"
   ]
  },
  {
   "cell_type": "code",
   "execution_count": 0,
   "metadata": {
    "colab": {},
    "colab_type": "code",
    "id": "_kL5CMP35cTw"
   },
   "outputs": [],
   "source": [
    "for art_word, art_pos in zip(ws_lst, pos_sentence_list):\n",
    "    for words, pos_pieces in zip(art_word, art_pos):\n",
    "        print(words, pos_pieces)\n",
    "    break"
   ]
  },
  {
   "cell_type": "code",
   "execution_count": 0,
   "metadata": {
    "colab": {},
    "colab_type": "code",
    "id": "zckiN9vc5yrU"
   },
   "outputs": [],
   "source": [
    "w_lst = []\n",
    "for ner_lst in entity_sentence_list:\n",
    "    for word in ner_lst:\n",
    "        if word[2] == 'PERSON':\n",
    "            #print(word)\n",
    "            w_lst.append(word[3])\n",
    "    #break"
   ]
  },
  {
   "cell_type": "code",
   "execution_count": 0,
   "metadata": {
    "colab": {},
    "colab_type": "code",
    "id": "ov1hUR8uIeP2"
   },
   "outputs": [],
   "source": [
    "#tt = pd.DataFrame(ws_lst)\n",
    "tt = pd.DataFrame(w_lst)\n",
    "tt['temp'] = 1\n",
    "tt.groupby([0], as_index=False).count().sort_values('temp', ascending=False)[:20]"
   ]
  },
  {
   "cell_type": "code",
   "execution_count": 0,
   "metadata": {
    "colab": {},
    "colab_type": "code",
    "id": "aq1V0wRMVIeL"
   },
   "outputs": [],
   "source": [
    "#ws_lst\n",
    "\n",
    "#ws_lst[0]\n",
    "#[  y for y  for x in ws_lst][0]\n",
    "\n",
    "\n",
    "tt = []\n",
    "\n",
    "[ tt.extend(x) for x in ws_lst]\n",
    "\n",
    "tt = pd.DataFrame(tt)\n",
    "#tt\n",
    "#tt = pd.DataFrame(w_lst)\n",
    "tt['temp'] = 1\n",
    "#tt\n",
    "tt = tt.groupby([0], as_index=False).count().sort_values('temp', ascending=False)\n",
    "\n",
    "\n",
    "for x in tt.itertuples():\n",
    "    print(x)"
   ]
  },
  {
   "cell_type": "code",
   "execution_count": 0,
   "metadata": {
    "colab": {},
    "colab_type": "code",
    "id": "tC4MYYVoVIgx"
   },
   "outputs": [],
   "source": []
  },
  {
   "cell_type": "code",
   "execution_count": 0,
   "metadata": {
    "colab": {},
    "colab_type": "code",
    "id": "mIHTauJ5VIiz"
   },
   "outputs": [],
   "source": []
  },
  {
   "cell_type": "code",
   "execution_count": 0,
   "metadata": {
    "colab": {},
    "colab_type": "code",
    "id": "a_7XVF-9odme"
   },
   "outputs": [],
   "source": [
    "#reindex frist??\n",
    "#art_df_2.reset_index(drop=True, inplace=True)\n",
    "#art_df_2['content'] = training_corpus[training_corpus.notna()]\n",
    "#art_df_2 = art_df_2[art_df_2.content.notna()]"
   ]
  },
  {
   "cell_type": "code",
   "execution_count": 0,
   "metadata": {
    "colab": {},
    "colab_type": "code",
    "id": "Duye3mGJKBP-"
   },
   "outputs": [],
   "source": []
  },
  {
   "cell_type": "code",
   "execution_count": 0,
   "metadata": {
    "colab": {},
    "colab_type": "code",
    "id": "PRgLnSeeeLPx"
   },
   "outputs": [],
   "source": [
    "#self define dict for politicals~~~\n",
    "#other source: wiki, articut, ckip... extract from 輸入法???"
   ]
  },
  {
   "cell_type": "code",
   "execution_count": 0,
   "metadata": {
    "colab": {},
    "colab_type": "code",
    "id": "_CLQGRfqeLYB"
   },
   "outputs": [],
   "source": [
    "#testing not including seld def dict before\n",
    "\n",
    "test_str = '柯P真好玩'\n",
    "[ x for x in jieba.cut(test_str)]\n",
    "\n",
    "tt = jieba.cut(test_str)\n",
    "tt.throw()\n",
    "#jieba.add"
   ]
  },
  {
   "cell_type": "code",
   "execution_count": 0,
   "metadata": {
    "colab": {},
    "colab_type": "code",
    "id": "tHyKomFgoeQE"
   },
   "outputs": [],
   "source": [
    "def chinese_word_cut(input_corpus):\n",
    "    \n",
    "    return \" \".join(jieba.cut(input_corpus))#分词"
   ]
  },
  {
   "cell_type": "code",
   "execution_count": 0,
   "metadata": {
    "colab": {},
    "colab_type": "code",
    "id": "3H93s1AuPWan"
   },
   "outputs": [],
   "source": [
    "rs_lst_seg = []\n",
    "\n",
    "for x in rs_lst:\n",
    "   rs_lst_seg.append([y for y in jieba.cut(x)])\n",
    "   #break"
   ]
  },
  {
   "cell_type": "code",
   "execution_count": 0,
   "metadata": {
    "colab": {},
    "colab_type": "code",
    "id": "jnGO61pDPWeV"
   },
   "outputs": [],
   "source": [
    "foo = []\n",
    "\n",
    "for _ in rs_lst_seg:\n",
    "    foo.extend(_)\n",
    "\n",
    "foo = pd.DataFrame(foo, columns=['word'])\n",
    "foo['cnt'] = 1\n",
    "foo.groupby('word', as_index=False).sum().sort_values('cnt', ascending=False)[:30]"
   ]
  },
  {
   "cell_type": "code",
   "execution_count": 0,
   "metadata": {
    "colab": {},
    "colab_type": "code",
    "id": "96euhEDgPWgq"
   },
   "outputs": [],
   "source": []
  },
  {
   "cell_type": "code",
   "execution_count": 0,
   "metadata": {
    "colab": {},
    "colab_type": "code",
    "id": "INtylwv8Q6BZ"
   },
   "outputs": [],
   "source": [
    "foo"
   ]
  },
  {
   "cell_type": "code",
   "execution_count": 0,
   "metadata": {
    "colab": {},
    "colab_type": "code",
    "id": "G6JHNEMzQ6Ec"
   },
   "outputs": [],
   "source": [
    "training_corpus"
   ]
  },
  {
   "cell_type": "code",
   "execution_count": 0,
   "metadata": {
    "colab": {},
    "colab_type": "code",
    "id": "IxcXl6eJEUNp"
   },
   "outputs": [],
   "source": [
    "cond_re = hate_df_t2.re_flag == False\n",
    "cond_cont_dpp = hate_df_t2.content.str.contains(['民進黨', '蔡英文'])\n",
    "\n",
    "hate_df_t2[cond_re & cond_cont_dpp]\n",
    "\n",
    "#training_corpus = hate_df_t2.article_title + ' ' + hate_df_t2.content\n",
    "#training_corpus.reset_index(drop=True, inplace=True)\n",
    "#training_corpus = training_corpus[training_corpus.notna()]"
   ]
  },
  {
   "cell_type": "code",
   "execution_count": 0,
   "metadata": {
    "colab": {},
    "colab_type": "code",
    "id": "bId6bUnwhFCX"
   },
   "outputs": [],
   "source": [
    "#art_df_2_bk = art_df_2.copy()\n",
    "#art_df_2 = art_df_2_bk.copy()"
   ]
  },
  {
   "cell_type": "code",
   "execution_count": 0,
   "metadata": {
    "colab": {},
    "colab_type": "code",
    "id": "nmSGk2iqnuaU"
   },
   "outputs": [],
   "source": [
    "#art_df_2.date = pd.to_datetime(art_df_2.date, errors='coerce')"
   ]
  },
  {
   "cell_type": "code",
   "execution_count": 0,
   "metadata": {
    "colab": {},
    "colab_type": "code",
    "id": "ycyHEkMOn48r"
   },
   "outputs": [],
   "source": [
    "#art_df_2[art_df_2.date.isna()].shape"
   ]
  },
  {
   "cell_type": "code",
   "execution_count": 0,
   "metadata": {
    "colab": {},
    "colab_type": "code",
    "id": "Jj3RQyrpk8_C"
   },
   "outputs": [],
   "source": [
    "#print(art_df_2[art_df_2.date !=''].date.min())\n",
    "#print(art_df_2[art_df_2.date !=''].date.max())\n",
    "#叫你爸媽負責好了  爽不爽                    42.74.19.119 06/18 20:44"
   ]
  },
  {
   "cell_type": "code",
   "execution_count": 0,
   "metadata": {
    "colab": {},
    "colab_type": "code",
    "id": "aq_S4FfHD6MP"
   },
   "outputs": [],
   "source": [
    "training_corpus = training_corpus[training_corpus.notna()]"
   ]
  },
  {
   "cell_type": "code",
   "execution_count": 0,
   "metadata": {
    "colab": {},
    "colab_type": "code",
    "id": "0oyToDbcp9Pk"
   },
   "outputs": [],
   "source": [
    "trim_corpus = training_corpus.apply(chinese_word_cut)\n",
    "#art_df_2[\"content_cutted\"] = art_df_2.content.apply(chinese_word_cut)"
   ]
  },
  {
   "cell_type": "code",
   "execution_count": 0,
   "metadata": {
    "colab": {
     "base_uri": "https://localhost:8080/",
     "height": 119
    },
    "colab_type": "code",
    "id": "zHegyja6oeSq",
    "outputId": "cc870a47-0606-45c3-8f9d-56cd62e1b831"
   },
   "outputs": [
    {
     "data": {
      "text/plain": [
       "0    [ 討論 ]   吳釗燮 到底 是 什麼 來頭   怎麼 這麼 大 咖 ？   經歷 ： 中...\n",
       "1    Fw :   [ 新聞 ]   寶可夢 世界 大賽 冠 軍   高雄 10 月 觀光 代言人...\n",
       "2    [ 討論 ]   有 一種 人   有 一種 人 ，   這種 人 在 各種 族群 中 都 ...\n",
       "3    [ 黑特 ]   如果 明天 風雨 很大 ...... 不 知道 雙北市 長   侯友宜 今...\n",
       "4    Re :   [ 討論 ]   香港 當地 的 民眾 怎麼 看待 暴動 ？   :   好奇...\n",
       "dtype: object"
      ]
     },
     "execution_count": 37,
     "metadata": {
      "tags": []
     },
     "output_type": "execute_result"
    }
   ],
   "source": [
    "trim_corpus.head()"
   ]
  },
  {
   "cell_type": "code",
   "execution_count": 0,
   "metadata": {
    "colab": {},
    "colab_type": "code",
    "id": "e041ebpISLSh"
   },
   "outputs": [],
   "source": []
  },
  {
   "cell_type": "code",
   "execution_count": 0,
   "metadata": {
    "colab": {},
    "colab_type": "code",
    "id": "ozmmQxIfSLVZ"
   },
   "outputs": [],
   "source": [
    "trim_test = []\n",
    "\n",
    "for x in rs_lst_seg:\n",
    "    trim_test.append(' '.join(x))"
   ]
  },
  {
   "cell_type": "code",
   "execution_count": 0,
   "metadata": {
    "colab": {},
    "colab_type": "code",
    "id": "pbxnIOCGSxbC"
   },
   "outputs": [],
   "source": [
    "trim_test"
   ]
  },
  {
   "cell_type": "code",
   "execution_count": 0,
   "metadata": {
    "colab": {},
    "colab_type": "code",
    "id": "mM4v5Q-Fq9Ly"
   },
   "outputs": [],
   "source": [
    "# try the api of gensim plugin?\n",
    "# try mutiple processing\n",
    "#https://speakerdeck.com/fukuball/head-first-chinese-text-segmentation?slide=64\n",
    "#https://radimrehurek.com/gensim/models/ldamulticore.html\n",
    "\n",
    "# https://zhuanlan.zhihu.com/p/30925299\n",
    "# https://scikit-learn.org/stable/modules/generated/sklearn.decomposition.LatentDirichletAllocation.html\n",
    "# https://github.com/bmabey/pyLDAvis/tree/master/pyLDAvis\n",
    "# https://medium.com/pyladies-taiwan/%E4%BB%A5-jieba-%E8%88%87-gensim-%E6%8E%A2%E7%B4%A2%E6%96%87%E6%9C%AC%E4%B8%BB%E9%A1%8C-%E4%BA%94%E6%9C%88%E5%A4%A9%E4%BA%BA%E7%94%9F%E7%84%A1%E9%99%90%E5%85%AC%E5%8F%B8%E6%AD%8C%E8%A9%9E%E5%88%86%E6%9E%90-ii-fdf5d3708662"
   ]
  },
  {
   "cell_type": "code",
   "execution_count": 0,
   "metadata": {
    "colab": {},
    "colab_type": "code",
    "id": "pNPiI44tfMsl"
   },
   "outputs": [],
   "source": [
    "#max_features : int or None, default=None\n",
    "#If not None, build a vocabulary that only consider the top max_features ordered by term frequency across the corpus.\n",
    "\n",
    "#This parameter is ignored if vocabulary is not None.\n",
    "\n",
    "#max_df : float in range [0.0, 1.0] or int, default=1.0\n",
    "#When building the vocabulary ignore terms that have a document frequency strictly higher than the given threshold (corpus-specific stop words). "
   ]
  },
  {
   "cell_type": "code",
   "execution_count": 0,
   "metadata": {
    "colab": {},
    "colab_type": "code",
    "id": "_YmJarrVvlkp"
   },
   "outputs": [],
   "source": [
    "filter_lst = ['com'\n",
    ", 'imgur'\n",
    ", 'https'\n",
    ", 'www'\n",
    ", '新聞'\n",
    ", '討論'\n",
    ", 'sent'\n",
    ", 'from'\n",
    ", 'my'\n",
    ", '就是'\n",
    ", '真的'\n",
    ", '什麼'\n",
    ", '可以'\n",
    ", '不是'\n",
    ", '自己'\n",
    ", '知道'\n",
    ", '所以'\n",
    ", '如果'\n",
    ", '還是'\n",
    ", '這樣'\n",
    "]"
   ]
  },
  {
   "cell_type": "code",
   "execution_count": 0,
   "metadata": {
    "colab": {},
    "colab_type": "code",
    "id": "rGa_VJa5qFmW"
   },
   "outputs": [],
   "source": [
    "from sklearn.feature_extraction.text import TfidfVectorizer, CountVectorizer\n",
    "\n",
    "n_features = 1000\n",
    "\n",
    "tf_vectorizer = CountVectorizer(strip_accents='unicode'\n",
    "                              , max_features=n_features\n",
    "                              , stop_words=filter_lst\n",
    "                              , max_df=1.0\n",
    "                              , min_df=0.1)#训练词矩阵\n",
    "tf = tf_vectorizer.fit_transform(trim_test)\n",
    "#tf = tf_vectorizer.fit_transform(trim_corpus)"
   ]
  },
  {
   "cell_type": "code",
   "execution_count": 0,
   "metadata": {
    "colab": {
     "base_uri": "https://localhost:8080/",
     "height": 34
    },
    "colab_type": "code",
    "id": "iwAVtG0TkGD5",
    "outputId": "cca38cd3-cfef-4e77-adf4-2a254edf80c2"
   },
   "outputs": [
    {
     "name": "stdout",
     "output_type": "stream",
     "text": [
      "done in 0.439s.\n"
     ]
    }
   ],
   "source": [
    "tfidf_vectorizer = TfidfVectorizer(strip_accents='unicode'\n",
    "                                   , max_df=0.95\n",
    "                                   , min_df=2\n",
    "                                   , max_features=n_features\n",
    "                                   , stop_words=filter_lst)\n",
    "t0 = time.time()\n",
    "tfidf = tfidf_vectorizer.fit_transform(trim_test)\n",
    "print(\"done in %0.3fs.\" % (time.time() - t0))"
   ]
  },
  {
   "cell_type": "markdown",
   "metadata": {
    "colab_type": "text",
    "id": "pDL4g2BRQDHo"
   },
   "source": [
    "#get freq"
   ]
  },
  {
   "cell_type": "code",
   "execution_count": 0,
   "metadata": {
    "colab": {},
    "colab_type": "code",
    "id": "-jeRPmlOgkMy"
   },
   "outputs": [],
   "source": [
    "#tf.toarray.sum(axis=0)\n",
    "freq_df = pd.DataFrame([tf_vectorizer.get_feature_names(), tf.toarray().sum(axis=0)]).T\n",
    "freq_df.columns = ['word', 'cnt']\n",
    "\n",
    "freq_tfidf_df = pd.DataFrame([tfidf_vectorizer.get_feature_names(), tfidf.toarray().sum(axis=0)]).T\n",
    "freq_tfidf_df.columns = ['word', 'cnt']"
   ]
  },
  {
   "cell_type": "code",
   "execution_count": 0,
   "metadata": {
    "colab": {
     "base_uri": "https://localhost:8080/",
     "height": 669
    },
    "colab_type": "code",
    "id": "uiGgV-JfMRld",
    "outputId": "9c8b3d32-8f0e-4bd9-b07c-e9b864b44c1d"
   },
   "outputs": [
    {
     "data": {
      "text/html": [
       "<div>\n",
       "<style scoped>\n",
       "    .dataframe tbody tr th:only-of-type {\n",
       "        vertical-align: middle;\n",
       "    }\n",
       "\n",
       "    .dataframe tbody tr th {\n",
       "        vertical-align: top;\n",
       "    }\n",
       "\n",
       "    .dataframe thead th {\n",
       "        text-align: right;\n",
       "    }\n",
       "</style>\n",
       "<table border=\"1\" class=\"dataframe\">\n",
       "  <thead>\n",
       "    <tr style=\"text-align: right;\">\n",
       "      <th></th>\n",
       "      <th>word</th>\n",
       "      <th>cnt</th>\n",
       "    </tr>\n",
       "  </thead>\n",
       "  <tbody>\n",
       "    <tr>\n",
       "      <th>59</th>\n",
       "      <td>蔡英文</td>\n",
       "      <td>2462</td>\n",
       "    </tr>\n",
       "    <tr>\n",
       "      <th>22</th>\n",
       "      <td>台灣</td>\n",
       "      <td>2107</td>\n",
       "    </tr>\n",
       "    <tr>\n",
       "      <th>47</th>\n",
       "      <td>民進黨</td>\n",
       "      <td>1887</td>\n",
       "    </tr>\n",
       "    <tr>\n",
       "      <th>57</th>\n",
       "      <td>總統</td>\n",
       "      <td>1023</td>\n",
       "    </tr>\n",
       "    <tr>\n",
       "      <th>30</th>\n",
       "      <td>就是</td>\n",
       "      <td>820</td>\n",
       "    </tr>\n",
       "    <tr>\n",
       "      <th>54</th>\n",
       "      <td>立委</td>\n",
       "      <td>723</td>\n",
       "    </tr>\n",
       "    <tr>\n",
       "      <th>70</th>\n",
       "      <td>香港</td>\n",
       "      <td>690</td>\n",
       "    </tr>\n",
       "    <tr>\n",
       "      <th>20</th>\n",
       "      <td>可以</td>\n",
       "      <td>683</td>\n",
       "    </tr>\n",
       "    <tr>\n",
       "      <th>41</th>\n",
       "      <td>政府</td>\n",
       "      <td>676</td>\n",
       "    </tr>\n",
       "    <tr>\n",
       "      <th>13</th>\n",
       "      <td>什麼</td>\n",
       "      <td>605</td>\n",
       "    </tr>\n",
       "    <tr>\n",
       "      <th>60</th>\n",
       "      <td>表示</td>\n",
       "      <td>589</td>\n",
       "    </tr>\n",
       "    <tr>\n",
       "      <th>6</th>\n",
       "      <td>不是</td>\n",
       "      <td>573</td>\n",
       "    </tr>\n",
       "    <tr>\n",
       "      <th>38</th>\n",
       "      <td>我們</td>\n",
       "      <td>563</td>\n",
       "    </tr>\n",
       "    <tr>\n",
       "      <th>27</th>\n",
       "      <td>大家</td>\n",
       "      <td>521</td>\n",
       "    </tr>\n",
       "    <tr>\n",
       "      <th>40</th>\n",
       "      <td>支持</td>\n",
       "      <td>504</td>\n",
       "    </tr>\n",
       "    <tr>\n",
       "      <th>58</th>\n",
       "      <td>自己</td>\n",
       "      <td>496</td>\n",
       "    </tr>\n",
       "    <tr>\n",
       "      <th>4</th>\n",
       "      <td>一個</td>\n",
       "      <td>479</td>\n",
       "    </tr>\n",
       "    <tr>\n",
       "      <th>52</th>\n",
       "      <td>真的</td>\n",
       "      <td>458</td>\n",
       "    </tr>\n",
       "    <tr>\n",
       "      <th>48</th>\n",
       "      <td>沒有</td>\n",
       "      <td>445</td>\n",
       "    </tr>\n",
       "    <tr>\n",
       "      <th>24</th>\n",
       "      <td>因為</td>\n",
       "      <td>433</td>\n",
       "    </tr>\n",
       "  </tbody>\n",
       "</table>\n",
       "</div>"
      ],
      "text/plain": [
       "   word   cnt\n",
       "59  蔡英文  2462\n",
       "22   台灣  2107\n",
       "47  民進黨  1887\n",
       "57   總統  1023\n",
       "30   就是   820\n",
       "54   立委   723\n",
       "70   香港   690\n",
       "20   可以   683\n",
       "41   政府   676\n",
       "13   什麼   605\n",
       "60   表示   589\n",
       "6    不是   573\n",
       "38   我們   563\n",
       "27   大家   521\n",
       "40   支持   504\n",
       "58   自己   496\n",
       "4    一個   479\n",
       "52   真的   458\n",
       "48   沒有   445\n",
       "24   因為   433"
      ]
     },
     "execution_count": 116,
     "metadata": {
      "tags": []
     },
     "output_type": "execute_result"
    }
   ],
   "source": [
    "freq_df.sort_values('cnt', ascending=False)[:20]\n",
    "#pd.DataFrame.plot()"
   ]
  },
  {
   "cell_type": "code",
   "execution_count": 0,
   "metadata": {
    "colab": {},
    "colab_type": "code",
    "id": "niHJ3j_PkGb_"
   },
   "outputs": [],
   "source": [
    "freq_tfidf_df.sort_values('cnt', ascending=False)[:100].word.tolist()"
   ]
  },
  {
   "cell_type": "markdown",
   "metadata": {
    "colab_type": "text",
    "id": "TPGK0zh2MRn1"
   },
   "source": [
    "#get kw"
   ]
  },
  {
   "cell_type": "code",
   "execution_count": 0,
   "metadata": {
    "colab": {},
    "colab_type": "code",
    "id": "4Jt2pxh1MRpw"
   },
   "outputs": [],
   "source": [
    "test_kw_sent = ' '.join(trim_corpus[-2000:])\n",
    "jieba.analyse.extract_tags(test_kw_sent)"
   ]
  },
  {
   "cell_type": "code",
   "execution_count": 0,
   "metadata": {
    "colab": {
     "base_uri": "https://localhost:8080/",
     "height": 311
    },
    "colab_type": "code",
    "id": "udDUe9zZMRrY",
    "outputId": "f98b089c-ff6a-40e8-83b7-63d00ef612fc"
   },
   "outputs": [
    {
     "ename": "KeyboardInterrupt",
     "evalue": "ignored",
     "output_type": "error",
     "traceback": [
      "\u001b[0;31m---------------------------------------------------------------------------\u001b[0m",
      "\u001b[0;31mKeyboardInterrupt\u001b[0m                         Traceback (most recent call last)",
      "\u001b[0;32m<ipython-input-37-7cb61e39547f>\u001b[0m in \u001b[0;36m<module>\u001b[0;34m()\u001b[0m\n\u001b[0;32m----> 1\u001b[0;31m \u001b[0mjieba\u001b[0m\u001b[0;34m.\u001b[0m\u001b[0manalyse\u001b[0m\u001b[0;34m.\u001b[0m\u001b[0mtextrank\u001b[0m\u001b[0;34m(\u001b[0m\u001b[0mtest_kw_sent\u001b[0m\u001b[0;34m)\u001b[0m\u001b[0;34m\u001b[0m\u001b[0;34m\u001b[0m\u001b[0m\n\u001b[0m",
      "\u001b[0;32m/usr/local/lib/python3.6/dist-packages/jieba/analyse/textrank.py\u001b[0m in \u001b[0;36mtextrank\u001b[0;34m(self, sentence, topK, withWeight, allowPOS, withFlag)\u001b[0m\n\u001b[1;32m     82\u001b[0m         \u001b[0mg\u001b[0m \u001b[0;34m=\u001b[0m \u001b[0mUndirectWeightedGraph\u001b[0m\u001b[0;34m(\u001b[0m\u001b[0;34m)\u001b[0m\u001b[0;34m\u001b[0m\u001b[0;34m\u001b[0m\u001b[0m\n\u001b[1;32m     83\u001b[0m         \u001b[0mcm\u001b[0m \u001b[0;34m=\u001b[0m \u001b[0mdefaultdict\u001b[0m\u001b[0;34m(\u001b[0m\u001b[0mint\u001b[0m\u001b[0;34m)\u001b[0m\u001b[0;34m\u001b[0m\u001b[0;34m\u001b[0m\u001b[0m\n\u001b[0;32m---> 84\u001b[0;31m         \u001b[0mwords\u001b[0m \u001b[0;34m=\u001b[0m \u001b[0mtuple\u001b[0m\u001b[0;34m(\u001b[0m\u001b[0mself\u001b[0m\u001b[0;34m.\u001b[0m\u001b[0mtokenizer\u001b[0m\u001b[0;34m.\u001b[0m\u001b[0mcut\u001b[0m\u001b[0;34m(\u001b[0m\u001b[0msentence\u001b[0m\u001b[0;34m)\u001b[0m\u001b[0;34m)\u001b[0m\u001b[0;34m\u001b[0m\u001b[0;34m\u001b[0m\u001b[0m\n\u001b[0m\u001b[1;32m     85\u001b[0m         \u001b[0;32mfor\u001b[0m \u001b[0mi\u001b[0m\u001b[0;34m,\u001b[0m \u001b[0mwp\u001b[0m \u001b[0;32min\u001b[0m \u001b[0menumerate\u001b[0m\u001b[0;34m(\u001b[0m\u001b[0mwords\u001b[0m\u001b[0;34m)\u001b[0m\u001b[0;34m:\u001b[0m\u001b[0;34m\u001b[0m\u001b[0;34m\u001b[0m\u001b[0m\n\u001b[1;32m     86\u001b[0m             \u001b[0;32mif\u001b[0m \u001b[0mself\u001b[0m\u001b[0;34m.\u001b[0m\u001b[0mpairfilter\u001b[0m\u001b[0;34m(\u001b[0m\u001b[0mwp\u001b[0m\u001b[0;34m)\u001b[0m\u001b[0;34m:\u001b[0m\u001b[0;34m\u001b[0m\u001b[0;34m\u001b[0m\u001b[0m\n",
      "\u001b[0;32m/usr/local/lib/python3.6/dist-packages/jieba/posseg/__init__.py\u001b[0m in \u001b[0;36mcut\u001b[0;34m(self, sentence, HMM)\u001b[0m\n\u001b[1;32m    247\u001b[0m \u001b[0;34m\u001b[0m\u001b[0m\n\u001b[1;32m    248\u001b[0m     \u001b[0;32mdef\u001b[0m \u001b[0mcut\u001b[0m\u001b[0;34m(\u001b[0m\u001b[0mself\u001b[0m\u001b[0;34m,\u001b[0m \u001b[0msentence\u001b[0m\u001b[0;34m,\u001b[0m \u001b[0mHMM\u001b[0m\u001b[0;34m=\u001b[0m\u001b[0;32mTrue\u001b[0m\u001b[0;34m)\u001b[0m\u001b[0;34m:\u001b[0m\u001b[0;34m\u001b[0m\u001b[0;34m\u001b[0m\u001b[0m\n\u001b[0;32m--> 249\u001b[0;31m         \u001b[0;32mfor\u001b[0m \u001b[0mw\u001b[0m \u001b[0;32min\u001b[0m \u001b[0mself\u001b[0m\u001b[0;34m.\u001b[0m\u001b[0m__cut_internal\u001b[0m\u001b[0;34m(\u001b[0m\u001b[0msentence\u001b[0m\u001b[0;34m,\u001b[0m \u001b[0mHMM\u001b[0m\u001b[0;34m=\u001b[0m\u001b[0mHMM\u001b[0m\u001b[0;34m)\u001b[0m\u001b[0;34m:\u001b[0m\u001b[0;34m\u001b[0m\u001b[0;34m\u001b[0m\u001b[0m\n\u001b[0m\u001b[1;32m    250\u001b[0m             \u001b[0;32myield\u001b[0m \u001b[0mw\u001b[0m\u001b[0;34m\u001b[0m\u001b[0;34m\u001b[0m\u001b[0m\n\u001b[1;32m    251\u001b[0m \u001b[0;34m\u001b[0m\u001b[0m\n",
      "\u001b[0;32m/usr/local/lib/python3.6/dist-packages/jieba/posseg/__init__.py\u001b[0m in \u001b[0;36m__cut_internal\u001b[0;34m(self, sentence, HMM)\u001b[0m\n\u001b[1;32m    224\u001b[0m         \u001b[0;32mfor\u001b[0m \u001b[0mblk\u001b[0m \u001b[0;32min\u001b[0m \u001b[0mblocks\u001b[0m\u001b[0;34m:\u001b[0m\u001b[0;34m\u001b[0m\u001b[0;34m\u001b[0m\u001b[0m\n\u001b[1;32m    225\u001b[0m             \u001b[0;32mif\u001b[0m \u001b[0mre_han_internal\u001b[0m\u001b[0;34m.\u001b[0m\u001b[0mmatch\u001b[0m\u001b[0;34m(\u001b[0m\u001b[0mblk\u001b[0m\u001b[0;34m)\u001b[0m\u001b[0;34m:\u001b[0m\u001b[0;34m\u001b[0m\u001b[0;34m\u001b[0m\u001b[0m\n\u001b[0;32m--> 226\u001b[0;31m                 \u001b[0;32mfor\u001b[0m \u001b[0mword\u001b[0m \u001b[0;32min\u001b[0m \u001b[0mcut_blk\u001b[0m\u001b[0;34m(\u001b[0m\u001b[0mblk\u001b[0m\u001b[0;34m)\u001b[0m\u001b[0;34m:\u001b[0m\u001b[0;34m\u001b[0m\u001b[0;34m\u001b[0m\u001b[0m\n\u001b[0m\u001b[1;32m    227\u001b[0m                     \u001b[0;32myield\u001b[0m \u001b[0mword\u001b[0m\u001b[0;34m\u001b[0m\u001b[0;34m\u001b[0m\u001b[0m\n\u001b[1;32m    228\u001b[0m             \u001b[0;32melse\u001b[0m\u001b[0;34m:\u001b[0m\u001b[0;34m\u001b[0m\u001b[0;34m\u001b[0m\u001b[0m\n",
      "\u001b[0;32m/usr/local/lib/python3.6/dist-packages/jieba/posseg/__init__.py\u001b[0m in \u001b[0;36m__cut_DAG\u001b[0;34m(self, sentence)\u001b[0m\n\u001b[1;32m    207\u001b[0m             \u001b[0;32melif\u001b[0m \u001b[0;32mnot\u001b[0m \u001b[0mself\u001b[0m\u001b[0;34m.\u001b[0m\u001b[0mtokenizer\u001b[0m\u001b[0;34m.\u001b[0m\u001b[0mFREQ\u001b[0m\u001b[0;34m.\u001b[0m\u001b[0mget\u001b[0m\u001b[0;34m(\u001b[0m\u001b[0mbuf\u001b[0m\u001b[0;34m)\u001b[0m\u001b[0;34m:\u001b[0m\u001b[0;34m\u001b[0m\u001b[0;34m\u001b[0m\u001b[0m\n\u001b[1;32m    208\u001b[0m                 \u001b[0mrecognized\u001b[0m \u001b[0;34m=\u001b[0m \u001b[0mself\u001b[0m\u001b[0;34m.\u001b[0m\u001b[0m__cut_detail\u001b[0m\u001b[0;34m(\u001b[0m\u001b[0mbuf\u001b[0m\u001b[0;34m)\u001b[0m\u001b[0;34m\u001b[0m\u001b[0;34m\u001b[0m\u001b[0m\n\u001b[0;32m--> 209\u001b[0;31m                 \u001b[0;32mfor\u001b[0m \u001b[0mt\u001b[0m \u001b[0;32min\u001b[0m \u001b[0mrecognized\u001b[0m\u001b[0;34m:\u001b[0m\u001b[0;34m\u001b[0m\u001b[0;34m\u001b[0m\u001b[0m\n\u001b[0m\u001b[1;32m    210\u001b[0m                     \u001b[0;32myield\u001b[0m \u001b[0mt\u001b[0m\u001b[0;34m\u001b[0m\u001b[0;34m\u001b[0m\u001b[0m\n\u001b[1;32m    211\u001b[0m             \u001b[0;32melse\u001b[0m\u001b[0;34m:\u001b[0m\u001b[0;34m\u001b[0m\u001b[0;34m\u001b[0m\u001b[0m\n",
      "\u001b[0;32m/usr/local/lib/python3.6/dist-packages/jieba/posseg/__init__.py\u001b[0m in \u001b[0;36m__cut_detail\u001b[0;34m(self, sentence)\u001b[0m\n\u001b[1;32m    137\u001b[0m         \u001b[0;32mfor\u001b[0m \u001b[0mblk\u001b[0m \u001b[0;32min\u001b[0m \u001b[0mblocks\u001b[0m\u001b[0;34m:\u001b[0m\u001b[0;34m\u001b[0m\u001b[0;34m\u001b[0m\u001b[0m\n\u001b[1;32m    138\u001b[0m             \u001b[0;32mif\u001b[0m \u001b[0mre_han_detail\u001b[0m\u001b[0;34m.\u001b[0m\u001b[0mmatch\u001b[0m\u001b[0;34m(\u001b[0m\u001b[0mblk\u001b[0m\u001b[0;34m)\u001b[0m\u001b[0;34m:\u001b[0m\u001b[0;34m\u001b[0m\u001b[0;34m\u001b[0m\u001b[0m\n\u001b[0;32m--> 139\u001b[0;31m                 \u001b[0;32mfor\u001b[0m \u001b[0mword\u001b[0m \u001b[0;32min\u001b[0m \u001b[0mself\u001b[0m\u001b[0;34m.\u001b[0m\u001b[0m__cut\u001b[0m\u001b[0;34m(\u001b[0m\u001b[0mblk\u001b[0m\u001b[0;34m)\u001b[0m\u001b[0;34m:\u001b[0m\u001b[0;34m\u001b[0m\u001b[0;34m\u001b[0m\u001b[0m\n\u001b[0m\u001b[1;32m    140\u001b[0m                     \u001b[0;32myield\u001b[0m \u001b[0mword\u001b[0m\u001b[0;34m\u001b[0m\u001b[0;34m\u001b[0m\u001b[0m\n\u001b[1;32m    141\u001b[0m             \u001b[0;32melse\u001b[0m\u001b[0;34m:\u001b[0m\u001b[0;34m\u001b[0m\u001b[0;34m\u001b[0m\u001b[0m\n",
      "\u001b[0;32m/usr/local/lib/python3.6/dist-packages/jieba/posseg/__init__.py\u001b[0m in \u001b[0;36m__cut\u001b[0;34m(self, sentence)\u001b[0m\n\u001b[1;32m    117\u001b[0m     \u001b[0;32mdef\u001b[0m \u001b[0m__cut\u001b[0m\u001b[0;34m(\u001b[0m\u001b[0mself\u001b[0m\u001b[0;34m,\u001b[0m \u001b[0msentence\u001b[0m\u001b[0;34m)\u001b[0m\u001b[0;34m:\u001b[0m\u001b[0;34m\u001b[0m\u001b[0;34m\u001b[0m\u001b[0m\n\u001b[1;32m    118\u001b[0m         prob, pos_list = viterbi(\n\u001b[0;32m--> 119\u001b[0;31m             sentence, char_state_tab_P, start_P, trans_P, emit_P)\n\u001b[0m\u001b[1;32m    120\u001b[0m         \u001b[0mbegin\u001b[0m\u001b[0;34m,\u001b[0m \u001b[0mnexti\u001b[0m \u001b[0;34m=\u001b[0m \u001b[0;36m0\u001b[0m\u001b[0;34m,\u001b[0m \u001b[0;36m0\u001b[0m\u001b[0;34m\u001b[0m\u001b[0;34m\u001b[0m\u001b[0m\n\u001b[1;32m    121\u001b[0m \u001b[0;34m\u001b[0m\u001b[0m\n",
      "\u001b[0;32m/usr/local/lib/python3.6/dist-packages/jieba/posseg/viterbi.py\u001b[0m in \u001b[0;36mviterbi\u001b[0;34m(obs, states, start_p, trans_p, emit_p)\u001b[0m\n\u001b[1;32m     36\u001b[0m         \u001b[0;32mfor\u001b[0m \u001b[0my\u001b[0m \u001b[0;32min\u001b[0m \u001b[0mobs_states\u001b[0m\u001b[0;34m:\u001b[0m\u001b[0;34m\u001b[0m\u001b[0;34m\u001b[0m\u001b[0m\n\u001b[1;32m     37\u001b[0m             prob, state = max((V[t - 1][y0] + trans_p[y0].get(y, MIN_INF) +\n\u001b[0;32m---> 38\u001b[0;31m                                emit_p[y].get(obs[t], MIN_FLOAT), y0) for y0 in prev_states)\n\u001b[0m\u001b[1;32m     39\u001b[0m             \u001b[0mV\u001b[0m\u001b[0;34m[\u001b[0m\u001b[0mt\u001b[0m\u001b[0;34m]\u001b[0m\u001b[0;34m[\u001b[0m\u001b[0my\u001b[0m\u001b[0;34m]\u001b[0m \u001b[0;34m=\u001b[0m \u001b[0mprob\u001b[0m\u001b[0;34m\u001b[0m\u001b[0;34m\u001b[0m\u001b[0m\n\u001b[1;32m     40\u001b[0m             \u001b[0mmem_path\u001b[0m\u001b[0;34m[\u001b[0m\u001b[0mt\u001b[0m\u001b[0;34m]\u001b[0m\u001b[0;34m[\u001b[0m\u001b[0my\u001b[0m\u001b[0;34m]\u001b[0m \u001b[0;34m=\u001b[0m \u001b[0mstate\u001b[0m\u001b[0;34m\u001b[0m\u001b[0;34m\u001b[0m\u001b[0m\n",
      "\u001b[0;32m/usr/local/lib/python3.6/dist-packages/jieba/posseg/viterbi.py\u001b[0m in \u001b[0;36m<genexpr>\u001b[0;34m(.0)\u001b[0m\n\u001b[1;32m     36\u001b[0m         \u001b[0;32mfor\u001b[0m \u001b[0my\u001b[0m \u001b[0;32min\u001b[0m \u001b[0mobs_states\u001b[0m\u001b[0;34m:\u001b[0m\u001b[0;34m\u001b[0m\u001b[0;34m\u001b[0m\u001b[0m\n\u001b[1;32m     37\u001b[0m             prob, state = max((V[t - 1][y0] + trans_p[y0].get(y, MIN_INF) +\n\u001b[0;32m---> 38\u001b[0;31m                                emit_p[y].get(obs[t], MIN_FLOAT), y0) for y0 in prev_states)\n\u001b[0m\u001b[1;32m     39\u001b[0m             \u001b[0mV\u001b[0m\u001b[0;34m[\u001b[0m\u001b[0mt\u001b[0m\u001b[0;34m]\u001b[0m\u001b[0;34m[\u001b[0m\u001b[0my\u001b[0m\u001b[0;34m]\u001b[0m \u001b[0;34m=\u001b[0m \u001b[0mprob\u001b[0m\u001b[0;34m\u001b[0m\u001b[0;34m\u001b[0m\u001b[0m\n\u001b[1;32m     40\u001b[0m             \u001b[0mmem_path\u001b[0m\u001b[0;34m[\u001b[0m\u001b[0mt\u001b[0m\u001b[0;34m]\u001b[0m\u001b[0;34m[\u001b[0m\u001b[0my\u001b[0m\u001b[0;34m]\u001b[0m \u001b[0;34m=\u001b[0m \u001b[0mstate\u001b[0m\u001b[0;34m\u001b[0m\u001b[0;34m\u001b[0m\u001b[0m\n",
      "\u001b[0;31mKeyboardInterrupt\u001b[0m: "
     ]
    }
   ],
   "source": [
    "#len(test_kw_sent)\n",
    "#test_kw_sent[:30]\n",
    "#jieba.analyse.TextRank\n",
    "\n",
    "#computensive......\n",
    "#jieba.analyse.textrank(test_kw_sent)"
   ]
  },
  {
   "cell_type": "code",
   "execution_count": 0,
   "metadata": {
    "colab": {},
    "colab_type": "code",
    "id": "aR_Rg4fvqFpT"
   },
   "outputs": [],
   "source": [
    "from sklearn.decomposition import LatentDirichletAllocation\n",
    "\n",
    "#Latent Dirichlet Allocation with online variational Bayes algorithm\n",
    "n_topics = 4\n",
    "lda = LatentDirichletAllocation(n_components=n_topics, max_iter=30, \n",
    "                  learning_method='online', learning_offset=20.0,)#LDA模型训练\n",
    "\n",
    "#random_state=0 should check random state??"
   ]
  },
  {
   "cell_type": "code",
   "execution_count": 0,
   "metadata": {
    "colab": {
     "base_uri": "https://localhost:8080/",
     "height": 153
    },
    "colab_type": "code",
    "id": "l5sbtE7VMjsU",
    "outputId": "e1fe5532-cb4b-4769-cf9a-1e380931c83f"
   },
   "outputs": [
    {
     "data": {
      "text/plain": [
       "LatentDirichletAllocation(batch_size=128, doc_topic_prior=None,\n",
       "                          evaluate_every=-1, learning_decay=0.7,\n",
       "                          learning_method='online', learning_offset=20.0,\n",
       "                          max_doc_update_iter=100, max_iter=30,\n",
       "                          mean_change_tol=0.001, n_components=4, n_jobs=None,\n",
       "                          perp_tol=0.1, random_state=None,\n",
       "                          topic_word_prior=None, total_samples=1000000.0,\n",
       "                          verbose=0)"
      ]
     },
     "execution_count": 46,
     "metadata": {
      "tags": []
     },
     "output_type": "execute_result"
    }
   ],
   "source": [
    "#training step\n",
    "lda.fit(tfidf)"
   ]
  },
  {
   "cell_type": "code",
   "execution_count": 0,
   "metadata": {
    "colab": {},
    "colab_type": "code",
    "id": "toj7mPVcoeVM"
   },
   "outputs": [],
   "source": [
    "#lda.fit(tf)\n",
    "\n",
    "def print_top_words(model, feature_names, n_top_words):#主题相关的top词计算\n",
    "    for topic_idx, topic in enumerate(model.components_):\n",
    "        print(\"Topic #%d:\" % topic_idx)\n",
    "        print(\" \".join([feature_names[i]\n",
    "            for i in topic.argsort()[:-n_top_words - 1:-1]]))\n",
    "    print()\n"
   ]
  },
  {
   "cell_type": "code",
   "execution_count": 0,
   "metadata": {
    "colab": {
     "base_uri": "https://localhost:8080/",
     "height": 997
    },
    "colab_type": "code",
    "id": "fi9lty33Lzx4",
    "outputId": "20617c46-8ad5-4bb3-fe8f-5424b2aca488"
   },
   "outputs": [
    {
     "name": "stderr",
     "output_type": "stream",
     "text": [
      "/usr/local/lib/python3.6/dist-packages/pyLDAvis/_prepare.py:257: FutureWarning: Sorting because non-concatenation axis is not aligned. A future version\n",
      "of pandas will change to not sort by default.\n",
      "\n",
      "To accept the future behavior, pass 'sort=False'.\n",
      "\n",
      "To retain the current behavior and silence the warning, pass 'sort=True'.\n",
      "\n",
      "  return pd.concat([default_term_info] + list(topic_dfs))\n"
     ]
    },
    {
     "data": {
      "text/html": [
       "\n",
       "<link rel=\"stylesheet\" type=\"text/css\" href=\"https://cdn.rawgit.com/bmabey/pyLDAvis/files/ldavis.v1.0.0.css\">\n",
       "\n",
       "\n",
       "<div id=\"ldavis_el1221405571199974165114741660\"></div>\n",
       "<script type=\"text/javascript\">\n",
       "\n",
       "var ldavis_el1221405571199974165114741660_data = {\"mdsDat\": {\"x\": [-0.020289342165907456, -0.03887519032330187, -0.22612322039423446, 0.2852877528834438], \"y\": [-0.15299947007821832, -0.1603330220793759, 0.19304857169630854, 0.12028392046128573], \"topics\": [1, 2, 3, 4], \"cluster\": [1, 1, 1, 1], \"Freq\": [37.28093526414281, 34.951197646889646, 17.835179707401075, 9.932687381566465]}, \"tinfo\": {\"Category\": [\"Default\", \"Default\", \"Default\", \"Default\", \"Default\", \"Default\", \"Default\", \"Default\", \"Default\", \"Default\", \"Default\", \"Default\", \"Default\", \"Default\", \"Default\", \"Default\", \"Default\", \"Default\", \"Default\", \"Default\", \"Default\", \"Default\", \"Default\", \"Default\", \"Default\", \"Default\", \"Default\", \"Default\", \"Default\", \"Default\", \"Topic1\", \"Topic1\", \"Topic1\", \"Topic1\", \"Topic1\", \"Topic1\", \"Topic1\", \"Topic1\", \"Topic1\", \"Topic1\", \"Topic1\", \"Topic1\", \"Topic1\", \"Topic1\", \"Topic1\", \"Topic1\", \"Topic1\", \"Topic1\", \"Topic1\", \"Topic1\", \"Topic1\", \"Topic1\", \"Topic1\", \"Topic1\", \"Topic1\", \"Topic1\", \"Topic1\", \"Topic1\", \"Topic1\", \"Topic1\", \"Topic1\", \"Topic1\", \"Topic1\", \"Topic1\", \"Topic1\", \"Topic1\", \"Topic1\", \"Topic1\", \"Topic1\", \"Topic1\", \"Topic1\", \"Topic1\", \"Topic1\", \"Topic1\", \"Topic1\", \"Topic1\", \"Topic1\", \"Topic1\", \"Topic1\", \"Topic1\", \"Topic1\", \"Topic1\", \"Topic1\", \"Topic1\", \"Topic1\", \"Topic1\", \"Topic1\", \"Topic1\", \"Topic1\", \"Topic1\", \"Topic1\", \"Topic1\", \"Topic1\", \"Topic1\", \"Topic2\", \"Topic2\", \"Topic2\", \"Topic2\", \"Topic2\", \"Topic2\", \"Topic2\", \"Topic2\", \"Topic2\", \"Topic2\", \"Topic2\", \"Topic2\", \"Topic2\", \"Topic2\", \"Topic2\", \"Topic2\", \"Topic2\", \"Topic2\", \"Topic2\", \"Topic2\", \"Topic2\", \"Topic2\", \"Topic2\", \"Topic2\", \"Topic2\", \"Topic2\", \"Topic2\", \"Topic2\", \"Topic2\", \"Topic2\", \"Topic2\", \"Topic2\", \"Topic2\", \"Topic2\", \"Topic2\", \"Topic2\", \"Topic2\", \"Topic2\", \"Topic2\", \"Topic2\", \"Topic2\", \"Topic2\", \"Topic2\", \"Topic2\", \"Topic2\", \"Topic2\", \"Topic2\", \"Topic2\", \"Topic2\", \"Topic2\", \"Topic2\", \"Topic2\", \"Topic2\", \"Topic2\", \"Topic2\", \"Topic2\", \"Topic2\", \"Topic2\", \"Topic2\", \"Topic2\", \"Topic2\", \"Topic2\", \"Topic2\", \"Topic3\", \"Topic3\", \"Topic3\", \"Topic3\", \"Topic3\", \"Topic3\", \"Topic3\", \"Topic3\", \"Topic3\", \"Topic3\", \"Topic3\", \"Topic3\", \"Topic3\", \"Topic3\", \"Topic3\", \"Topic3\", \"Topic3\", \"Topic3\", \"Topic3\", \"Topic3\", \"Topic3\", \"Topic3\", \"Topic3\", \"Topic3\", \"Topic3\", \"Topic3\", \"Topic3\", \"Topic3\", \"Topic3\", \"Topic3\", \"Topic3\", \"Topic3\", \"Topic3\", \"Topic3\", \"Topic3\", \"Topic3\", \"Topic3\", \"Topic3\", \"Topic3\", \"Topic3\", \"Topic3\", \"Topic3\", \"Topic3\", \"Topic3\", \"Topic3\", \"Topic3\", \"Topic3\", \"Topic3\", \"Topic3\", \"Topic3\", \"Topic3\", \"Topic3\", \"Topic3\", \"Topic3\", \"Topic3\", \"Topic3\", \"Topic3\", \"Topic3\", \"Topic3\", \"Topic3\", \"Topic3\", \"Topic4\", \"Topic4\", \"Topic4\", \"Topic4\", \"Topic4\", \"Topic4\", \"Topic4\", \"Topic4\", \"Topic4\", \"Topic4\", \"Topic4\", \"Topic4\", \"Topic4\", \"Topic4\", \"Topic4\", \"Topic4\", \"Topic4\", \"Topic4\", \"Topic4\", \"Topic4\", \"Topic4\", \"Topic4\", \"Topic4\", \"Topic4\", \"Topic4\", \"Topic4\", \"Topic4\", \"Topic4\", \"Topic4\", \"Topic4\", \"Topic4\", \"Topic4\", \"Topic4\", \"Topic4\", \"Topic4\", \"Topic4\", \"Topic4\", \"Topic4\", \"Topic4\"], \"Freq\": [1777.0, 1974.0, 717.0, 1085.0, 670.0, 1484.0, 649.0, 642.0, 626.0, 690.0, 804.0, 885.0, 788.0, 597.0, 1220.0, 739.0, 650.0, 707.0, 553.0, 580.0, 610.0, 3492.0, 489.0, 2791.0, 1326.0, 419.0, 460.0, 1199.0, 496.0, 1470.0, 779.9558086535096, 596.55071462306, 376.4871133978522, 341.2703500608262, 234.97671249055213, 239.11729736969048, 322.99542979484784, 276.64475957561393, 534.7761433538749, 301.97704259881164, 244.60835862777353, 407.0557802149371, 166.50721489759192, 430.3564887162866, 234.68537062200951, 274.15993941888155, 363.0480356139599, 188.53232372299792, 169.8069607653709, 210.7959243335076, 505.05025690080873, 196.77863934255316, 187.94312711120077, 182.05957687091365, 312.71755685622196, 721.7021858839832, 357.82846913970747, 245.2419165337453, 669.1024510953148, 252.19155237958992, 415.8500431348666, 1264.3459554179765, 710.5129682785608, 356.1485979416551, 807.5386784100181, 667.0455120431591, 400.59171118724527, 1512.1990118441718, 2355.788085947646, 1311.2188036926038, 898.3373694308494, 1010.2676572069015, 597.6841247532478, 882.1170473153892, 1180.6101772440413, 1464.2619638438741, 1086.2304458807853, 956.2928271153156, 523.1610731422101, 777.9974647549504, 446.8433750852309, 599.9132399056413, 583.7216752006826, 680.351010876666, 765.4012527425618, 806.1576951629179, 715.577657438589, 881.0814422355478, 665.8750342250421, 750.935565931697, 702.0834753147699, 629.8211815332418, 631.6471251489359, 598.1835425071336, 1483.2525187343551, 554.7818467409463, 402.8886573504267, 343.66877357875205, 322.2788273813144, 311.2885936587061, 285.8299235326044, 240.7140626537188, 244.31397207341547, 234.59556902768384, 207.43976180952518, 193.17648169848096, 188.26917181552065, 176.3193969288201, 169.16860166330943, 157.51399649993226, 157.50859040164514, 145.94398592303165, 242.56034149185942, 341.26681304081825, 807.949808270283, 125.17757676361799, 131.74725204788965, 825.006529343302, 185.10845004222676, 226.3582111031936, 159.0660809006037, 164.3531230281305, 319.5078921090168, 166.11908735164081, 1266.0774536520757, 511.8998576443011, 420.72139284918154, 2197.6877864604576, 286.3962447854841, 599.9299272361602, 1029.2259849233112, 279.5766809034316, 385.34115617396975, 575.8004047578672, 726.1696175462766, 503.76356674565835, 483.2427517334853, 801.1088369391476, 715.6594029353154, 1002.295976404382, 873.2730784670946, 750.756754333956, 615.5769955680854, 452.724384922457, 687.4927054671064, 661.3269062956595, 540.9876999433599, 654.1088897275837, 973.1810094732868, 693.3261414209483, 565.6498941664339, 662.1619654895097, 716.327344048496, 606.3560251461242, 570.7666434191418, 606.6874287464977, 518.8982548524402, 787.4142140442433, 514.844751569305, 434.4265170248786, 322.90392305771263, 304.75307584302243, 307.0440832701669, 293.40742851268436, 278.01464989289093, 273.50572741845934, 262.21157967148395, 260.2305282261659, 259.75629131910415, 256.6307853350074, 250.66017748676242, 244.79959633499078, 232.26892490868022, 227.3182843872432, 223.31353115521816, 228.919194415778, 225.45512457630716, 221.49756358479024, 223.7936147360868, 223.57882081821623, 207.9470893565061, 200.64034773489254, 207.4081107786445, 191.21031802696606, 182.16220403916574, 180.72422782397274, 185.47118215963843, 283.1760967344224, 330.3930639948154, 986.7731757117118, 379.1276206774456, 492.38608182757156, 528.1604369854872, 404.0304313186736, 410.0095576477535, 301.8898036961484, 312.5767892249336, 289.58994019647207, 345.25676921419193, 592.0923673292929, 399.68155348759086, 298.2192510551658, 523.2614713010278, 494.99826390414233, 324.97507280667907, 364.0831838589887, 476.3424376257775, 354.70015460112774, 387.7453332635422, 380.3074938594945, 684.7328477466524, 359.1330592356254, 441.3329387726545, 434.93618037438296, 317.35377648334907, 328.52321001274237, 356.2870604790506, 316.3589155729821, 716.4543895508509, 649.0539978313202, 641.6968563818909, 625.7566167934266, 552.4103773628188, 489.0555764777622, 669.5495458152876, 418.60837318216016, 372.02894181807045, 366.84353643827086, 348.2250532441419, 322.4715948522861, 297.6230288975801, 236.1509537473546, 185.14389028154594, 329.40575944225924, 577.3467457110924, 276.7386976991008, 1657.8961541755903, 88.50170427191526, 211.76145591677005, 524.9188858674552, 203.95837802614474, 403.7742323964575, 598.2324283169323, 524.4327697981454, 552.0570534862089, 228.01449674641816, 343.06151969886736, 200.93738177089202, 545.1574654223049, 385.7928318344037, 544.7340294422229, 567.0694063135066, 597.262893203626, 659.900934295391, 340.66723121228245, 447.6307894900778, 342.004254609196], \"Term\": [\"jpg\", \"\\u97d3\\u7c89\", \"\\u9928\\u9577\", \"\\u8868\\u793a\", \"\\u76f4\\u64ad\", \"\\u9999\\u6e2f\", \"be\", \"youtu\", \"youtube\", \"\\u653f\\u9ed1\", \"1450\", \"\\u8f49\\u9304\", \"news\", \"\\u516b\\u5366\", \"\\u67ef\\u7c89\", \"http\", \"\\u6587\\u7ae0\", \"cc\", \"watch\", \"\\u5f71\\u7247\", \"ptt\", \"\\u97d3\\u570b\\u745c\", \"live\", \"\\u53f0\\u7063\", \"\\u9ed1\\u7279\", \"\\u674e\\u4f73\\u82ac\", \"\\u7db2\\u8ecd\", \"\\u9ad8\\u96c4\", \"reurl\", \"\\u90ed\\u53f0\\u9298\", \"\\u90ed\\u8463\", \"\\u521d\\u9078\", \"\\u738b\\u91d1\\u5e73\", \"\\u526f\\u624b\", \"\\u9000\\u9ee8\", \"\\u97d3\\u9ed1\", \"\\u4e0d\\u9078\", \"\\u7f77\\u514d\", \"\\u8349\\u5305\", \"\\u5eb6\\u6c11\", \"\\u97d3\\u7684\", \"\\u6642\\u529b\", \"\\u9ee8\\u5167\", \"\\u9078\\u7e3d\\u7d71\", \"\\u9ad8\\u96c4\\u4eba\", \"\\u7d44\\u9ee8\", \"\\u85cd\\u71df\", \"\\u7e3d\\u7d71\\u5019\", \"\\u5433\\u6566\\u7fa9\", \"\\u9078\\u4e0a\", \"\\u97d3\\u7e3d\", \"\\u842c\\u7968\", \"1124\", \"\\u5b8b\\u695a\\u745c\", \"\\u9078\\u4eba\", \"\\u97d3\\u5c0e\", \"\\u9078\\u6c11\", \"\\u89aa\\u6c11\\u9ee8\", \"kmt\", \"\\u6295\\u7d66\", \"\\u9020\\u52e2\", \"\\u90ed\\u53f0\\u9298\", \"\\u53c3\\u9078\", \"\\u7576\\u9078\", \"\\u6c11\\u8abf\", \"2020\", \"\\u6731\\u7acb\\u502b\", \"\\u570b\\u6c11\\u9ee8\", \"\\u97d3\\u570b\\u745c\", \"\\u97d3\\u7c89\", \"\\u51fa\\u4f86\", \"\\u652f\\u6301\", \"dpp\", \"\\u7acb\\u59d4\", \"\\u6c11\\u9032\\u9ee8\", \"\\u67ef\\u6587\\u54f2\", \"\\u7e3d\\u7d71\", \"\\u73fe\\u5728\", \"\\u529b\\u91cf\", \"\\u53ef\\u80fd\", \"\\u85cd\\u7da0\", \"\\u4e00\\u5b9a\", \"\\u67efp\", \"\\u61c9\\u8a72\", \"re\", \"\\u4e00\\u500b\", \"\\u662f\\u4e0d\\u662f\", \"\\u8521\\u82f1\\u6587\", \"\\u4e0d\\u6703\", \"\\u5927\\u5bb6\", \"\\u600e\\u9ebc\", \"\\u4e0d\\u8981\", \"\\u56e0\\u70ba\", \"\\u9078\\u8209\", \"\\u9999\\u6e2f\", \"\\u8ad6\\u6587\", \"\\u535a\\u58eb\", \"asus\", \"\\u8d70\\u79c1\", \"\\u5927\\u9678\", \"lse\", \"\\u4e2d\\u570b\\u4eba\", \"\\u7562\\u696d\", \"\\u5b78\\u751f\", \"\\u5b78\\u4f4d\", \"\\u5169\\u5236\", \"\\u904a\\u884c\", \"\\u5ddd\\u666e\", \"\\u82f1\\u570b\", \"\\u5317\\u4eac\", \"\\u5c0d\\u5cb8\", \"\\u611b\\u53f0\\u7063\", \"\\u4e00\\u570b\", \"\\u8b66\\u5bdf\", \"\\u4e2d\\u5171\", \"\\u6c11\\u65cf\", \"\\u4e2d\\u83ef\", \"\\u7f8e\\u570b\", \"\\u4e3b\\u6b0a\", \"\\u53f0\\u7368\", \"\\u7d71\\u4e00\", \"\\u5171\\u7522\\u9ee8\", \"\\u5916\\u4ea4\", \"\\u548c\\u5e73\", \"\\u4e2d\\u570b\", \"\\u65e5\\u672c\", \"\\u5169\\u5cb8\", \"\\u53f0\\u7063\", \"\\u6587\\u5316\", \"\\u570b\\u5bb6\", \"\\u6211\\u5011\", \"\\u53cd\\u9001\", \"\\u50f9\\u503c\", \"\\u4eba\\u6c11\", \"\\u653f\\u5e9c\", \"\\u6c11\\u4e3b\", \"\\u4e2d\\u83ef\\u6c11\\u570b\", \"\\u554f\\u984c\", \"\\u4ed6\\u5011\", \"\\u8521\\u82f1\\u6587\", \"\\u4e00\\u500b\", \"\\u9019\\u500b\", \"\\u9019\\u7a2e\", \"\\u4e8b\\u60c5\", \"\\u56e0\\u70ba\", \"\\u6c92\\u6709\", \"\\u9019\\u4e9b\", \"\\u653f\\u6cbb\", \"\\u67ef\\u6587\\u54f2\", \"re\", \"\\u4f46\\u662f\", \"\\u600e\\u9ebc\", \"\\u6c11\\u9032\\u9ee8\", \"\\u5927\\u5bb6\", \"\\u4e0d\\u8981\", \"\\u73fe\\u5728\", \"\\u53ea\\u662f\", \"news\", \"tw\", \"12\", \"ettoday\", \"udn\", \"16\", \"13\", \"ltn\", \"09\", \"22\", \"23\", \"\\u51fa\\u5e2d\", \"08\", \"21\", \"19\", \"\\u5c0d\\u6b64\", \"29\", \"breakingnews\", \"28\", \"27\", \"politics\", \"26\", \"\\u65e5\\u524d\", \"07\", \"net\", \"35\", \"\\u806f\\u5408\\u5831\", \"\\u53f0\\u4e2d\\u5e02\", \"\\u842c\\u5143\", \"chinatimes\", \"story\", \"\\u65b0\\u5317\\u5e02\", \"\\u8868\\u793a\", \"\\u6307\\u51fa\", \"\\u5e02\\u5e9c\", \"\\u5831\\u5c0e\", \"2019\", \"\\u4f86\\u6e90\", \"18\", \"\\u6843\\u5712\", \"14\", \"15\", \"10\", \"11\", \"25\", \"\\u8a18\\u8005\", \"\\u53f0\\u5317\\u5e02\", \"\\u9078\\u5340\", \"\\u7db2\\u5740\", \"\\u9ad8\\u96c4\\u5e02\", \"\\u5fc3\\u5f97\", \"\\u53f0\\u5317\", \"\\u5167\\u5bb9\", \"\\u97d3\\u570b\\u745c\", \"20\", \"\\u7acb\\u59d4\", \"\\u7e3d\\u7d71\", \"30\", \"\\u5e02\\u9577\", \"\\u67ef\\u6587\\u54f2\", \"\\u9ad8\\u96c4\", \"\\u9928\\u9577\", \"be\", \"youtu\", \"youtube\", \"watch\", \"live\", \"\\u76f4\\u64ad\", \"\\u674e\\u4f73\\u82ac\", \"\\u87d1\\u8782\", \"\\u6df9\\u6c34\", \"\\u5e33\\u865f\", \"\\u7559\\u8a00\", \"\\u7167\\u7247\", \"the\", \"\\u6c34\\u6876\", \"\\u67ef\\u7cde\", \"\\u516b\\u5366\", \"hatepolitics\", \"jpg\", \"\\u4f7f\\u7528\\u8005\", \"id\", \"\\u5f71\\u7247\", \"\\u63a8\\u6587\", \"\\u7db2\\u8ecd\", \"\\u653f\\u9ed1\", \"ptt\", \"\\u6587\\u7ae0\", \"\\u54c8\\u54c8\\u54c8\", \"fb\", \"\\u5206\\u4eab\", \"cc\", \"reurl\", \"http\", \"1450\", \"\\u8f49\\u9304\", \"\\u97d3\\u7c89\", \"\\u81c9\\u66f8\", \"\\u67ef\\u7c89\", \"\\u9ed1\\u7279\"], \"Total\": [1777.0, 1974.0, 717.0, 1085.0, 670.0, 1484.0, 649.0, 642.0, 626.0, 690.0, 804.0, 885.0, 788.0, 597.0, 1220.0, 739.0, 650.0, 707.0, 553.0, 580.0, 610.0, 3492.0, 489.0, 2791.0, 1326.0, 419.0, 460.0, 1199.0, 496.0, 1470.0, 780.8844095349292, 597.4946902223958, 377.4240763917792, 342.1658443443342, 235.90776104919607, 240.103451537764, 328.7615571635685, 283.6585040751859, 553.4673024443873, 313.3934075020887, 254.61455331609017, 424.3351993581885, 175.89996815040737, 455.9523886495142, 253.4971999632978, 297.3928721096867, 394.1673798461672, 204.93851902969683, 185.18294249241342, 230.01683087938403, 556.7034991557357, 220.9378163276681, 211.49534728831102, 204.93043548249162, 352.25422173389813, 814.0050053021416, 403.74680514496447, 277.0599173284256, 765.1894309485956, 288.6372295500092, 476.5621216423622, 1470.2597506886618, 833.0174610058814, 414.00577859741605, 989.2654535929059, 815.1097972359446, 471.474329088079, 2082.243333511404, 3492.645443798082, 1974.835038233612, 1260.9222669246192, 1590.4956809862263, 815.6939160380655, 1371.815577997295, 2041.2026175735082, 2897.111751457875, 1928.4526904908648, 1670.4452121223294, 715.5435091003735, 1329.0911925109394, 569.9673088098276, 965.7884636661707, 924.7346237822292, 1246.3560420770982, 1579.0942605404712, 1775.7714403704822, 1405.166932182117, 2171.5894841257204, 1212.0356010241053, 1630.3667798476174, 1568.6489410698912, 1328.548800469438, 1384.9689004790646, 1013.1591877462989, 1484.1642841637188, 555.6756456008567, 403.7818649271791, 344.60245192702683, 323.19638277658834, 312.2076780926412, 286.7054410965307, 241.60008463538676, 245.2337319169538, 235.55276020540893, 208.3182357025165, 194.06492746441828, 189.21736349136734, 177.22243991594834, 170.06898904147096, 158.41898224073717, 158.42265266096376, 146.85480793889886, 245.37552078516097, 352.8373526306788, 844.5943261487888, 130.97043926377714, 139.45049072618735, 878.9238006924023, 197.43083007610542, 241.6177205666465, 170.52294526444683, 178.28301352370147, 350.27514457132247, 182.63991376737428, 1399.6574808571986, 582.1226399475612, 478.55861403146076, 2791.7926055995067, 318.65232268441935, 736.3860982700019, 1495.797996662716, 318.7247918798931, 473.17105339624413, 777.6320724560414, 1056.9126231972054, 667.1529007170557, 636.4725276525829, 1261.7769981980903, 1126.182653901111, 2171.5894841257204, 1775.7714403704822, 1417.9955980847212, 1096.0275210015664, 679.2695066782836, 1384.9689004790646, 1302.3789735234477, 931.9715827787378, 1339.938034344113, 2897.111751457875, 1579.0942605404712, 1061.3556383416299, 1568.6489410698912, 2041.2026175735082, 1630.3667798476174, 1328.548800469438, 1670.4452121223294, 975.8368537184163, 788.2615988469803, 515.7212794615501, 435.30995053422157, 323.74121704967195, 305.59992542375943, 307.92263809809407, 294.2684016310572, 278.85099166021354, 274.3518355587898, 263.06568758324795, 261.0893701513773, 260.621856136586, 257.48617077800634, 251.5288690583123, 245.6591855456764, 233.11237188689555, 228.16824544549027, 224.14895119428482, 229.77718160055383, 226.30740578766213, 222.33571789703936, 224.64949798754986, 224.4342935374097, 208.79175306680793, 201.4826122738768, 208.32051772945226, 192.05576630746864, 183.00134043233638, 181.56736502756647, 186.3504744965615, 284.6676665000474, 339.2364945654732, 1085.788096639359, 399.5955888537384, 541.2332480397985, 611.0101554928975, 450.3541210490856, 481.08789961636535, 327.5463010305756, 343.6852461100726, 313.9439041527841, 398.1800993529888, 857.6077302454332, 496.9793613589976, 339.95805980377327, 814.3384102033293, 834.2605365351727, 399.89985791859925, 500.3365619551156, 866.6931898119341, 495.6417111246135, 643.8681869185704, 620.9563448573373, 3492.645443798082, 574.9398701603822, 1371.815577997295, 1928.4526904908648, 490.0641056054856, 869.0836610113989, 2897.111751457875, 1199.9762087467836, 717.2265590808836, 649.8419133574738, 642.4766205030874, 626.5390390116917, 553.1886135724858, 489.8082923040099, 670.6453860727744, 419.3976169772956, 372.8073279786593, 367.62633056138645, 349.00146141771205, 323.2835154919711, 298.48378751248083, 236.9855260046336, 185.9062252401408, 331.0358700390979, 597.1803764945881, 293.50267614014456, 1777.3048338533433, 95.03377811198015, 233.44960135726706, 580.4183759418406, 227.38557780105495, 460.96257465820946, 690.657570502861, 610.0718278457836, 650.9274212578312, 279.32014733853526, 424.0968896929501, 253.77094529531962, 707.601653704884, 496.109341196293, 739.7922255991809, 804.1441758556122, 885.3335061069065, 1974.835038233612, 599.0812857475671, 1220.5503524239734, 1326.484823068869], \"loglift\": [30.0, 29.0, 28.0, 27.0, 26.0, 25.0, 24.0, 23.0, 22.0, 21.0, 20.0, 19.0, 18.0, 17.0, 16.0, 15.0, 14.0, 13.0, 12.0, 11.0, 10.0, 9.0, 8.0, 7.0, 6.0, 5.0, 4.0, 3.0, 2.0, 1.0, 0.9855, 0.9851, 0.9842, 0.9841, 0.9827, 0.9826, 0.969, 0.9617, 0.9523, 0.9496, 0.9466, 0.9451, 0.9318, 0.9289, 0.9096, 0.9053, 0.9044, 0.9032, 0.9, 0.8994, 0.8893, 0.8709, 0.8686, 0.8684, 0.8676, 0.8663, 0.866, 0.8647, 0.8525, 0.8517, 0.8504, 0.8358, 0.8276, 0.8362, 0.7837, 0.7862, 0.8238, 0.6668, 0.5929, 0.5772, 0.6476, 0.5329, 0.6757, 0.5451, 0.4392, 0.3043, 0.4127, 0.4289, 0.6735, 0.4512, 0.7433, 0.5105, 0.5266, 0.3813, 0.2625, 0.197, 0.3119, 0.0846, 0.3877, 0.2114, 0.1828, 0.2403, 0.2016, 0.4598, 1.0506, 1.0496, 1.049, 1.0485, 1.0484, 1.0483, 1.0482, 1.0475, 1.0475, 1.0471, 1.047, 1.0466, 1.0462, 1.0461, 1.0459, 1.0455, 1.0454, 1.045, 1.0397, 1.0179, 1.0069, 1.006, 0.9944, 0.9879, 0.9868, 0.986, 0.9817, 0.9699, 0.9593, 0.9564, 0.9509, 0.9227, 0.9224, 0.8119, 0.9445, 0.8463, 0.6774, 0.9202, 0.8459, 0.7507, 0.6759, 0.7703, 0.7758, 0.5969, 0.5978, 0.2781, 0.3415, 0.4153, 0.4743, 0.6455, 0.3508, 0.3735, 0.5073, 0.3341, -0.0397, 0.2281, 0.4219, 0.1888, 0.0041, 0.0621, 0.2064, 0.0384, 0.4196, 1.7229, 1.7223, 1.722, 1.7214, 1.7212, 1.7211, 1.7211, 1.721, 1.7209, 1.7207, 1.7207, 1.7207, 1.7207, 1.7205, 1.7205, 1.7204, 1.7203, 1.7203, 1.7203, 1.7202, 1.7202, 1.7202, 1.7202, 1.7199, 1.7198, 1.7196, 1.7196, 1.7194, 1.7193, 1.7193, 1.7187, 1.6976, 1.6284, 1.6714, 1.6294, 1.5783, 1.6155, 1.5641, 1.6424, 1.6291, 1.6432, 1.5814, 1.3535, 1.5061, 1.593, 1.2817, 1.202, 1.5165, 1.4061, 1.1254, 1.3894, 1.2169, 1.2337, 0.0946, 1.2534, 0.5899, 0.2347, 1.2895, 0.7512, -0.3717, 0.3908, 2.3083, 2.3081, 2.3081, 2.3081, 2.3079, 2.3078, 2.3077, 2.3075, 2.3072, 2.3072, 2.3071, 2.3068, 2.3065, 2.3058, 2.3052, 2.3044, 2.2756, 2.2505, 2.2398, 2.2381, 2.2118, 2.2088, 2.2006, 2.1769, 2.1657, 2.1581, 2.1446, 2.1064, 2.0973, 2.0759, 2.0485, 2.0578, 2.0033, 1.96, 1.9157, 1.2132, 1.7448, 1.3063, 0.9539], \"logprob\": [30.0, 29.0, 28.0, 27.0, 26.0, 25.0, 24.0, 23.0, 22.0, 21.0, 20.0, 19.0, 18.0, 17.0, 16.0, 15.0, 14.0, 13.0, 12.0, 11.0, 10.0, 9.0, 8.0, 7.0, 6.0, 5.0, 4.0, 3.0, 2.0, 1.0, -5.1765, -5.4446, -5.9049, -6.0031, -6.3763, -6.3588, -6.0581, -6.213, -5.5539, -6.1254, -6.3361, -5.8268, -6.7207, -5.7711, -6.3775, -6.222, -5.9412, -6.5965, -6.7011, -6.4849, -5.6111, -6.5537, -6.5996, -6.6314, -6.0904, -5.2541, -5.9557, -6.3335, -5.3298, -6.3056, -5.8054, -4.6934, -5.2698, -5.9604, -5.1417, -5.3329, -5.8428, -4.5144, -4.0711, -4.657, -5.0352, -4.9178, -5.4427, -5.0534, -4.762, -4.5466, -4.8453, -4.9727, -5.5759, -5.179, -5.7335, -5.439, -5.4663, -5.3131, -5.1953, -5.1435, -5.2627, -5.0546, -5.3346, -5.2144, -5.2817, -5.3903, -5.3874, -5.4418, -4.4692, -5.4526, -5.7726, -5.9315, -5.9958, -6.0305, -6.1158, -6.2876, -6.2728, -6.3133, -6.4364, -6.5076, -6.5333, -6.5989, -6.6403, -6.7117, -6.7117, -6.788, -6.28, -5.9385, -5.0767, -6.9415, -6.8903, -5.0558, -6.5503, -6.3491, -6.7019, -6.6692, -6.0044, -6.6585, -4.6275, -5.5331, -5.7292, -4.0761, -6.1138, -5.3744, -4.8346, -6.1379, -5.8171, -5.4155, -5.1834, -5.5491, -5.5907, -5.0852, -5.198, -4.8612, -4.999, -5.1501, -5.3487, -5.6559, -5.2382, -5.277, -5.4778, -5.2879, -4.8906, -5.2297, -5.4332, -5.2757, -5.1971, -5.3637, -5.4242, -5.3632, -5.5195, -4.4297, -4.8546, -5.0244, -5.3211, -5.3789, -5.3714, -5.4169, -5.4708, -5.4871, -5.5293, -5.5369, -5.5387, -5.5508, -5.5743, -5.598, -5.6505, -5.6721, -5.6899, -5.6651, -5.6803, -5.698, -5.6877, -5.6887, -5.7611, -5.7969, -5.7637, -5.8451, -5.8935, -5.9015, -5.8755, -5.4524, -5.2981, -4.204, -5.1606, -4.8992, -4.829, -5.0969, -5.0823, -5.3884, -5.3536, -5.43, -5.2541, -4.7148, -5.1078, -5.4006, -4.8384, -4.8939, -5.3147, -5.201, -4.9323, -5.2272, -5.1381, -5.1575, -4.5694, -5.2147, -5.0086, -5.0232, -5.3384, -5.3038, -5.2227, -5.3416, -3.9388, -4.0376, -4.049, -4.0741, -4.1988, -4.3206, -4.0065, -4.4762, -4.5941, -4.6082, -4.6602, -4.7371, -4.8173, -5.0486, -5.292, -4.7158, -4.1546, -4.89, -3.0998, -6.0301, -5.1576, -4.2498, -5.1952, -4.5122, -4.1191, -4.2508, -4.1994, -5.0837, -4.6752, -5.2101, -4.212, -4.5578, -4.2128, -4.1726, -4.1207, -4.021, -4.6822, -4.4091, -4.6783]}, \"token.table\": {\"Topic\": [3, 3, 3, 1, 2, 3, 4, 1, 3, 1, 2, 3, 3, 3, 4, 1, 2, 4, 1, 3, 3, 3, 4, 3, 1, 2, 3, 2, 3, 1, 2, 3, 3, 3, 3, 1, 3, 3, 3, 3, 3, 1, 2, 3, 4, 3, 2, 4, 3, 3, 4, 3, 1, 2, 3, 2, 4, 3, 4, 2, 3, 4, 3, 4, 3, 4, 1, 2, 4, 2, 3, 3, 3, 3, 2, 3, 4, 1, 2, 3, 4, 3, 4, 3, 4, 4, 3, 3, 4, 4, 4, 1, 2, 4, 1, 2, 1, 2, 1, 2, 4, 1, 2, 4, 1, 2, 1, 2, 1, 2, 3, 4, 2, 2, 3, 1, 2, 1, 2, 1, 2, 1, 2, 3, 1, 2, 1, 2, 3, 4, 2, 3, 4, 1, 2, 1, 2, 3, 4, 2, 1, 2, 2, 4, 1, 2, 1, 2, 4, 3, 2, 4, 1, 1, 1, 2, 3, 2, 2, 1, 3, 1, 2, 1, 2, 4, 1, 2, 3, 3, 1, 2, 3, 4, 1, 2, 3, 1, 2, 3, 4, 1, 2, 1, 3, 1, 2, 1, 2, 4, 1, 2, 3, 1, 2, 3, 4, 1, 2, 3, 1, 2, 3, 2, 3, 4, 1, 2, 1, 2, 3, 4, 2, 2, 2, 1, 3, 2, 3, 2, 1, 2, 3, 1, 2, 3, 4, 1, 2, 2, 4, 3, 4, 1, 2, 4, 2, 1, 2, 3, 4, 1, 2, 3, 4, 1, 2, 2, 3, 2, 4, 1, 2, 3, 1, 2, 3, 1, 2, 3, 4, 1, 2, 4, 1, 2, 2, 3, 4, 1, 3, 3, 2, 3, 1, 2, 4, 1, 2, 1, 3, 4, 1, 2, 4, 1, 2, 3, 4, 1, 2, 4, 2, 4, 1, 3, 1, 2, 3, 2, 3, 1, 2, 3, 1, 2, 3, 4, 1, 2, 3, 4, 4, 4, 1, 1, 2, 4, 4, 2, 1, 2, 1, 4, 1, 2, 3, 1, 2, 1, 2, 3, 4, 1, 2, 4, 1, 2, 3, 1, 2, 1, 4, 1, 2, 3, 3, 1, 2, 3, 4, 2, 1, 2, 3, 1, 3, 1, 2, 3, 1, 2, 1, 2, 4, 1, 2, 3, 1, 3, 1, 2, 3, 4, 2, 2, 4, 2, 2, 3, 4, 1, 1, 2, 4, 1, 2, 4, 1, 2, 1, 4, 2, 1, 2, 1, 2, 1, 3, 1, 2, 1, 2, 1, 2, 3, 1, 3, 1, 1, 2, 3, 4, 1, 2, 4, 1, 2, 1, 2, 4, 1, 4, 1, 4, 2, 1, 3, 4, 1, 4, 1, 3, 4, 1, 2, 4, 1, 2], \"Freq\": [0.996207929407276, 0.998111856739578, 0.9987175753423585, 0.15624859160452229, 0.09211670699072581, 0.6902922852975909, 0.061799816082385675, 0.19517913125155142, 0.8048623969136142, 0.8889084436629138, 0.10874943725663307, 0.9969907636326393, 0.9956896437944857, 0.9237319029417066, 0.07644677817448606, 0.1504705295804146, 0.14425273910188505, 0.7050974402652486, 0.1305941710409332, 0.8664420963292684, 0.9970036691560166, 0.92200705381133, 0.07632508723603725, 0.9973166664042619, 0.2382857879760247, 0.13566636103744473, 0.6244131232364443, 0.10214184316298575, 0.8970718399531792, 0.8182946668802311, 0.06747557223150331, 0.11409505850054197, 0.9978973822754728, 0.9959489677538782, 0.9958275966932484, 0.12060311211231631, 0.8765787173041527, 0.997108838464505, 0.9942228766968022, 0.9966176728466237, 0.9948798946881968, 0.22650097962766916, 0.09590582020270676, 0.6468541490267669, 0.03060824049022556, 0.9936611249633739, 0.9982517479964002, 0.9987044335858178, 0.9948741620776581, 0.2289423705439283, 0.7702073576940798, 0.9927530396678093, 0.7331181319882414, 0.26603116160777324, 0.9977104643751363, 0.1886361393923938, 0.8087774476448885, 0.05451398334903142, 0.9437733367301063, 0.0013517308852361467, 0.26223579173581246, 0.7366933324537, 0.08995517609756797, 0.9081189206040194, 0.06695531218581012, 0.9328731731434722, 0.8742933095281377, 0.1241522636848626, 0.9983497782362815, 0.9975394917730452, 0.996948220785779, 0.9976046951723021, 0.9983995175601277, 0.9939923377598829, 0.029504722523509337, 0.10982313383750697, 0.8589152556843829, 0.48445493034606185, 0.43885917219584425, 0.001899823256259066, 0.07409310699410358, 0.2217253150983845, 0.7780542875270583, 0.9941417073440368, 0.003512868223830519, 0.9958414084554078, 0.9986014161325606, 0.9980368927677992, 0.9978513412183058, 0.9992581512106788, 0.9991396561457017, 0.45388724115973106, 0.49161732200055236, 0.05406101135401263, 0.008150772308502216, 0.9903188354830192, 0.6212540556990881, 0.3779295505502786, 0.5494888099303895, 0.4224298358624015, 0.0280519812877376, 0.4742016249439928, 0.4297922664174919, 0.09634572697274775, 0.9824749669235142, 0.015208590819249445, 0.04262401354760939, 0.9566723040685664, 0.016432591769462056, 0.9045070078321289, 0.07358943270672139, 0.005715684093725934, 0.9975162068494621, 0.9465725026323752, 0.05019702665474717, 0.24038743756040748, 0.7588701460240315, 0.0607807807695194, 0.937037036863424, 0.3327103569026224, 0.6668928835260529, 0.22247024798450488, 0.7407101898212417, 0.036006745338532584, 0.36406172531583114, 0.6357760861613051, 0.4663846708097188, 0.5332802498551532, 0.0631354463560323, 0.9365091209478125, 0.010393111121662295, 0.8522351119763081, 0.13718906680594228, 0.1838658543787636, 0.8136592406416551, 0.003220838335196484, 0.15460024008943124, 0.611959283687332, 0.23028994096654862, 0.9945125197101186, 0.11910766691633051, 0.8797250486276341, 0.031816182761276963, 0.9662072343819372, 0.07291777126188044, 0.9198857297652608, 0.7121771290392197, 0.25536863647063335, 0.03172281198392961, 0.9976139524681302, 0.20490919454741477, 0.7920528481544302, 0.9991720592157703, 0.9965927506687051, 0.7309129261161891, 0.14115144462282045, 0.12717605406610558, 0.9973552270390144, 0.9980636452622257, 0.8535235253549867, 0.14645551349269814, 0.11922511510908684, 0.8785008481722189, 0.4396226668067515, 0.5318511983046714, 0.028693320910463966, 0.5853623922751233, 0.3731873349209013, 0.040629266301872316, 0.9945282344382247, 0.17084242122046578, 0.18326732458195422, 0.6026078130321885, 0.04504027468539553, 0.2661039211107889, 0.1402439584232536, 0.5933398240983806, 0.16870880704222582, 0.7873077661970538, 0.04334132834842744, 0.0007163855925359907, 0.06208153923818879, 0.9353618578553777, 0.9180111176112485, 0.0810009809656984, 0.08760407114722447, 0.908892238152454, 0.17900606338790212, 0.003580121267758042, 0.8162676490488336, 0.3059177656204196, 0.6348189903159485, 0.05943998036666184, 0.45632793615899203, 0.49604001921080304, 0.010108530231370077, 0.03682393155713385, 0.1317243769645882, 0.8147899606057001, 0.052961347439370504, 0.7261399163421641, 0.13783211375013302, 0.13543085741302266, 0.09656140649970886, 0.8641427564719709, 0.039279216203271405, 0.08564695629978235, 0.9135675338643451, 0.4606325455614303, 0.37169550280988917, 0.027601151198754146, 0.13984583274035434, 0.996131811683751, 0.9936720100471714, 0.9976533486386366, 0.8881062472321214, 0.10735350241267401, 0.997332119782969, 0.9952281730999878, 0.9931022283829964, 0.003695264485771085, 0.0868387154156205, 0.9090350634996869, 0.5477033125281098, 0.07364078151638451, 0.37855964248266405, 0.9971304950596942, 0.9636450313588273, 0.03509965346008974, 0.09475923278747318, 0.9045199493349713, 0.7162431894492964, 0.28246210288141266, 0.4475188690219008, 0.4220192183653822, 0.13004821834824468, 0.9941792308273999, 0.5455904870222757, 0.40277415365468, 0.01925613483608032, 0.032093558060133864, 0.213264090947924, 0.6879271146878175, 0.036101131383034155, 0.06217417071522549, 0.8730682469232146, 0.12472403527474495, 0.050050602553874744, 0.9484589183959264, 0.10114977485565618, 0.8971545248066896, 0.635022158232913, 0.30116397405303497, 0.0635022158232913, 0.04919990438064577, 0.6869063573144005, 0.26303025803499086, 0.4224075931071332, 0.488082271894108, 0.05000231225826489, 0.03955406790579163, 0.12741480548157616, 0.0057915820673443705, 0.8658415190679835, 0.10042293032865018, 0.897529939812311, 0.1090751406090742, 0.04301554840921236, 0.8480208114959007, 0.023582368430752624, 0.9727726977685458, 0.9980649412771792, 0.8795397479234307, 0.12024957491140655, 0.5095480000287984, 0.3294982178957174, 0.16083498324931347, 0.9591473924755519, 0.04006266749897883, 0.8505235073468587, 0.14847043769147159, 0.9990519331507858, 0.6315325337461674, 0.3157662668730837, 0.052988174920483216, 0.5053308693609387, 0.33585173216406655, 0.12288100375170369, 0.035552649961869326, 0.48748500937986644, 0.1458358515455735, 0.36704753647425237, 0.003020820673849913, 0.9938500016966214, 0.08728917036605013, 0.9107170108191232, 0.08094096561966653, 0.7554490124502209, 0.1633808380100676, 0.954413841036659, 0.03817655364146636, 0.8167676300283516, 0.03032553081788434, 0.1536493561439473, 0.5785804847751571, 0.35077360465623414, 0.07054664674650518, 0.9951253636667078, 0.42767889479442056, 0.5075327638404165, 0.05528344780107411, 0.009213907966845685, 0.9982962848160793, 0.9983791832832442, 0.9962268533438737, 0.572302517354272, 0.36337617995192795, 0.06405477966203672, 0.9960297527388061, 0.9949691589843294, 0.859891379308931, 0.1376792376983401, 0.001491100991324029, 0.9990376641870994, 0.6429435662828865, 0.03499012605621151, 0.32147178314144326, 0.9213401721980116, 0.07733877357866521, 0.06450744785659906, 0.9324258371999319, 0.72751029542521, 0.27181703345557295, 0.041218096749151396, 0.08243619349830279, 0.8764268992977454, 0.5631457828107629, 0.21105003094289182, 0.22556944339105145, 0.9222278022445002, 0.07807219489900531, 0.9765263371993917, 0.021152195029589715, 0.010239795523696072, 0.9386479230054733, 0.050061222560291906, 0.9945028138036822, 0.013353780514136998, 0.05174589949228087, 0.36722896413876743, 0.5692048944150895, 0.9937143799848761, 0.9666334355022844, 0.03252224642811424, 0.9968751816854294, 0.8916536031470211, 0.10862785012958633, 0.40569362047481533, 0.4614131756138081, 0.13262175107462748, 0.9209285662899579, 0.07610979886693867, 0.7842555056945271, 0.21404736397031834, 0.9978344632251823, 0.03315564069216102, 0.057101381192055094, 0.909017148976748, 0.8842852562811461, 0.11188915487638991, 0.0871873401897772, 0.15349883836228378, 0.6422391397077953, 0.11665911715533568, 0.9987841007497709, 0.966450965175818, 0.031175837586316712, 0.9962982791876871, 0.1140813030381389, 0.21009032044647363, 0.6743221575620686, 0.9961520509322846, 0.37769391954043025, 0.5804898024754908, 0.04184676949453631, 0.38646100223454893, 0.5296208260550114, 0.0839212760326849, 0.4379452073989609, 0.5620296828286665, 0.872918725823931, 0.1259017393015285, 0.9935663225144616, 0.9173241766409865, 0.08260265097715044, 0.8885628068822642, 0.1107154935092917, 0.1850463273109312, 0.8127034645412519, 0.8866943228726252, 0.11145599030521824, 0.9430809240272157, 0.05483028628065207, 0.5902330129682867, 0.17963613438165246, 0.2289867207502383, 0.8597120334743226, 0.1394311446694906, 0.9988674258006305, 0.674560311921603, 0.04523791565518391, 0.19612640647975302, 0.08446319695113451, 0.8869724329668079, 0.009827949395754106, 0.1031934686554181, 0.962238791181138, 0.03534754743114384, 0.6638529166327846, 0.0015191142257043125, 0.33420512965494875, 0.9071256077352734, 0.09161070493960187, 0.995404266241502, 0.9982898582528017, 0.999215528781994, 0.47917616683460035, 0.26333855429518904, 0.25750510530763737, 0.9270319357926798, 0.07100670146497122, 0.44883241794528245, 0.5492139612903714, 0.0011538108430469987, 0.43196875684890573, 0.30984146433664966, 0.2578242841925406, 0.949403241831191, 0.05116544417054322], \"Term\": [\"07\", \"08\", \"09\", \"10\", \"10\", \"10\", \"10\", \"11\", \"11\", \"1124\", \"1124\", \"12\", \"13\", \"14\", \"14\", \"1450\", \"1450\", \"1450\", \"15\", \"15\", \"16\", \"18\", \"18\", \"19\", \"20\", \"20\", \"20\", \"2019\", \"2019\", \"2020\", \"2020\", \"2020\", \"21\", \"22\", \"23\", \"25\", \"25\", \"26\", \"27\", \"28\", \"29\", \"30\", \"30\", \"30\", \"30\", \"35\", \"asus\", \"be\", \"breakingnews\", \"cc\", \"cc\", \"chinatimes\", \"dpp\", \"dpp\", \"ettoday\", \"fb\", \"fb\", \"hatepolitics\", \"hatepolitics\", \"http\", \"http\", \"http\", \"id\", \"id\", \"jpg\", \"jpg\", \"kmt\", \"kmt\", \"live\", \"lse\", \"ltn\", \"net\", \"news\", \"politics\", \"ptt\", \"ptt\", \"ptt\", \"re\", \"re\", \"re\", \"re\", \"reurl\", \"reurl\", \"story\", \"story\", \"the\", \"tw\", \"udn\", \"watch\", \"youtu\", \"youtube\", \"\\u4e00\\u500b\", \"\\u4e00\\u500b\", \"\\u4e00\\u500b\", \"\\u4e00\\u570b\", \"\\u4e00\\u570b\", \"\\u4e00\\u5b9a\", \"\\u4e00\\u5b9a\", \"\\u4e0d\\u6703\", \"\\u4e0d\\u6703\", \"\\u4e0d\\u6703\", \"\\u4e0d\\u8981\", \"\\u4e0d\\u8981\", \"\\u4e0d\\u8981\", \"\\u4e0d\\u9078\", \"\\u4e0d\\u9078\", \"\\u4e2d\\u5171\", \"\\u4e2d\\u5171\", \"\\u4e2d\\u570b\", \"\\u4e2d\\u570b\", \"\\u4e2d\\u570b\", \"\\u4e2d\\u570b\", \"\\u4e2d\\u570b\\u4eba\", \"\\u4e2d\\u83ef\", \"\\u4e2d\\u83ef\", \"\\u4e2d\\u83ef\\u6c11\\u570b\", \"\\u4e2d\\u83ef\\u6c11\\u570b\", \"\\u4e3b\\u6b0a\", \"\\u4e3b\\u6b0a\", \"\\u4e8b\\u60c5\", \"\\u4e8b\\u60c5\", \"\\u4eba\\u6c11\", \"\\u4eba\\u6c11\", \"\\u4eba\\u6c11\", \"\\u4ed6\\u5011\", \"\\u4ed6\\u5011\", \"\\u4f46\\u662f\", \"\\u4f46\\u662f\", \"\\u4f7f\\u7528\\u8005\", \"\\u4f7f\\u7528\\u8005\", \"\\u4f86\\u6e90\", \"\\u4f86\\u6e90\", \"\\u4f86\\u6e90\", \"\\u50f9\\u503c\", \"\\u50f9\\u503c\", \"\\u5167\\u5bb9\", \"\\u5167\\u5bb9\", \"\\u5167\\u5bb9\", \"\\u5167\\u5bb9\", \"\\u5169\\u5236\", \"\\u5169\\u5cb8\", \"\\u5169\\u5cb8\", \"\\u516b\\u5366\", \"\\u516b\\u5366\", \"\\u5171\\u7522\\u9ee8\", \"\\u5171\\u7522\\u9ee8\", \"\\u51fa\\u4f86\", \"\\u51fa\\u4f86\", \"\\u51fa\\u4f86\", \"\\u51fa\\u5e2d\", \"\\u5206\\u4eab\", \"\\u5206\\u4eab\", \"\\u521d\\u9078\", \"\\u526f\\u624b\", \"\\u529b\\u91cf\", \"\\u529b\\u91cf\", \"\\u529b\\u91cf\", \"\\u5317\\u4eac\", \"\\u535a\\u58eb\", \"\\u53c3\\u9078\", \"\\u53c3\\u9078\", \"\\u53cd\\u9001\", \"\\u53cd\\u9001\", \"\\u53ea\\u662f\", \"\\u53ea\\u662f\", \"\\u53ea\\u662f\", \"\\u53ef\\u80fd\", \"\\u53ef\\u80fd\", \"\\u53ef\\u80fd\", \"\\u53f0\\u4e2d\\u5e02\", \"\\u53f0\\u5317\", \"\\u53f0\\u5317\", \"\\u53f0\\u5317\", \"\\u53f0\\u5317\", \"\\u53f0\\u5317\\u5e02\", \"\\u53f0\\u5317\\u5e02\", \"\\u53f0\\u5317\\u5e02\", \"\\u53f0\\u7063\", \"\\u53f0\\u7063\", \"\\u53f0\\u7063\", \"\\u53f0\\u7063\", \"\\u53f0\\u7368\", \"\\u53f0\\u7368\", \"\\u5433\\u6566\\u7fa9\", \"\\u5433\\u6566\\u7fa9\", \"\\u548c\\u5e73\", \"\\u548c\\u5e73\", \"\\u54c8\\u54c8\\u54c8\", \"\\u54c8\\u54c8\\u54c8\", \"\\u54c8\\u54c8\\u54c8\", \"\\u554f\\u984c\", \"\\u554f\\u984c\", \"\\u554f\\u984c\", \"\\u56e0\\u70ba\", \"\\u56e0\\u70ba\", \"\\u56e0\\u70ba\", \"\\u56e0\\u70ba\", \"\\u570b\\u5bb6\", \"\\u570b\\u5bb6\", \"\\u570b\\u5bb6\", \"\\u570b\\u6c11\\u9ee8\", \"\\u570b\\u6c11\\u9ee8\", \"\\u570b\\u6c11\\u9ee8\", \"\\u5831\\u5c0e\", \"\\u5831\\u5c0e\", \"\\u5831\\u5c0e\", \"\\u5916\\u4ea4\", \"\\u5916\\u4ea4\", \"\\u5927\\u5bb6\", \"\\u5927\\u5bb6\", \"\\u5927\\u5bb6\", \"\\u5927\\u5bb6\", \"\\u5927\\u9678\", \"\\u5b78\\u4f4d\", \"\\u5b78\\u751f\", \"\\u5b8b\\u695a\\u745c\", \"\\u5b8b\\u695a\\u745c\", \"\\u5c0d\\u5cb8\", \"\\u5c0d\\u6b64\", \"\\u5ddd\\u666e\", \"\\u5e02\\u5e9c\", \"\\u5e02\\u5e9c\", \"\\u5e02\\u5e9c\", \"\\u5e02\\u9577\", \"\\u5e02\\u9577\", \"\\u5e02\\u9577\", \"\\u5e33\\u865f\", \"\\u5eb6\\u6c11\", \"\\u5eb6\\u6c11\", \"\\u5f71\\u7247\", \"\\u5f71\\u7247\", \"\\u5fc3\\u5f97\", \"\\u5fc3\\u5f97\", \"\\u600e\\u9ebc\", \"\\u600e\\u9ebc\", \"\\u600e\\u9ebc\", \"\\u611b\\u53f0\\u7063\", \"\\u61c9\\u8a72\", \"\\u61c9\\u8a72\", \"\\u61c9\\u8a72\", \"\\u61c9\\u8a72\", \"\\u6211\\u5011\", \"\\u6211\\u5011\", \"\\u6211\\u5011\", \"\\u6211\\u5011\", \"\\u6295\\u7d66\", \"\\u6295\\u7d66\", \"\\u6307\\u51fa\", \"\\u6307\\u51fa\", \"\\u63a8\\u6587\", \"\\u63a8\\u6587\", \"\\u652f\\u6301\", \"\\u652f\\u6301\", \"\\u652f\\u6301\", \"\\u653f\\u5e9c\", \"\\u653f\\u5e9c\", \"\\u653f\\u5e9c\", \"\\u653f\\u6cbb\", \"\\u653f\\u6cbb\", \"\\u653f\\u6cbb\", \"\\u653f\\u6cbb\", \"\\u653f\\u9ed1\", \"\\u653f\\u9ed1\", \"\\u653f\\u9ed1\", \"\\u6587\\u5316\", \"\\u6587\\u5316\", \"\\u6587\\u7ae0\", \"\\u6587\\u7ae0\", \"\\u6587\\u7ae0\", \"\\u65b0\\u5317\\u5e02\", \"\\u65b0\\u5317\\u5e02\", \"\\u65e5\\u524d\", \"\\u65e5\\u672c\", \"\\u65e5\\u672c\", \"\\u662f\\u4e0d\\u662f\", \"\\u662f\\u4e0d\\u662f\", \"\\u662f\\u4e0d\\u662f\", \"\\u6642\\u529b\", \"\\u6642\\u529b\", \"\\u6731\\u7acb\\u502b\", \"\\u6731\\u7acb\\u502b\", \"\\u674e\\u4f73\\u82ac\", \"\\u67efp\", \"\\u67efp\", \"\\u67efp\", \"\\u67ef\\u6587\\u54f2\", \"\\u67ef\\u6587\\u54f2\", \"\\u67ef\\u6587\\u54f2\", \"\\u67ef\\u6587\\u54f2\", \"\\u67ef\\u7c89\", \"\\u67ef\\u7c89\", \"\\u67ef\\u7c89\", \"\\u67ef\\u7cde\", \"\\u67ef\\u7cde\", \"\\u6843\\u5712\", \"\\u6843\\u5712\", \"\\u6c11\\u4e3b\", \"\\u6c11\\u4e3b\", \"\\u6c11\\u4e3b\", \"\\u6c11\\u65cf\", \"\\u6c11\\u65cf\", \"\\u6c11\\u8abf\", \"\\u6c11\\u8abf\", \"\\u6c11\\u8abf\", \"\\u6c11\\u9032\\u9ee8\", \"\\u6c11\\u9032\\u9ee8\", \"\\u6c11\\u9032\\u9ee8\", \"\\u6c34\\u6876\", \"\\u6c92\\u6709\", \"\\u6c92\\u6709\", \"\\u6c92\\u6709\", \"\\u6c92\\u6709\", \"\\u6df9\\u6c34\", \"\\u7167\\u7247\", \"\\u738b\\u91d1\\u5e73\", \"\\u73fe\\u5728\", \"\\u73fe\\u5728\", \"\\u73fe\\u5728\", \"\\u7559\\u8a00\", \"\\u7562\\u696d\", \"\\u7576\\u9078\", \"\\u7576\\u9078\", \"\\u76f4\\u64ad\", \"\\u76f4\\u64ad\", \"\\u7acb\\u59d4\", \"\\u7acb\\u59d4\", \"\\u7acb\\u59d4\", \"\\u7d44\\u9ee8\", \"\\u7d44\\u9ee8\", \"\\u7d71\\u4e00\", \"\\u7d71\\u4e00\", \"\\u7db2\\u5740\", \"\\u7db2\\u5740\", \"\\u7db2\\u8ecd\", \"\\u7db2\\u8ecd\", \"\\u7db2\\u8ecd\", \"\\u7e3d\\u7d71\", \"\\u7e3d\\u7d71\", \"\\u7e3d\\u7d71\", \"\\u7e3d\\u7d71\\u5019\", \"\\u7e3d\\u7d71\\u5019\", \"\\u7f77\\u514d\", \"\\u7f77\\u514d\", \"\\u7f8e\\u570b\", \"\\u7f8e\\u570b\", \"\\u7f8e\\u570b\", \"\\u806f\\u5408\\u5831\", \"\\u81c9\\u66f8\", \"\\u81c9\\u66f8\", \"\\u81c9\\u66f8\", \"\\u81c9\\u66f8\", \"\\u82f1\\u570b\", \"\\u8349\\u5305\", \"\\u8349\\u5305\", \"\\u842c\\u5143\", \"\\u842c\\u7968\", \"\\u842c\\u7968\", \"\\u8521\\u82f1\\u6587\", \"\\u8521\\u82f1\\u6587\", \"\\u8521\\u82f1\\u6587\", \"\\u85cd\\u71df\", \"\\u85cd\\u71df\", \"\\u85cd\\u7da0\", \"\\u85cd\\u7da0\", \"\\u87d1\\u8782\", \"\\u8868\\u793a\", \"\\u8868\\u793a\", \"\\u8868\\u793a\", \"\\u89aa\\u6c11\\u9ee8\", \"\\u89aa\\u6c11\\u9ee8\", \"\\u8a18\\u8005\", \"\\u8a18\\u8005\", \"\\u8a18\\u8005\", \"\\u8a18\\u8005\", \"\\u8ad6\\u6587\", \"\\u8b66\\u5bdf\", \"\\u8b66\\u5bdf\", \"\\u8d70\\u79c1\", \"\\u8f49\\u9304\", \"\\u8f49\\u9304\", \"\\u8f49\\u9304\", \"\\u9000\\u9ee8\", \"\\u9019\\u4e9b\", \"\\u9019\\u4e9b\", \"\\u9019\\u4e9b\", \"\\u9019\\u500b\", \"\\u9019\\u500b\", \"\\u9019\\u500b\", \"\\u9019\\u7a2e\", \"\\u9019\\u7a2e\", \"\\u9020\\u52e2\", \"\\u9020\\u52e2\", \"\\u904a\\u884c\", \"\\u9078\\u4e0a\", \"\\u9078\\u4e0a\", \"\\u9078\\u4eba\", \"\\u9078\\u4eba\", \"\\u9078\\u5340\", \"\\u9078\\u5340\", \"\\u9078\\u6c11\", \"\\u9078\\u6c11\", \"\\u9078\\u7e3d\\u7d71\", \"\\u9078\\u7e3d\\u7d71\", \"\\u9078\\u8209\", \"\\u9078\\u8209\", \"\\u9078\\u8209\", \"\\u90ed\\u53f0\\u9298\", \"\\u90ed\\u53f0\\u9298\", \"\\u90ed\\u8463\", \"\\u97d3\\u570b\\u745c\", \"\\u97d3\\u570b\\u745c\", \"\\u97d3\\u570b\\u745c\", \"\\u97d3\\u570b\\u745c\", \"\\u97d3\\u5c0e\", \"\\u97d3\\u5c0e\", \"\\u97d3\\u5c0e\", \"\\u97d3\\u7684\", \"\\u97d3\\u7684\", \"\\u97d3\\u7c89\", \"\\u97d3\\u7c89\", \"\\u97d3\\u7c89\", \"\\u97d3\\u7e3d\", \"\\u97d3\\u7e3d\", \"\\u97d3\\u9ed1\", \"\\u9928\\u9577\", \"\\u9999\\u6e2f\", \"\\u9ad8\\u96c4\", \"\\u9ad8\\u96c4\", \"\\u9ad8\\u96c4\", \"\\u9ad8\\u96c4\\u4eba\", \"\\u9ad8\\u96c4\\u4eba\", \"\\u9ad8\\u96c4\\u5e02\", \"\\u9ad8\\u96c4\\u5e02\", \"\\u9ad8\\u96c4\\u5e02\", \"\\u9ed1\\u7279\", \"\\u9ed1\\u7279\", \"\\u9ed1\\u7279\", \"\\u9ee8\\u5167\", \"\\u9ee8\\u5167\"]}, \"R\": 30, \"lambda.step\": 0.01, \"plot.opts\": {\"xlab\": \"PC1\", \"ylab\": \"PC2\"}, \"topic.order\": [3, 1, 4, 2]};\n",
       "\n",
       "function LDAvis_load_lib(url, callback){\n",
       "  var s = document.createElement('script');\n",
       "  s.src = url;\n",
       "  s.async = true;\n",
       "  s.onreadystatechange = s.onload = callback;\n",
       "  s.onerror = function(){console.warn(\"failed to load library \" + url);};\n",
       "  document.getElementsByTagName(\"head\")[0].appendChild(s);\n",
       "}\n",
       "\n",
       "if(typeof(LDAvis) !== \"undefined\"){\n",
       "   // already loaded: just create the visualization\n",
       "   !function(LDAvis){\n",
       "       new LDAvis(\"#\" + \"ldavis_el1221405571199974165114741660\", ldavis_el1221405571199974165114741660_data);\n",
       "   }(LDAvis);\n",
       "}else if(typeof define === \"function\" && define.amd){\n",
       "   // require.js is available: use it to load d3/LDAvis\n",
       "   require.config({paths: {d3: \"https://cdnjs.cloudflare.com/ajax/libs/d3/3.5.5/d3.min\"}});\n",
       "   require([\"d3\"], function(d3){\n",
       "      window.d3 = d3;\n",
       "      LDAvis_load_lib(\"https://cdn.rawgit.com/bmabey/pyLDAvis/files/ldavis.v1.0.0.js\", function(){\n",
       "        new LDAvis(\"#\" + \"ldavis_el1221405571199974165114741660\", ldavis_el1221405571199974165114741660_data);\n",
       "      });\n",
       "    });\n",
       "}else{\n",
       "    // require.js not available: dynamically load d3 & LDAvis\n",
       "    LDAvis_load_lib(\"https://cdnjs.cloudflare.com/ajax/libs/d3/3.5.5/d3.min.js\", function(){\n",
       "         LDAvis_load_lib(\"https://cdn.rawgit.com/bmabey/pyLDAvis/files/ldavis.v1.0.0.js\", function(){\n",
       "                 new LDAvis(\"#\" + \"ldavis_el1221405571199974165114741660\", ldavis_el1221405571199974165114741660_data);\n",
       "            })\n",
       "         });\n",
       "}\n",
       "</script>"
      ],
      "text/plain": [
       "<IPython.core.display.HTML object>"
      ]
     },
     "execution_count": 48,
     "metadata": {
      "tags": []
     },
     "output_type": "execute_result"
    }
   ],
   "source": [
    "n_top_words = 50\n",
    "#tf_feature_names = tf_vectorizer.get_feature_names()\n",
    "#print_top_words(lda, tf_feature_names, n_top_words)\n",
    "\n",
    "data = pyLDAvis.sklearn.prepare(lda, tfidf, tfidf_vectorizer)\n",
    "pyLDAvis.display(data)#可视化主题模型"
   ]
  },
  {
   "cell_type": "code",
   "execution_count": 0,
   "metadata": {
    "colab": {},
    "colab_type": "code",
    "id": "6chPW4ceLz0_"
   },
   "outputs": [],
   "source": []
  },
  {
   "cell_type": "code",
   "execution_count": 0,
   "metadata": {
    "colab": {
     "base_uri": "https://localhost:8080/",
     "height": 153
    },
    "colab_type": "code",
    "id": "b19XxWwWLuXF",
    "outputId": "54a1dd2b-f8f3-4429-fd98-eada37bbc6cd"
   },
   "outputs": [
    {
     "data": {
      "text/plain": [
       "LatentDirichletAllocation(batch_size=128, doc_topic_prior=None,\n",
       "                          evaluate_every=-1, learning_decay=0.7,\n",
       "                          learning_method='online', learning_offset=20.0,\n",
       "                          max_doc_update_iter=100, max_iter=30,\n",
       "                          mean_change_tol=0.001, n_components=4, n_jobs=None,\n",
       "                          perp_tol=0.1, random_state=None,\n",
       "                          topic_word_prior=None, total_samples=1000000.0,\n",
       "                          verbose=0)"
      ]
     },
     "execution_count": 49,
     "metadata": {
      "tags": []
     },
     "output_type": "execute_result"
    }
   ],
   "source": [
    "n_topics = 4\n",
    "lda = LatentDirichletAllocation(n_components=n_topics, max_iter=30, \n",
    "                  learning_method='online', learning_offset=20.0,)#LDA模型训练\n",
    "lda.fit(tf)"
   ]
  },
  {
   "cell_type": "code",
   "execution_count": 0,
   "metadata": {
    "colab": {
     "base_uri": "https://localhost:8080/",
     "height": 1000
    },
    "colab_type": "code",
    "id": "24c1bZLqoeXm",
    "outputId": "93a0ca6b-1731-444a-89fd-67b255f015c6"
   },
   "outputs": [
    {
     "name": "stdout",
     "output_type": "stream",
     "text": [
      "Topic #0:\n",
      "一個 這個 因為 現在 大家 怎麼 沒有 re 問題 但是 我們 可能 這種 他們 不要 覺得 不會 出來 其實 只是 應該 時候 一樣 這些 是不是 根本 很多 看到 有人 一下 這麼 結果 到底 一直 政治 還有 已經 今天 一定 而且 只有 開始 不能 黑特 完全 不過 時間 支持 認為 希望\n",
      "Topic #1:\n",
      "台灣 中國 政府 我們 政治 表示 問題 一個 他們 希望 認為 news 沒有 因為 這些 目前 支持 今天 可能 不能 on 應該 已經 時間 不要 這個 不會 只是 開始 不過 很多 完全 只有 大家 現在 但是 一樣 re 還有 這種 看到 一定 其實 一直 而且 根本 有人 怎麼 這麼 結果\n",
      "Topic #2:\n",
      "民進黨 蔡英文 國民黨 總統 立委 支持 選舉 表示 可能 news 希望 目前 認為 應該 結果 一定 不會 大家 不過 現在 沒有 今天 時間 已經 re 出來 只有 政治 不能 還有 因為 不要 完全 問題 開始 只是 有人 而且 一個 一直 很多 一樣 這些 on 其實 到底 怎麼 這個 但是 根本\n",
      "Topic #3:\n",
      "韓國瑜 柯文哲 韓粉 on 表示 支持 news 政治 re 不要 今天 現在 怎麼 大家 一定 因為 出來 沒有 開始 不會 認為 黑特 是不是 結果 希望 時間 一直 已經 應該 看到 很多 不過 到底 只是 目前 這麼 可能 還有 有人 問題 只有 一樣 一下 根本 完全 覺得 一個 這些 而且 不能\n",
      "\n"
     ]
    },
    {
     "name": "stderr",
     "output_type": "stream",
     "text": [
      "/usr/local/lib/python3.6/dist-packages/pyLDAvis/_prepare.py:257: FutureWarning: Sorting because non-concatenation axis is not aligned. A future version\n",
      "of pandas will change to not sort by default.\n",
      "\n",
      "To accept the future behavior, pass 'sort=False'.\n",
      "\n",
      "To retain the current behavior and silence the warning, pass 'sort=True'.\n",
      "\n",
      "  return pd.concat([default_term_info] + list(topic_dfs))\n"
     ]
    },
    {
     "data": {
      "text/html": [
       "\n",
       "<link rel=\"stylesheet\" type=\"text/css\" href=\"https://cdn.rawgit.com/bmabey/pyLDAvis/files/ldavis.v1.0.0.css\">\n",
       "\n",
       "\n",
       "<div id=\"ldavis_el1221405571200739209396910193\"></div>\n",
       "<script type=\"text/javascript\">\n",
       "\n",
       "var ldavis_el1221405571200739209396910193_data = {\"mdsDat\": {\"x\": [-0.11719202806176718, 0.335187462083297, -0.12453514227220089, -0.0934602917493291], \"y\": [-0.026255600846592883, -0.016152645993667395, -0.20275896172004684, 0.2451672085603072], \"topics\": [1, 2, 3, 4], \"cluster\": [1, 1, 1, 1], \"Freq\": [47.2151679766098, 18.92651350673968, 17.307240094996246, 16.551078421654267]}, \"tinfo\": {\"Category\": [\"Default\", \"Default\", \"Default\", \"Default\", \"Default\", \"Default\", \"Default\", \"Default\", \"Default\", \"Default\", \"Default\", \"Default\", \"Default\", \"Default\", \"Default\", \"Default\", \"Default\", \"Default\", \"Default\", \"Default\", \"Default\", \"Default\", \"Default\", \"Default\", \"Default\", \"Default\", \"Default\", \"Default\", \"Default\", \"Default\", \"Topic1\", \"Topic1\", \"Topic1\", \"Topic1\", \"Topic1\", \"Topic1\", \"Topic1\", \"Topic1\", \"Topic1\", \"Topic1\", \"Topic1\", \"Topic1\", \"Topic1\", \"Topic1\", \"Topic1\", \"Topic1\", \"Topic1\", \"Topic1\", \"Topic1\", \"Topic1\", \"Topic1\", \"Topic1\", \"Topic1\", \"Topic1\", \"Topic1\", \"Topic1\", \"Topic1\", \"Topic1\", \"Topic1\", \"Topic1\", \"Topic1\", \"Topic1\", \"Topic1\", \"Topic1\", \"Topic1\", \"Topic1\", \"Topic1\", \"Topic2\", \"Topic2\", \"Topic2\", \"Topic2\", \"Topic2\", \"Topic2\", \"Topic2\", \"Topic2\", \"Topic2\", \"Topic2\", \"Topic2\", \"Topic2\", \"Topic2\", \"Topic2\", \"Topic2\", \"Topic2\", \"Topic2\", \"Topic2\", \"Topic2\", \"Topic2\", \"Topic2\", \"Topic2\", \"Topic2\", \"Topic2\", \"Topic2\", \"Topic2\", \"Topic2\", \"Topic2\", \"Topic2\", \"Topic2\", \"Topic2\", \"Topic3\", \"Topic3\", \"Topic3\", \"Topic3\", \"Topic3\", \"Topic3\", \"Topic3\", \"Topic3\", \"Topic3\", \"Topic3\", \"Topic3\", \"Topic3\", \"Topic3\", \"Topic3\", \"Topic3\", \"Topic3\", \"Topic3\", \"Topic3\", \"Topic3\", \"Topic3\", \"Topic3\", \"Topic3\", \"Topic3\", \"Topic3\", \"Topic3\", \"Topic3\", \"Topic3\", \"Topic3\", \"Topic3\", \"Topic3\", \"Topic3\", \"Topic3\", \"Topic4\", \"Topic4\", \"Topic4\", \"Topic4\", \"Topic4\", \"Topic4\", \"Topic4\", \"Topic4\", \"Topic4\", \"Topic4\", \"Topic4\", \"Topic4\", \"Topic4\", \"Topic4\", \"Topic4\", \"Topic4\", \"Topic4\", \"Topic4\", \"Topic4\", \"Topic4\", \"Topic4\", \"Topic4\", \"Topic4\", \"Topic4\", \"Topic4\", \"Topic4\", \"Topic4\", \"Topic4\", \"Topic4\", \"Topic4\", \"Topic4\", \"Topic4\", \"Topic4\", \"Topic4\"], \"Freq\": [67031.0, 60502.0, 53330.0, 38193.0, 37825.0, 37454.0, 37136.0, 26574.0, 20586.0, 21885.0, 19390.0, 32289.0, 16301.0, 28549.0, 20568.0, 27756.0, 8870.0, 20472.0, 35978.0, 24993.0, 25219.0, 11768.0, 15052.0, 22568.0, 17589.0, 13633.0, 12648.0, 12051.0, 17185.0, 9990.0, 12163.728479575882, 14373.12308960619, 11241.932879646507, 16347.021839105893, 25712.188382836626, 15692.736468150966, 12859.038889198462, 11764.827584595327, 11130.233410822233, 10482.879978574516, 19621.649410219157, 11409.778922504907, 11789.53032791523, 11978.851876235238, 8568.459830813948, 11491.39088575115, 8124.1599910908635, 29182.229061231537, 11643.866580722266, 10284.612513407912, 12701.176809141443, 13551.174112900842, 22727.333277891794, 21245.676329428068, 19710.60078143777, 10127.73865671715, 15654.597294053492, 11790.979998683859, 18425.41552920746, 7808.009127442861, 18556.224249233554, 14875.414522026173, 14259.390432425118, 16725.248318942948, 15813.456892816484, 16235.586769830572, 12661.79802502158, 38193.042762641075, 37453.70976380388, 21885.046473351293, 37822.74533612029, 37116.384273300006, 12939.901427617757, 15343.470911551352, 3600.1780543383275, 6176.511299140767, 3164.7633360860605, 3322.908951122385, 3057.1228480986056, 4798.003469909959, 2692.416999456297, 2702.3953240740325, 2043.0175547411081, 2867.9743748392752, 1530.9460775759708, 1324.237847786216, 2282.78440579775, 1481.4863305493923, 1149.0348661723624, 1580.9381484599892, 2126.871291149071, 1340.877534785056, 1018.8911523881541, 709.7279410557463, 1742.2435063809628, 1823.761683385344, 1460.3903743056387, 1305.8991879584405, 67031.06763710939, 26574.048959363492, 19389.476598389116, 16053.367120034725, 8848.312350913879, 9621.223011715465, 3799.277313776125, 4288.539216039989, 7263.663931397419, 3997.9964648619275, 3090.0812376946, 2278.743999781454, 4815.9680406983825, 3280.0956368883158, 2321.679973075267, 2038.1542885720794, 5900.469453248934, 2746.0222066710544, 2100.249669997892, 3544.808271673433, 1505.9154194108792, 1275.7477683142174, 1437.5901863200525, 3437.2509059612476, 2169.5295542267486, 1682.621268008829, 1221.542552998603, 2412.4394217951135, 2859.672075962813, 1953.0663031639713, 1839.3652938298876, 1875.6029460494487, 60501.368358989894, 53329.30567047983, 20585.505725468738, 6552.5242259899505, 4368.784451568588, 5543.214193896021, 3503.016538874411, 1865.652736289362, 4913.2934027848405, 2062.560954352292, 3505.1996149094684, 3836.4539984058392, 3739.79354008482, 2197.943175463894, 1660.6212083661167, 1842.7603891681883, 1876.8557028119567, 2162.5694013553507, 1595.4637456001087, 1665.5304634869835, 1377.0559174966288, 2573.8194094216115, 1340.4868127876862, 1785.9810999979761, 3031.8093028538797, 1508.1099374796997, 1387.7183400464316, 1959.6739315060474, 1379.8163153820985, 1059.5401918517664, 2314.1364987130037, 2146.516379370981, 2186.925704369504, 1399.0164208387553], \"Term\": [\"\\u53f0\\u7063\", \"\\u97d3\\u570b\\u745c\", \"\\u67ef\\u6587\\u54f2\", \"\\u6c11\\u9032\\u9ee8\", \"\\u8521\\u82f1\\u6587\", \"\\u570b\\u6c11\\u9ee8\", \"\\u7e3d\\u7d71\", \"\\u4e2d\\u570b\", \"\\u97d3\\u7c89\", \"\\u7acb\\u59d4\", \"\\u653f\\u5e9c\", \"\\u6211\\u5011\", \"\\u9078\\u8209\", \"\\u652f\\u6301\", \"\\u8868\\u793a\", \"\\u9019\\u500b\", \"on\", \"\\u4ed6\\u5011\", \"\\u4e00\\u500b\", \"\\u653f\\u6cbb\", \"\\u554f\\u984c\", \"news\", \"\\u89ba\\u5f97\", \"\\u600e\\u9ebc\", \"\\u4f46\\u662f\", \"\\u662f\\u4e0d\\u662f\", \"\\u6642\\u5019\", \"\\u4e00\\u4e0b\", \"\\u9019\\u7a2e\", \"\\u9ed1\\u7279\", \"\\u6642\\u5019\", \"\\u89ba\\u5f97\", \"\\u4e00\\u4e0b\", \"\\u4f46\\u662f\", \"\\u9019\\u500b\", \"\\u9019\\u7a2e\", \"\\u5176\\u5be6\", \"\\u6839\\u672c\", \"\\u9019\\u9ebc\", \"\\u5230\\u5e95\", \"\\u600e\\u9ebc\", \"\\u6709\\u4eba\", \"\\u662f\\u4e0d\\u662f\", \"\\u4e00\\u6a23\", \"\\u800c\\u4e14\", \"\\u770b\\u5230\", \"\\u9ed1\\u7279\", \"\\u4e00\\u500b\", \"\\u5f88\\u591a\", \"\\u4e00\\u76f4\", \"\\u53ea\\u662f\", \"\\u51fa\\u4f86\", \"\\u56e0\\u70ba\", \"\\u73fe\\u5728\", \"\\u5927\\u5bb6\", \"\\u9084\\u6709\", \"\\u4ed6\\u5011\", \"\\u9019\\u4e9b\", \"re\", \"\\u5b8c\\u5168\", \"\\u6c92\\u6709\", \"\\u4e0d\\u8981\", \"\\u4e0d\\u6703\", \"\\u554f\\u984c\", \"\\u53ef\\u80fd\", \"\\u6211\\u5011\", \"\\u61c9\\u8a72\", \"\\u6c11\\u9032\\u9ee8\", \"\\u570b\\u6c11\\u9ee8\", \"\\u7acb\\u59d4\", \"\\u8521\\u82f1\\u6587\", \"\\u7e3d\\u7d71\", \"\\u9078\\u8209\", \"\\u652f\\u6301\", \"news\", \"\\u8868\\u793a\", \"\\u76ee\\u524d\", \"\\u5e0c\\u671b\", \"\\u8a8d\\u70ba\", \"\\u53ef\\u80fd\", \"\\u4e00\\u5b9a\", \"\\u7d50\\u679c\", \"\\u4e0d\\u904e\", \"\\u61c9\\u8a72\", \"\\u6642\\u9593\", \"\\u53ea\\u6709\", \"\\u4e0d\\u6703\", \"\\u5df2\\u7d93\", \"\\u4e0d\\u80fd\", \"\\u4eca\\u5929\", \"\\u5927\\u5bb6\", \"\\u51fa\\u4f86\", \"\\u9084\\u6709\", \"\\u5b8c\\u5168\", \"\\u6c92\\u6709\", \"\\u73fe\\u5728\", \"re\", \"\\u653f\\u6cbb\", \"\\u53f0\\u7063\", \"\\u4e2d\\u570b\", \"\\u653f\\u5e9c\", \"\\u6211\\u5011\", \"\\u8868\\u793a\", \"\\u653f\\u6cbb\", \"news\", \"\\u5e0c\\u671b\", \"\\u554f\\u984c\", \"\\u8a8d\\u70ba\", \"\\u76ee\\u524d\", \"on\", \"\\u4ed6\\u5011\", \"\\u9019\\u4e9b\", \"\\u4e0d\\u80fd\", \"\\u6642\\u9593\", \"\\u4e00\\u500b\", \"\\u4eca\\u5929\", \"\\u5df2\\u7d93\", \"\\u6c92\\u6709\", \"\\u958b\\u59cb\", \"\\u5b8c\\u5168\", \"\\u4e0d\\u904e\", \"\\u56e0\\u70ba\", \"\\u61c9\\u8a72\", \"\\u53ea\\u662f\", \"\\u53ea\\u6709\", \"\\u53ef\\u80fd\", \"\\u652f\\u6301\", \"\\u4e0d\\u8981\", \"\\u4e0d\\u6703\", \"\\u9019\\u500b\", \"\\u97d3\\u570b\\u745c\", \"\\u67ef\\u6587\\u54f2\", \"\\u97d3\\u7c89\", \"on\", \"news\", \"\\u8868\\u793a\", \"\\u4eca\\u5929\", \"\\u9ed1\\u7279\", \"\\u652f\\u6301\", \"\\u958b\\u59cb\", \"\\u4e0d\\u8981\", \"\\u653f\\u6cbb\", \"re\", \"\\u4e00\\u5b9a\", \"\\u6642\\u9593\", \"\\u662f\\u4e0d\\u662f\", \"\\u8a8d\\u70ba\", \"\\u51fa\\u4f86\", \"\\u4e00\\u76f4\", \"\\u5e0c\\u671b\", \"\\u4e0d\\u904e\", \"\\u600e\\u9ebc\", \"\\u5230\\u5e95\", \"\\u7d50\\u679c\", \"\\u73fe\\u5728\", \"\\u5df2\\u7d93\", \"\\u770b\\u5230\", \"\\u4e0d\\u6703\", \"\\u5f88\\u591a\", \"\\u76ee\\u524d\", \"\\u5927\\u5bb6\", \"\\u6c92\\u6709\", \"\\u56e0\\u70ba\", \"\\u61c9\\u8a72\"], \"Total\": [67031.0, 60502.0, 53330.0, 38193.0, 37825.0, 37454.0, 37136.0, 26574.0, 20586.0, 21885.0, 19390.0, 32289.0, 16301.0, 28549.0, 20568.0, 27756.0, 8870.0, 20472.0, 35978.0, 24993.0, 25219.0, 11768.0, 15052.0, 22568.0, 17589.0, 13633.0, 12648.0, 12051.0, 17185.0, 9990.0, 12648.524260158852, 15052.46182977068, 12051.725566403145, 17589.214708269166, 27756.253103956013, 17185.050666045252, 14100.78983348232, 13082.196699043789, 12510.063324204211, 11867.351841243202, 22568.616064906164, 13126.311867914606, 13633.070455044413, 14060.662558102034, 10118.186679540933, 13790.113219602845, 9990.372013852791, 35978.51829689298, 14491.29365855922, 12806.790710606127, 15958.105996336722, 17054.895136682997, 29140.396138989578, 27244.784270177694, 25330.6718024469, 13032.964218919344, 20472.120923111917, 15743.8242289092, 24641.774534486598, 10523.209986884513, 25989.79240665893, 21083.30926624601, 20341.214063558804, 25219.700261107537, 23962.963947693577, 32289.488003582246, 19098.31837492636, 38193.83883231552, 37454.5009831445, 21885.834431717325, 37825.850358171534, 37136.59493170412, 16301.691344044322, 28549.215866331237, 11768.495979481326, 20568.29331850876, 11403.975531864333, 13565.366908963628, 13911.20769413526, 23962.963947693577, 14876.383486324874, 15852.83209400179, 12027.568954500139, 19098.31837492636, 11592.220233325399, 11793.305292463543, 20341.214063558804, 14727.098883036439, 12320.134312026321, 17274.643051437117, 25330.6718024469, 17054.895136682997, 13032.964218919344, 10523.209986884513, 25989.79240665893, 27244.784270177694, 24641.774534486598, 24993.415877551477, 67031.8513156276, 26574.82042503865, 19390.364245581284, 32289.488003582246, 20568.29331850876, 24993.415877551477, 11768.495979481326, 13565.366908963628, 25219.700261107537, 13911.20769413526, 11403.975531864333, 8870.896412996739, 20472.120923111917, 15743.8242289092, 12320.134312026321, 11592.220233325399, 35978.51829689298, 17274.643051437117, 14727.098883036439, 25989.79240665893, 12159.952257842657, 10523.209986884513, 12027.568954500139, 29140.396138989578, 19098.31837492636, 15958.105996336722, 11793.305292463543, 23962.963947693577, 28549.215866331237, 21083.30926624601, 20341.214063558804, 27756.253103956013, 60502.15618959823, 53330.103489558445, 20586.286380393503, 8870.896412996739, 11768.495979481326, 20568.29331850876, 17274.643051437117, 9990.372013852791, 28549.215866331237, 12159.952257842657, 21083.30926624601, 24993.415877551477, 24641.774534486598, 14876.383486324874, 11592.220233325399, 13633.070455044413, 13911.20769413526, 17054.895136682997, 12806.790710606127, 13565.366908963628, 12027.568954500139, 22568.616064906164, 11867.351841243202, 15852.83209400179, 27244.784270177694, 14727.098883036439, 13790.113219602845, 20341.214063558804, 14491.29365855922, 11403.975531864333, 25330.6718024469, 25989.79240665893, 29140.396138989578, 19098.31837492636], \"loglift\": [30.0, 29.0, 28.0, 27.0, 26.0, 25.0, 24.0, 23.0, 22.0, 21.0, 20.0, 19.0, 18.0, 17.0, 16.0, 15.0, 14.0, 13.0, 12.0, 11.0, 10.0, 9.0, 8.0, 7.0, 6.0, 5.0, 4.0, 3.0, 2.0, 1.0, 0.7114, 0.7043, 0.6809, 0.6772, 0.674, 0.6596, 0.6583, 0.6443, 0.6336, 0.6264, 0.6105, 0.6103, 0.6052, 0.5902, 0.5842, 0.5681, 0.5437, 0.5411, 0.5317, 0.5311, 0.5222, 0.5205, 0.5019, 0.5017, 0.4996, 0.4983, 0.4822, 0.4613, 0.4597, 0.452, 0.4136, 0.4017, 0.3952, 0.3397, 0.3348, 0.0629, 0.3394, 1.6646, 1.6646, 1.6646, 1.6645, 1.6641, 1.4337, 1.0437, 0.4802, 0.4616, 0.3827, 0.2579, 0.1494, 0.0563, -0.0447, -0.1046, -0.1082, -0.2314, -0.3598, -0.5221, -0.5226, -0.632, -0.7077, -0.7266, -0.8128, -0.8785, -0.8842, -1.0319, -1.0379, -1.0394, -1.1611, -1.2871, 1.754, 1.754, 1.754, 1.0552, 0.9105, 0.7994, 0.6234, 0.6025, 0.5093, 0.5071, 0.4483, 0.3949, 0.3069, 0.1855, 0.0851, 0.0158, -0.0538, -0.085, -0.1936, -0.2382, -0.3347, -0.356, -0.3702, -0.3834, -0.421, -0.4956, -0.5134, -0.5418, -0.5469, -0.625, -0.6492, -0.9405, 1.7987, 1.7987, 1.7987, 1.4958, 0.8078, 0.4875, 0.2031, 0.1207, 0.039, 0.0245, 0.0045, -0.0753, -0.0867, -0.1135, -0.1444, -0.2025, -0.2044, -0.2664, -0.2841, -0.2987, -0.3685, -0.3725, -0.382, -0.3847, -0.397, -0.4801, -0.4976, -0.5412, -0.5529, -0.5774, -0.5943, -0.6951, -0.7909, -0.8151], \"logprob\": [30.0, 29.0, 28.0, 27.0, 26.0, 25.0, 24.0, 23.0, 22.0, 21.0, 20.0, 19.0, 18.0, 17.0, 16.0, 15.0, 14.0, 13.0, 12.0, 11.0, 10.0, 9.0, 8.0, 7.0, 6.0, 5.0, 4.0, 3.0, 2.0, 1.0, -3.9766, -3.8097, -4.0554, -3.681, -3.2281, -3.7218, -3.921, -4.0099, -4.0654, -4.1253, -3.4984, -4.0406, -4.0078, -3.9919, -4.3269, -4.0334, -4.3802, -3.1015, -4.0202, -4.1444, -3.9333, -3.8686, -3.3515, -3.4189, -3.4939, -4.1598, -3.7243, -4.0077, -3.5613, -4.4199, -3.5542, -3.7753, -3.8176, -3.6581, -3.7142, -3.6878, -3.9364, -1.9182, -1.9378, -2.4751, -1.928, -1.9468, -3.0006, -2.8302, -4.2799, -3.7401, -4.4088, -4.36, -4.4434, -3.9927, -4.5704, -4.5667, -4.8465, -4.5073, -5.135, -5.28, -4.7355, -5.1678, -5.422, -5.1029, -4.8062, -5.2676, -5.5422, -5.9038, -5.0057, -4.96, -5.1822, -5.294, -1.2663, -2.1915, -2.5067, -2.6955, -3.2912, -3.2075, -4.1366, -4.0155, -3.4886, -4.0856, -4.3432, -4.6478, -3.8995, -4.2836, -4.6291, -4.7594, -3.6964, -4.4613, -4.7294, -4.206, -5.062, -5.2279, -5.1085, -4.2368, -4.6969, -4.9511, -5.2713, -4.5908, -4.4207, -4.802, -4.862, -4.8425, -1.3241, -1.4503, -2.4022, -3.5469, -3.9523, -3.7142, -4.1731, -4.8032, -3.8348, -4.7028, -4.1725, -4.0822, -4.1077, -4.6392, -4.9196, -4.8155, -4.7972, -4.6555, -4.9596, -4.9166, -5.1068, -4.4814, -5.1337, -4.8468, -4.3176, -5.0159, -5.0991, -4.754, -5.1048, -5.3689, -4.5877, -4.6629, -4.6443, -5.091]}, \"token.table\": {\"Topic\": [2, 3, 4, 2, 3, 4, 1, 2, 3, 4, 1, 4, 1, 2, 3, 4, 1, 2, 3, 4, 1, 2, 3, 4, 1, 2, 3, 4, 1, 2, 3, 4, 1, 2, 3, 4, 1, 2, 3, 4, 1, 2, 3, 4, 3, 1, 2, 3, 4, 1, 3, 4, 1, 2, 3, 4, 1, 2, 3, 4, 1, 2, 4, 1, 2, 3, 4, 1, 2, 3, 4, 1, 2, 3, 4, 1, 2, 3, 4, 3, 1, 2, 3, 4, 1, 2, 3, 4, 2, 1, 2, 3, 4, 1, 2, 3, 4, 1, 2, 3, 4, 1, 2, 3, 4, 1, 2, 3, 4, 1, 2, 3, 4, 1, 2, 3, 4, 1, 3, 1, 2, 3, 4, 3, 1, 2, 3, 4, 1, 3, 4, 1, 3, 4, 1, 2, 3, 4, 1, 2, 3, 4, 4, 1, 2, 3, 4, 2, 1, 2, 3, 4, 1, 2, 3, 4, 1, 2, 3, 4, 1, 3, 4, 2, 1, 2, 3, 4, 2, 3, 4, 1, 2, 3, 4, 2, 4, 2, 3, 4, 1, 4, 1, 2, 3, 4, 1, 2, 3, 4, 1, 2, 3, 4, 1, 3, 4, 1, 2, 3, 4, 1, 2, 3, 1, 2, 3, 4, 1, 2, 3, 4, 4, 4, 1, 4], \"Freq\": [0.30590145132196095, 0.322811003770036, 0.3712454002293465, 0.0043963989865625245, 0.2569075202660511, 0.7387077579216468, 0.7477140079426459, 0.05924897973385416, 0.041230796855887555, 0.1517747837017908, 0.932812478848636, 0.06712731679314593, 0.8110951028942203, 0.0063927035044092475, 0.16398674206962854, 0.01851104579972417, 0.6104306203418133, 0.18095795947144164, 0.060834678054106486, 0.14775096393693488, 0.8519513181188935, 0.006969799580570295, 0.07993933396490828, 0.061163547339698504, 0.8030895664971186, 0.014133127033152988, 0.05825034677752557, 0.12454330175623765, 0.7009906073180232, 0.11223518875847163, 0.09040758306037201, 0.09635609722584511, 0.6692297170779729, 0.0932619702756326, 0.18847197126198337, 0.049025439553074056, 0.705534402220936, 0.03557316313719005, 0.09263251680924289, 0.16624524906113483, 0.5961304422467959, 0.16985976199584435, 0.11955865773373675, 0.1144869761469788, 0.9999691277297258, 0.5467551469443677, 0.09152142798507626, 0.15896131641177697, 0.20278277181007093, 0.7646984921003642, 0.23524675426096162, 4.884691741299037e-05, 0.929376340622804, 0.0007390892780385668, 0.0643576202107429, 0.005514743074595461, 0.9119347321570817, 0.0023402944366734345, 0.05354309999055888, 0.03219677800756786, 0.7945519389828116, 0.07862845178776108, 0.12682575780531485, 0.8833478724013141, 0.002022355140478063, 0.0016852959503983861, 0.11291482867669186, 0.7958964555640619, 0.020115169060393973, 0.1054636433914114, 0.07851808982141324, 0.7098094887231867, 0.11226708434709107, 0.1036181095711067, 0.07427943042904211, 0.6598933268237043, 0.20022564864985348, 0.1006553281666208, 0.03918546979620934, 0.99998729983417, 0.6631720372106243, 0.013957342726346175, 0.2880287998982347, 0.03485370527402923, 0.7799138999895573, 0.027075815861827814, 0.11794623462243624, 0.0750504553736596, 0.9999866242205516, 0.7781475419888371, 0.08396934817159232, 0.04654436365505753, 0.0913517027123012, 0.7419789218053631, 0.06746990708014956, 0.1212557766679871, 0.06937046784297068, 0.6543719218929451, 0.10056291546367664, 0.14259427580939968, 0.10239627043836892, 0.3160990800157868, 0.2449620435849952, 0.3161727971519845, 0.1228127489053873, 0.80351694433592, 0.008625868948985744, 0.09260732903631096, 0.09522959319680262, 0.8694374499334895, 0.0008418770537527418, 0.015685498790972138, 0.11405218612418724, 0.6629903089595355, 0.15017028953529835, 0.11362256913932964, 0.07325252268475677, 0.5028261828802846, 0.4971587037310426, 0.19030295001577485, 0.5374228165087491, 0.10017788276184725, 0.1720887895136208, 0.9999296431173749, 0.409307797306264, 0.05225376180664524, 0.3849413800472694, 0.1534804213555062, 0.8648088513059468, 7.335104760864688e-05, 0.13518598074273622, 0.961693218102523, 0.01707709101530294, 0.021267303162576346, 0.5488163502717518, 0.13207133484219616, 0.17580756395061775, 0.14328575256230425, 0.86924645055022, 0.02384523567241182, 0.03976745374121077, 0.06719328390756302, 0.9999793083176998, 0.8993137980305658, 0.000611518094708417, 0.04188898948752656, 0.05817065875913817, 0.9999780374965919, 0.7139726131573758, 0.06702631451391187, 0.13639970433514212, 0.08260935548873065, 0.7798189844085497, 0.06694859397351006, 0.04198968832549096, 0.11128735577175576, 0.3586468585952291, 0.2775347939985086, 0.270958140112288, 0.09295004159191757, 0.833278147685211, 0.06606182164661276, 0.10065182046706753, 0.9999618734337076, 0.6973517371815767, 0.17044273124058076, 0.01955486553833458, 0.11266125758537276, 0.9994454275697059, 8.07828505956762e-05, 0.0004308418698436064, 0.8467920459823671, 0.027475278802882593, 0.06562440692487065, 0.06008981838903819, 0.9999246452321747, 7.931084090887884e-05, 0.300316604024774, 0.43017667353265343, 0.26949246173050384, 0.9548604183518443, 0.04510890030340933, 0.35791285052117117, 0.21975087046459535, 0.28739417079406354, 0.13492717823423142, 0.748928584857361, 0.003811018157191219, 0.20833565925978664, 0.038935902172636955, 0.9263498175960698, 0.0005404187641545211, 0.06758837343692545, 0.005548299311986417, 0.9131774066285826, 0.05475689413353064, 0.03206275097510668, 0.8896837459220456, 0.00047961387920325907, 0.02589914947697599, 0.08385249321403646, 0.20611358227117618, 0.7937826650562558, 6.134332805689767e-05, 0.7771064072513647, 0.07818635752262447, 0.07580777353518448, 0.06897893563575996, 0.6789500340904076, 0.027549450268930055, 0.12384917046271242, 0.16965527135762, 0.9999808901091953, 0.9999860887783153, 0.8131829313998664, 0.186779831362894], \"Term\": [\"news\", \"news\", \"news\", \"on\", \"on\", \"on\", \"re\", \"re\", \"re\", \"re\", \"\\u4e00\\u4e0b\", \"\\u4e00\\u4e0b\", \"\\u4e00\\u500b\", \"\\u4e00\\u500b\", \"\\u4e00\\u500b\", \"\\u4e00\\u500b\", \"\\u4e00\\u5b9a\", \"\\u4e00\\u5b9a\", \"\\u4e00\\u5b9a\", \"\\u4e00\\u5b9a\", \"\\u4e00\\u6a23\", \"\\u4e00\\u6a23\", \"\\u4e00\\u6a23\", \"\\u4e00\\u6a23\", \"\\u4e00\\u76f4\", \"\\u4e00\\u76f4\", \"\\u4e00\\u76f4\", \"\\u4e00\\u76f4\", \"\\u4e0d\\u6703\", \"\\u4e0d\\u6703\", \"\\u4e0d\\u6703\", \"\\u4e0d\\u6703\", \"\\u4e0d\\u80fd\", \"\\u4e0d\\u80fd\", \"\\u4e0d\\u80fd\", \"\\u4e0d\\u80fd\", \"\\u4e0d\\u8981\", \"\\u4e0d\\u8981\", \"\\u4e0d\\u8981\", \"\\u4e0d\\u8981\", \"\\u4e0d\\u904e\", \"\\u4e0d\\u904e\", \"\\u4e0d\\u904e\", \"\\u4e0d\\u904e\", \"\\u4e2d\\u570b\", \"\\u4eca\\u5929\", \"\\u4eca\\u5929\", \"\\u4eca\\u5929\", \"\\u4eca\\u5929\", \"\\u4ed6\\u5011\", \"\\u4ed6\\u5011\", \"\\u4ed6\\u5011\", \"\\u4f46\\u662f\", \"\\u4f46\\u662f\", \"\\u4f46\\u662f\", \"\\u4f46\\u662f\", \"\\u5176\\u5be6\", \"\\u5176\\u5be6\", \"\\u5176\\u5be6\", \"\\u5176\\u5be6\", \"\\u51fa\\u4f86\", \"\\u51fa\\u4f86\", \"\\u51fa\\u4f86\", \"\\u5230\\u5e95\", \"\\u5230\\u5e95\", \"\\u5230\\u5e95\", \"\\u5230\\u5e95\", \"\\u53ea\\u662f\", \"\\u53ea\\u662f\", \"\\u53ea\\u662f\", \"\\u53ea\\u662f\", \"\\u53ea\\u6709\", \"\\u53ea\\u6709\", \"\\u53ea\\u6709\", \"\\u53ea\\u6709\", \"\\u53ef\\u80fd\", \"\\u53ef\\u80fd\", \"\\u53ef\\u80fd\", \"\\u53ef\\u80fd\", \"\\u53f0\\u7063\", \"\\u554f\\u984c\", \"\\u554f\\u984c\", \"\\u554f\\u984c\", \"\\u554f\\u984c\", \"\\u56e0\\u70ba\", \"\\u56e0\\u70ba\", \"\\u56e0\\u70ba\", \"\\u56e0\\u70ba\", \"\\u570b\\u6c11\\u9ee8\", \"\\u5927\\u5bb6\", \"\\u5927\\u5bb6\", \"\\u5927\\u5bb6\", \"\\u5927\\u5bb6\", \"\\u5b8c\\u5168\", \"\\u5b8c\\u5168\", \"\\u5b8c\\u5168\", \"\\u5b8c\\u5168\", \"\\u5df2\\u7d93\", \"\\u5df2\\u7d93\", \"\\u5df2\\u7d93\", \"\\u5df2\\u7d93\", \"\\u5e0c\\u671b\", \"\\u5e0c\\u671b\", \"\\u5e0c\\u671b\", \"\\u5e0c\\u671b\", \"\\u5f88\\u591a\", \"\\u5f88\\u591a\", \"\\u5f88\\u591a\", \"\\u5f88\\u591a\", \"\\u600e\\u9ebc\", \"\\u600e\\u9ebc\", \"\\u600e\\u9ebc\", \"\\u600e\\u9ebc\", \"\\u61c9\\u8a72\", \"\\u61c9\\u8a72\", \"\\u61c9\\u8a72\", \"\\u61c9\\u8a72\", \"\\u6211\\u5011\", \"\\u6211\\u5011\", \"\\u652f\\u6301\", \"\\u652f\\u6301\", \"\\u652f\\u6301\", \"\\u652f\\u6301\", \"\\u653f\\u5e9c\", \"\\u653f\\u6cbb\", \"\\u653f\\u6cbb\", \"\\u653f\\u6cbb\", \"\\u653f\\u6cbb\", \"\\u662f\\u4e0d\\u662f\", \"\\u662f\\u4e0d\\u662f\", \"\\u662f\\u4e0d\\u662f\", \"\\u6642\\u5019\", \"\\u6642\\u5019\", \"\\u6642\\u5019\", \"\\u6642\\u9593\", \"\\u6642\\u9593\", \"\\u6642\\u9593\", \"\\u6642\\u9593\", \"\\u6709\\u4eba\", \"\\u6709\\u4eba\", \"\\u6709\\u4eba\", \"\\u6709\\u4eba\", \"\\u67ef\\u6587\\u54f2\", \"\\u6839\\u672c\", \"\\u6839\\u672c\", \"\\u6839\\u672c\", \"\\u6839\\u672c\", \"\\u6c11\\u9032\\u9ee8\", \"\\u6c92\\u6709\", \"\\u6c92\\u6709\", \"\\u6c92\\u6709\", \"\\u6c92\\u6709\", \"\\u73fe\\u5728\", \"\\u73fe\\u5728\", \"\\u73fe\\u5728\", \"\\u73fe\\u5728\", \"\\u76ee\\u524d\", \"\\u76ee\\u524d\", \"\\u76ee\\u524d\", \"\\u76ee\\u524d\", \"\\u770b\\u5230\", \"\\u770b\\u5230\", \"\\u770b\\u5230\", \"\\u7acb\\u59d4\", \"\\u7d50\\u679c\", \"\\u7d50\\u679c\", \"\\u7d50\\u679c\", \"\\u7d50\\u679c\", \"\\u7e3d\\u7d71\", \"\\u7e3d\\u7d71\", \"\\u7e3d\\u7d71\", \"\\u800c\\u4e14\", \"\\u800c\\u4e14\", \"\\u800c\\u4e14\", \"\\u800c\\u4e14\", \"\\u8521\\u82f1\\u6587\", \"\\u8521\\u82f1\\u6587\", \"\\u8868\\u793a\", \"\\u8868\\u793a\", \"\\u8868\\u793a\", \"\\u89ba\\u5f97\", \"\\u89ba\\u5f97\", \"\\u8a8d\\u70ba\", \"\\u8a8d\\u70ba\", \"\\u8a8d\\u70ba\", \"\\u8a8d\\u70ba\", \"\\u9019\\u4e9b\", \"\\u9019\\u4e9b\", \"\\u9019\\u4e9b\", \"\\u9019\\u4e9b\", \"\\u9019\\u500b\", \"\\u9019\\u500b\", \"\\u9019\\u500b\", \"\\u9019\\u500b\", \"\\u9019\\u7a2e\", \"\\u9019\\u7a2e\", \"\\u9019\\u7a2e\", \"\\u9019\\u9ebc\", \"\\u9019\\u9ebc\", \"\\u9019\\u9ebc\", \"\\u9019\\u9ebc\", \"\\u9078\\u8209\", \"\\u9078\\u8209\", \"\\u9078\\u8209\", \"\\u9084\\u6709\", \"\\u9084\\u6709\", \"\\u9084\\u6709\", \"\\u9084\\u6709\", \"\\u958b\\u59cb\", \"\\u958b\\u59cb\", \"\\u958b\\u59cb\", \"\\u958b\\u59cb\", \"\\u97d3\\u570b\\u745c\", \"\\u97d3\\u7c89\", \"\\u9ed1\\u7279\", \"\\u9ed1\\u7279\"]}, \"R\": 30, \"lambda.step\": 0.01, \"plot.opts\": {\"xlab\": \"PC1\", \"ylab\": \"PC2\"}, \"topic.order\": [1, 3, 2, 4]};\n",
       "\n",
       "function LDAvis_load_lib(url, callback){\n",
       "  var s = document.createElement('script');\n",
       "  s.src = url;\n",
       "  s.async = true;\n",
       "  s.onreadystatechange = s.onload = callback;\n",
       "  s.onerror = function(){console.warn(\"failed to load library \" + url);};\n",
       "  document.getElementsByTagName(\"head\")[0].appendChild(s);\n",
       "}\n",
       "\n",
       "if(typeof(LDAvis) !== \"undefined\"){\n",
       "   // already loaded: just create the visualization\n",
       "   !function(LDAvis){\n",
       "       new LDAvis(\"#\" + \"ldavis_el1221405571200739209396910193\", ldavis_el1221405571200739209396910193_data);\n",
       "   }(LDAvis);\n",
       "}else if(typeof define === \"function\" && define.amd){\n",
       "   // require.js is available: use it to load d3/LDAvis\n",
       "   require.config({paths: {d3: \"https://cdnjs.cloudflare.com/ajax/libs/d3/3.5.5/d3.min\"}});\n",
       "   require([\"d3\"], function(d3){\n",
       "      window.d3 = d3;\n",
       "      LDAvis_load_lib(\"https://cdn.rawgit.com/bmabey/pyLDAvis/files/ldavis.v1.0.0.js\", function(){\n",
       "        new LDAvis(\"#\" + \"ldavis_el1221405571200739209396910193\", ldavis_el1221405571200739209396910193_data);\n",
       "      });\n",
       "    });\n",
       "}else{\n",
       "    // require.js not available: dynamically load d3 & LDAvis\n",
       "    LDAvis_load_lib(\"https://cdnjs.cloudflare.com/ajax/libs/d3/3.5.5/d3.min.js\", function(){\n",
       "         LDAvis_load_lib(\"https://cdn.rawgit.com/bmabey/pyLDAvis/files/ldavis.v1.0.0.js\", function(){\n",
       "                 new LDAvis(\"#\" + \"ldavis_el1221405571200739209396910193\", ldavis_el1221405571200739209396910193_data);\n",
       "            })\n",
       "         });\n",
       "}\n",
       "</script>"
      ],
      "text/plain": [
       "<IPython.core.display.HTML object>"
      ]
     },
     "execution_count": 50,
     "metadata": {
      "tags": []
     },
     "output_type": "execute_result"
    }
   ],
   "source": [
    "n_top_words = 50\n",
    "tf_feature_names = tf_vectorizer.get_feature_names()\n",
    "print_top_words(lda, tf_feature_names, n_top_words)\n",
    "\n",
    "data = pyLDAvis.sklearn.prepare(lda, tf, tf_vectorizer)\n",
    "pyLDAvis.display(data)#可视化主题模型"
   ]
  },
  {
   "cell_type": "code",
   "execution_count": 0,
   "metadata": {
    "colab": {},
    "colab_type": "code",
    "id": "kQYMdKLqrnOz"
   },
   "outputs": [],
   "source": []
  }
 ],
 "metadata": {
  "accelerator": "GPU",
  "colab": {
   "collapsed_sections": [],
   "name": "filter_politics.ipynb",
   "provenance": []
  },
  "kernelspec": {
   "display_name": "Python 3",
   "language": "python",
   "name": "python3"
  },
  "language_info": {
   "codemirror_mode": {
    "name": "ipython",
    "version": 3
   },
   "file_extension": ".py",
   "mimetype": "text/x-python",
   "name": "python",
   "nbconvert_exporter": "python",
   "pygments_lexer": "ipython3",
   "version": "3.7.3"
  }
 },
 "nbformat": 4,
 "nbformat_minor": 1
}
