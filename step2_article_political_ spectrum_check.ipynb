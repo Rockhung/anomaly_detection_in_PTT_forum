{
 "cells": [
  {
   "cell_type": "code",
   "execution_count": 1,
   "metadata": {
    "colab": {},
    "colab_type": "code",
    "id": "MeRpPNkroCPh"
   },
   "outputs": [],
   "source": [
    "import gc\n",
    "import os\n",
    "import time\n",
    "import pandas as pd\n",
    "from datetime import datetime"
   ]
  },
  {
   "cell_type": "markdown",
   "metadata": {
    "colab_type": "text",
    "id": "kQnGT56nuXJN"
   },
   "source": [
    "# 1. set file path & political dict\n",
    "ref: https://github.com/crownpku/Awesome-Chinese-NLP"
   ]
  },
  {
   "cell_type": "code",
   "execution_count": 2,
   "metadata": {
    "colab": {
     "base_uri": "https://localhost:8080/",
     "height": 360
    },
    "colab_type": "code",
    "id": "zSRal7ugBtYY",
    "outputId": "0db6f66f-d75a-4839-83e6-530e596755bd"
   },
   "outputs": [
    {
     "data": {
      "text/plain": [
       "['Gossiping-1-5.json',\n",
       " 'Gossiping-39361-39363_reply_20191228_191753.csv',\n",
       " 'ntusd-negative.txt',\n",
       " 'ptt_id_check.ipynb',\n",
       " 'Gossiping-28800-29600_reply_20191229_192300.csv',\n",
       " '.DS_Store',\n",
       " 'Gossiping-28800-29600.json',\n",
       " 'ptt_excel.xlsx',\n",
       " 'Gossiping-28800-29600_article_20191229_192300.csv',\n",
       " 'Gossiping-1-5_article_20191228_201931.csv',\n",
       " 'Gossiping-1-5_article_20191228_191753.csv',\n",
       " 'local_script',\n",
       " 'neo4j_community_pagerank_1204-20191211T114233Z-001.zip',\n",
       " 'python -m PttWebCrawler -b PublicServan -i 100 200',\n",
       " 'Gossiping-39361-39363.json',\n",
       " 'test.json',\n",
       " 'Gossiping-37500-39075.json',\n",
       " 'ntusd-positive.txt',\n",
       " 'Gossiping-37700-39294_1207_article_20191229_192300.csv',\n",
       " 'Gossiping-37700-39294_1207_reply_20191229_192300.csv',\n",
       " 'neo4j_community_pagerank_1204',\n",
       " 'Gossiping-39361-39363_article_20191228_191753.csv',\n",
       " '.ipynb_checkpoints',\n",
       " 'Gossiping-37700-39294_1207.json',\n",
       " 'test2.json',\n",
       " 'Gossiping-1-5_reply_20191228_201931.csv',\n",
       " 'Gossiping-1-5_reply_20191228_191753.csv',\n",
       " 'HatePolitics-2600-4035.json']"
      ]
     },
     "execution_count": 2,
     "metadata": {},
     "output_type": "execute_result"
    }
   ],
   "source": [
    "path = r'/Users/zoe/Desktop/ptt_crawler//'\n",
    "exec_dt = datetime.strftime(datetime.now(), '%Y%m%d_%H%M%S')\n",
    "os.listdir(path)"
   ]
  },
  {
   "cell_type": "code",
   "execution_count": 3,
   "metadata": {
    "colab": {},
    "colab_type": "code",
    "id": "ZynuTp3pfJvF"
   },
   "outputs": [],
   "source": [
    "party_dict = {\n",
    "      'deep_dpp_kw' : ['賴清德', '台獨', '基進側翼', '阿扁', '陳水扁']\n",
    "    , 'light_dpp_kw' : ['民進黨', '林佳龍']\n",
    "    , 'tsai_kw' : ['蔡英文', '蔡總統', '小英']\n",
    "    , 'han_kw' : ['韓國瑜', '韓導', '韓國魚', '國瑜']\n",
    "    , 'light_kmt_kw' : ['國民黨', '吳敦義', '馬英九']\n",
    "    , 'deep_kmt_kw' : ['兩岸統一', '和平協議']\n",
    "    , 'third_party_kw' : ['柯文哲', '郭董', '郭台銘', '柯粉', '民眾黨', '時代力量', '黃國昌', '吳崢', '柯P', '李登輝']\n",
    "    , 'unrelated_kw' : ['親民黨', '宋楚瑜']\n",
    "    , 'hk_protest' : ['反送中', '逃犯條例', '連儂牆', '真普選']\n",
    "    , 'china_spy' : ['共諜案', '王立強', '向心']\n",
    "}\n",
    "\n",
    "filter_lst = ['com', 'imgur', 'https' , 'www', '新聞', '討論']"
   ]
  },
  {
   "cell_type": "markdown",
   "metadata": {
    "colab_type": "text",
    "id": "pYMn70Qr0ryu"
   },
   "source": [
    "# 2. politics check\n",
    "## notes:\n",
    "#### 1. trans dict to config file\n",
    "#### 2. build political dict from frequent words of article title & filter stop words\n",
    "#### 3. reference https://github.com/sweslo17/chinese_sentiment/blob/master/dict/user_dic.dic\n",
    "#### 4. others: open source political dict, wikipedia\n",
    "#### 5. 中文詞庫 https://scidm.nchc.org.tw/dataset/nchc_2019_te_04\n",
    "#### 6.  政治網路口碑的情感分析：語意關連性之觀點 http://csw.shu.edu.tw/File/Download/edmitems/%E5%82%B3%E6%92%AD%E7%A0%94%E7%A9%B6%E8%88%87%E5%AF%A6%E8%B8%908(2)-03%20%E9%99%B6%E6%8C%AF%E8%B6%85.pdf"
   ]
  },
  {
   "cell_type": "code",
   "execution_count": 4,
   "metadata": {},
   "outputs": [],
   "source": [
    "def article_pol_tendency_check(input_df, party_dict):\n",
    "    cols = ['article_id', 'article_title', 'author', 'board',\n",
    "            'content', 'date', 'ip', 'all', 'boo', 'count', 'neutral', 'push',\n",
    "            're_flag', 'expl_flag', 'pol_word_cnt', 'party']\n",
    "    art_df = input_df.copy()\n",
    "    art_df.reset_index(drop=True, inplace=True)\n",
    "    pol_list = []\n",
    "    [ pol_list.extend(x) for x in party_dict.values()]\n",
    "    \n",
    "    art_df.loc[art_df.article_title.isna(), 'article_title'] = 'NoData'\n",
    "    art_df.loc[art_df.content.isna(), 'content'] = 'NoData'\n",
    "    art_df['corpus'] = art_df.article_title + ' ' + art_df.content\n",
    "    art_df['pol_word_cnt'] = art_df.corpus.str.count('|'.join(pol_list))\n",
    "\n",
    "    art_df['party'] = 'undef'\n",
    "\n",
    "    for slc_kw in party_dict: \n",
    "        rs_lst = []\n",
    "        in_lst = party_dict[slc_kw]\n",
    "        print(slc_kw)\n",
    "        print(in_lst)\n",
    "        ex_lst = []\n",
    "\n",
    "        [ex_lst.extend(party_dict[x]) for x in party_dict if x != slc_kw]\n",
    "        #因Re文會引述原文，為了確保分析的準確性，先排除這些文章\n",
    "        for row in art_df.itertuples():\n",
    "            temp_corpus = row.corpus\n",
    "            if any(kw in temp_corpus for kw in in_lst)\\\n",
    "            and not any(kw in temp_corpus for kw in ex_lst)\\\n",
    "            and row.re_flag == 'N':\n",
    "                art_df.loc[row.Index, 'party'] = slc_kw\n",
    "    return art_df[cols]"
   ]
  },
  {
   "cell_type": "code",
   "execution_count": 5,
   "metadata": {},
   "outputs": [
    {
     "name": "stdout",
     "output_type": "stream",
     "text": [
      "Gossiping-28800-29600_article_20191229_192300.csv\n",
      "Gossiping-1-5_article_20191228_201931.csv\n",
      "Gossiping-1-5_article_20191228_191753.csv\n",
      "Gossiping-37700-39294_1207_article_20191229_192300.csv\n",
      "Gossiping-39361-39363_article_20191228_191753.csv\n"
     ]
    }
   ],
   "source": [
    "for x in os.listdir(path):\n",
    "    if 'article' in  x:\n",
    "        print(x)"
   ]
  },
  {
   "cell_type": "code",
   "execution_count": 6,
   "metadata": {
    "collapsed": true
   },
   "outputs": [
    {
     "name": "stdout",
     "output_type": "stream",
     "text": [
      "deep_dpp_kw\n",
      "['賴清德', '台獨', '基進側翼', '阿扁', '陳水扁']\n",
      "light_dpp_kw\n",
      "['民進黨', '林佳龍']\n",
      "tsai_kw\n",
      "['蔡英文', '蔡總統', '小英']\n",
      "han_kw\n",
      "['韓國瑜', '韓導', '韓國魚', '國瑜']\n",
      "light_kmt_kw\n",
      "['國民黨', '吳敦義', '馬英九']\n",
      "deep_kmt_kw\n",
      "['兩岸統一', '和平協議']\n",
      "third_party_kw\n",
      "['柯文哲', '郭董', '郭台銘', '柯粉', '民眾黨', '時代力量', '黃國昌', '吳崢', '柯P', '李登輝']\n",
      "unrelated_kw\n",
      "['親民黨', '宋楚瑜']\n",
      "hk_protest\n",
      "['反送中', '逃犯條例', '連儂牆', '真普選']\n",
      "china_spy\n",
      "['共諜案', '王立強', '向心']\n"
     ]
    }
   ],
   "source": [
    "f_nm = 'Gossiping-37700-39294_1207_article_20191229_192300.csv'\n",
    "df = pd.read_csv(path + f_nm)\n",
    "temp_df = article_pol_tendency_check(df, party_dict)\n",
    "temp_df.to_csv(path + f_nm.split('.')[0] + '_pol_check_{}.csv'.format(exec_dt))"
   ]
  },
  {
   "cell_type": "markdown",
   "metadata": {},
   "source": [
    "### notes:\n",
    "#### 1. check senti \n",
    "#### 2. personal political spectrum check\n",
    "#### 3. for accuracy we set senti in colab with CKIP & GPU acceleration, but for testing, you can just use string count or jieba with tradional繁體 dict + sentiment dict + politcal dict \n",
    "#### 4. sync time format but concern not erasing incorrect format"
   ]
  },
  {
   "cell_type": "code",
   "execution_count": 7,
   "metadata": {
    "colab": {},
    "colab_type": "code",
    "id": "SPQ5uSJq8HOK"
   },
   "outputs": [],
   "source": [
    "#repl_dict = {'\\)':'', '\\(':''}\n",
    "#reply_df.target.replace(repl_dict, regex=True, inplace=True)\n",
    "#ex: hugh509)"
   ]
  },
  {
   "cell_type": "code",
   "execution_count": 8,
   "metadata": {
    "colab": {},
    "colab_type": "code",
    "id": "mM4v5Q-Fq9Ly"
   },
   "outputs": [],
   "source": [
    "# try the api of gensim plugin?\n",
    "# try mutiple processing\n",
    "#https://speakerdeck.com/fukuball/head-first-chinese-text-segmentation?slide=64\n",
    "#https://radimrehurek.com/gensim/models/ldamulticore.html\n",
    "\n",
    "# https://zhuanlan.zhihu.com/p/30925299\n",
    "# https://scikit-learn.org/stable/modules/generated/sklearn.decomposition.LatentDirichletAllocation.html\n",
    "# https://github.com/bmabey/pyLDAvis/tree/master/pyLDAvis\n",
    "# https://medium.com/pyladies-taiwan/%E4%BB%A5-jieba-%E8%88%87-gensim-%E6%8E%A2%E7%B4%A2%E6%96%87%E6%9C%AC%E4%B8%BB%E9%A1%8C-%E4%BA%94%E6%9C%88%E5%A4%A9%E4%BA%BA%E7%94%9F%E7%84%A1%E9%99%90%E5%85%AC%E5%8F%B8%E6%AD%8C%E8%A9%9E%E5%88%86%E6%9E%90-ii-fdf5d3708662"
   ]
  }
 ],
 "metadata": {
  "accelerator": "GPU",
  "colab": {
   "collapsed_sections": [],
   "name": "filter_politics.ipynb",
   "provenance": []
  },
  "kernelspec": {
   "display_name": "Python 3",
   "language": "python",
   "name": "python3"
  },
  "language_info": {
   "codemirror_mode": {
    "name": "ipython",
    "version": 3
   },
   "file_extension": ".py",
   "mimetype": "text/x-python",
   "name": "python",
   "nbconvert_exporter": "python",
   "pygments_lexer": "ipython3",
   "version": "3.7.3"
  }
 },
 "nbformat": 4,
 "nbformat_minor": 1
}
