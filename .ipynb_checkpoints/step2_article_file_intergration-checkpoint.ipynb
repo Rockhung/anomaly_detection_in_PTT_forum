{
 "cells": [
  {
   "cell_type": "code",
   "execution_count": 1,
   "metadata": {
    "collapsed": true
   },
   "outputs": [],
   "source": [
    "import pandas as pd\n",
    "import os\n",
    "import gc"
   ]
  },
  {
   "cell_type": "code",
   "execution_count": 2,
   "metadata": {
    "collapsed": true
   },
   "outputs": [],
   "source": [
    "path = r'G:\\py_workspace\\20191103_ptt_public_opinion\\data\\verified-source\\data\\\\'"
   ]
  },
  {
   "cell_type": "code",
   "execution_count": 3,
   "metadata": {
    "collapsed": true
   },
   "outputs": [],
   "source": [
    "def article_dt_rng_check(art_df):\n",
    "    dt = art_df.date.str[:10]\n",
    "    rs = dt.groupby(dt).count()\n",
    "    #avoid backup articles & sys err's future time\n",
    "    fil_rs = rs[rs > (rs.mean()/5)].sort_index()\n",
    "    strt_dt = fil_rs.index[0]\n",
    "    end_dt = fil_rs.index[-1]\n",
    "    return [strt_dt, end_dt]"
   ]
  },
  {
   "cell_type": "code",
   "execution_count": 4,
   "metadata": {},
   "outputs": [
    {
     "name": "stdout",
     "output_type": "stream",
     "text": [
      "HatePolitics-0-4060_0618_article_20200105_133804.csv\n",
      "HatePolitics-0-4062_article_20200105_133804.csv\n",
      "HatePolitics-2600-4035_article_20200105_133804.csv\n",
      "HatePolitics-2800-4285_201912_article_20200105_133804.csv\n",
      "HatePolitics-3000-3986_1207_article_20200105_133804.csv\n"
     ]
    }
   ],
   "source": [
    "#board_nm = 'Gossiping' \n",
    "board_nm = 'HatePolitics'\n",
    "\n",
    "file_lst = []\n",
    "\n",
    "for x in os.listdir(path):\n",
    "    if 'article' in x and board_nm in x:\n",
    "        print(x)\n",
    "        df = pd.read_csv(path + x)\n",
    "        strt_dt, end_dt = article_dt_rng_check(df)\n",
    "        file_lst.append([x, strt_dt, end_dt])\n",
    "        file_df = pd.DataFrame(file_lst, columns=['file_nm', 'strt_dt', 'end_dt']).sort_values('strt_dt')"
   ]
  },
  {
   "cell_type": "markdown",
   "metadata": {},
   "source": [
    "# data type transform"
   ]
  },
  {
   "cell_type": "code",
   "execution_count": 5,
   "metadata": {},
   "outputs": [
    {
     "data": {
      "text/plain": [
       "76"
      ]
     },
     "execution_count": 5,
     "metadata": {},
     "output_type": "execute_result"
    }
   ],
   "source": [
    "file_df.reset_index(drop=True, inplace=True)\n",
    "file_df.strt_dt = pd.to_datetime(file_df.strt_dt)\n",
    "file_df.end_dt = pd.to_datetime(file_df.end_dt)\n",
    "gc.collect()"
   ]
  },
  {
   "cell_type": "code",
   "execution_count": 7,
   "metadata": {},
   "outputs": [
    {
     "name": "stdout",
     "output_type": "stream",
     "text": [
      "pass\n",
      "pass\n",
      "pass\n",
      "pass\n"
     ]
    }
   ],
   "source": [
    "#seq merging...\n",
    "#check end_dt >= next strt_dt\n",
    "for x in file_df[:-1].itertuples():\n",
    "    if  x.end_dt >= file_df.loc[x.Index + 1].strt_dt:\n",
    "        print('pass')\n",
    "    else:\n",
    "        raise ValueError('remove invalid record or complement insufficient data')"
   ]
  },
  {
   "cell_type": "code",
   "execution_count": 8,
   "metadata": {},
   "outputs": [
    {
     "data": {
      "text/html": [
       "<div>\n",
       "<style scoped>\n",
       "    .dataframe tbody tr th:only-of-type {\n",
       "        vertical-align: middle;\n",
       "    }\n",
       "\n",
       "    .dataframe tbody tr th {\n",
       "        vertical-align: top;\n",
       "    }\n",
       "\n",
       "    .dataframe thead th {\n",
       "        text-align: right;\n",
       "    }\n",
       "</style>\n",
       "<table border=\"1\" class=\"dataframe\">\n",
       "  <thead>\n",
       "    <tr style=\"text-align: right;\">\n",
       "      <th></th>\n",
       "      <th>file_nm</th>\n",
       "      <th>strt_dt</th>\n",
       "      <th>end_dt</th>\n",
       "    </tr>\n",
       "  </thead>\n",
       "  <tbody>\n",
       "    <tr>\n",
       "      <th>0</th>\n",
       "      <td>HatePolitics-0-4060_0618_article_20200105_1338...</td>\n",
       "      <td>2006-09-29</td>\n",
       "      <td>2019-06-18</td>\n",
       "    </tr>\n",
       "    <tr>\n",
       "      <th>1</th>\n",
       "      <td>HatePolitics-0-4062_article_20200105_133804.csv</td>\n",
       "      <td>2006-09-29</td>\n",
       "      <td>2019-10-15</td>\n",
       "    </tr>\n",
       "    <tr>\n",
       "      <th>2</th>\n",
       "      <td>HatePolitics-2600-4035_article_20200105_133804...</td>\n",
       "      <td>2019-10-01</td>\n",
       "      <td>2019-11-18</td>\n",
       "    </tr>\n",
       "    <tr>\n",
       "      <th>3</th>\n",
       "      <td>HatePolitics-3000-3986_1207_article_20200105_1...</td>\n",
       "      <td>2019-11-11</td>\n",
       "      <td>2019-12-08</td>\n",
       "    </tr>\n",
       "    <tr>\n",
       "      <th>4</th>\n",
       "      <td>HatePolitics-2800-4285_201912_article_20200105...</td>\n",
       "      <td>2019-11-30</td>\n",
       "      <td>2020-01-03</td>\n",
       "    </tr>\n",
       "  </tbody>\n",
       "</table>\n",
       "</div>"
      ],
      "text/plain": [
       "                                             file_nm    strt_dt     end_dt\n",
       "0  HatePolitics-0-4060_0618_article_20200105_1338... 2006-09-29 2019-06-18\n",
       "1    HatePolitics-0-4062_article_20200105_133804.csv 2006-09-29 2019-10-15\n",
       "2  HatePolitics-2600-4035_article_20200105_133804... 2019-10-01 2019-11-18\n",
       "3  HatePolitics-3000-3986_1207_article_20200105_1... 2019-11-11 2019-12-08\n",
       "4  HatePolitics-2800-4285_201912_article_20200105... 2019-11-30 2020-01-03"
      ]
     },
     "execution_count": 8,
     "metadata": {},
     "output_type": "execute_result"
    }
   ],
   "source": [
    "file_df"
   ]
  },
  {
   "cell_type": "markdown",
   "metadata": {},
   "source": [
    "# merge file"
   ]
  },
  {
   "cell_type": "code",
   "execution_count": null,
   "metadata": {},
   "outputs": [
    {
     "name": "stdout",
     "output_type": "stream",
     "text": [
      "HatePolitics-2800-4285_201912_reply_20200105_133804.csv\n",
      "HatePolitics-3000-3986_1207_reply_20200105_133804.csv\n",
      "HatePolitics-2600-4035_reply_20200105_133804.csv\n",
      "HatePolitics-0-4062_reply_20200105_133804.csv\n",
      "HatePolitics-0-4060_0618_reply_20200105_133804.csv\n",
      "HatePolitics-2800-4285_201912_article_20200105_133804.csv\n"
     ]
    },
    {
     "name": "stderr",
     "output_type": "stream",
     "text": [
      "C:\\ProgramData\\Anaconda3\\lib\\site-packages\\pandas\\core\\frame.py:7138: FutureWarning: Sorting because non-concatenation axis is not aligned. A future version\n",
      "of pandas will change to not sort by default.\n",
      "\n",
      "To accept the future behavior, pass 'sort=False'.\n",
      "\n",
      "To retain the current behavior and silence the warning, pass 'sort=True'.\n",
      "\n",
      "  sort=sort,\n"
     ]
    },
    {
     "name": "stdout",
     "output_type": "stream",
     "text": [
      "HatePolitics-3000-3986_1207_article_20200105_133804.csv\n",
      "HatePolitics-2600-4035_article_20200105_133804.csv\n",
      "HatePolitics-0-4062_article_20200105_133804.csv\n",
      "HatePolitics-0-4060_0618_article_20200105_133804.csv\n"
     ]
    }
   ],
   "source": [
    "main_art_df = pd.DataFrame()\n",
    "main_reply_df = pd.DataFrame()\n",
    "df_type_lst = ['reply', 'article']\n",
    "#one more loop for df type\n",
    "for df_type in df_type_lst: \n",
    "    for x in range(file_df.shape[0])[::-1]:\n",
    "        ori_f_nm = '_'.join(file_df.loc[x].file_nm.split('_')[:-3])\n",
    "\n",
    "        for file in os.listdir(path):\n",
    "            if ori_f_nm in file:\n",
    "                if df_type in file:\n",
    "                    print(file)\n",
    "                    temp_art_df = pd.read_csv(path + file)\n",
    "\n",
    "                    if main_art_df.empty:\n",
    "                        main_art_df = temp_art_df\n",
    "                    else:\n",
    "                        main_art_df = temp_art_df[~temp_art_df.article_id.isin(main_art_df.article_id)].append(main_art_df)\n",
    "        del temp_art_df\n",
    "        gc.collect()\n",
    "        \n",
    "    dt = pd.to_datetime(main_art_df.date)\n",
    "    output_strt_dt = str(dt.min())[:10]\n",
    "    output_end_dt = str(dt.max())[:10]\n",
    "    #comma has been removed from step1\n",
    "    main_art_df.to_csv(path + '{}_{}_intg_{}_{}.csv'.format(board_nm, df_type, output_strt_dt, output_end_dt), index=False)"
   ]
  },
  {
   "cell_type": "code",
   "execution_count": 32,
   "metadata": {},
   "outputs": [],
   "source": []
  },
  {
   "cell_type": "code",
   "execution_count": 33,
   "metadata": {},
   "outputs": [],
   "source": []
  },
  {
   "cell_type": "code",
   "execution_count": null,
   "metadata": {
    "collapsed": true
   },
   "outputs": [],
   "source": [
    "#once one type\n",
    "#elif 'reply' in file:\n",
    "#    print(file)\n",
    "#    temp_reply_df = pd.read_csv(path + file)\n",
    "#    \n",
    "#    if main_reply_df.empty:\n",
    "#        main_reply_df = temp_reply_df\n",
    "#    else:\n",
    "#        main_reply_df = temp_reply_df[~temp_reply_df.article_id.isin(main_reply_df.article_id)].append(main_reply_df)"
   ]
  },
  {
   "cell_type": "code",
   "execution_count": null,
   "metadata": {
    "collapsed": true
   },
   "outputs": [],
   "source": [
    "#df_1['rnk'] = 'df_1'\n",
    "#df_2['rnk'] = 'df_2'\n",
    "#art_df = df_1[~df_1.article_id.isin(df_2.article_id)].append(df_2)"
   ]
  }
 ],
 "metadata": {
  "kernelspec": {
   "display_name": "Python 3",
   "language": "python",
   "name": "python3"
  },
  "language_info": {
   "codemirror_mode": {
    "name": "ipython",
    "version": 3
   },
   "file_extension": ".py",
   "mimetype": "text/x-python",
   "name": "python",
   "nbconvert_exporter": "python",
   "pygments_lexer": "ipython3",
   "version": "3.6.3"
  }
 },
 "nbformat": 4,
 "nbformat_minor": 2
}
