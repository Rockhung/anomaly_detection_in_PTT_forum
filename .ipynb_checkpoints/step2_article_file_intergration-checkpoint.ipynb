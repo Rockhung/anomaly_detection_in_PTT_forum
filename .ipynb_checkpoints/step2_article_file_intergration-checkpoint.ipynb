{
 "cells": [
  {
   "cell_type": "code",
   "execution_count": 90,
   "metadata": {
    "collapsed": true
   },
   "outputs": [],
   "source": [
    "import pandas as pd\n",
    "import os\n",
    "import gc"
   ]
  },
  {
   "cell_type": "code",
   "execution_count": 9,
   "metadata": {
    "collapsed": true
   },
   "outputs": [],
   "source": [
    "path = r'G:\\py_workspace\\20191103_ptt_public_opinion\\data\\verified-source\\data\\\\'"
   ]
  },
  {
   "cell_type": "code",
   "execution_count": 96,
   "metadata": {},
   "outputs": [],
   "source": [
    "def article_dt_rng_check(art_df):\n",
    "    dt = art_df.date.str[:10]\n",
    "    rs = dt.groupby(dt).count()\n",
    "    #avoid backup articles & sys err's future time\n",
    "    fil_rs = rs[rs > (rs.mean()/5)].sort_index()\n",
    "    strt_dt = fil_rs.index[0]\n",
    "    end_dt = fil_rs.index[-1]\n",
    "    return [strt_dt, end_dt]"
   ]
  },
  {
   "cell_type": "code",
   "execution_count": 102,
   "metadata": {},
   "outputs": [
    {
     "name": "stdout",
     "output_type": "stream",
     "text": [
      "Gossiping-28800-29600_0818_article_20200105_133804.csv\n",
      "Gossiping-33000-38000_0809_article_20200105_133804.csv\n",
      "Gossiping-33750-35750_1017_article_20200105_133804.csv\n",
      "Gossiping-35600-39291_1109_article_20200105_133804.csv\n",
      "Gossiping-35650-37650_1016_article_20200105_133804.csv\n",
      "Gossiping-36000-39043_0814_article_20200105_133804.csv\n",
      "Gossiping-37000-39098_201912_article_20200105_133804.csv\n",
      "Gossiping-37500-39075_1119_article_20200105_133804.csv\n",
      "Gossiping-37600-39086_1015_article_20200105_133804.csv\n",
      "Gossiping-37700-39294_1207_article_20200105_133804.csv\n",
      "Gossiping-38000-39223_0808_article_20200105_133804.csv\n"
     ]
    },
    {
     "data": {
      "text/plain": [
       "190"
      ]
     },
     "execution_count": 102,
     "metadata": {},
     "output_type": "execute_result"
    }
   ],
   "source": [
    "board_nm = 'Gossiping'\n",
    "file_lst = []\n",
    "\n",
    "for x in os.listdir(path):\n",
    "    if 'article' in x and board_nm in x:\n",
    "        print(x)\n",
    "        df = pd.read_csv(path + x)\n",
    "        strt_dt, end_dt = article_dt_rng_check(df)\n",
    "        file_lst.append([x, strt_dt, end_dt])\n",
    "        file_df = pd.DataFrame(file_lst, columns=['file_nm', 'strt_dt', 'end_dt']).sort_values('strt_dt')\n",
    "\n",
    "gc.collect()"
   ]
  },
  {
   "cell_type": "code",
   "execution_count": 103,
   "metadata": {},
   "outputs": [
    {
     "data": {
      "text/html": [
       "<div>\n",
       "<style scoped>\n",
       "    .dataframe tbody tr th:only-of-type {\n",
       "        vertical-align: middle;\n",
       "    }\n",
       "\n",
       "    .dataframe tbody tr th {\n",
       "        vertical-align: top;\n",
       "    }\n",
       "\n",
       "    .dataframe thead th {\n",
       "        text-align: right;\n",
       "    }\n",
       "</style>\n",
       "<table border=\"1\" class=\"dataframe\">\n",
       "  <thead>\n",
       "    <tr style=\"text-align: right;\">\n",
       "      <th></th>\n",
       "      <th>file_nm</th>\n",
       "      <th>strt_dt</th>\n",
       "      <th>end_dt</th>\n",
       "    </tr>\n",
       "  </thead>\n",
       "  <tbody>\n",
       "    <tr>\n",
       "      <th>1</th>\n",
       "      <td>Gossiping-33000-38000_0809_article_20200105_13...</td>\n",
       "      <td>2019-06-13</td>\n",
       "      <td>2019-07-26</td>\n",
       "    </tr>\n",
       "    <tr>\n",
       "      <th>5</th>\n",
       "      <td>Gossiping-36000-39043_0814_article_20200105_13...</td>\n",
       "      <td>2019-07-15</td>\n",
       "      <td>2019-08-12</td>\n",
       "    </tr>\n",
       "    <tr>\n",
       "      <th>10</th>\n",
       "      <td>Gossiping-38000-39223_0808_article_20200105_13...</td>\n",
       "      <td>2019-07-27</td>\n",
       "      <td>2019-08-07</td>\n",
       "    </tr>\n",
       "    <tr>\n",
       "      <th>0</th>\n",
       "      <td>Gossiping-28800-29600_0818_article_20200105_13...</td>\n",
       "      <td>2019-08-11</td>\n",
       "      <td>2019-08-19</td>\n",
       "    </tr>\n",
       "    <tr>\n",
       "      <th>2</th>\n",
       "      <td>Gossiping-33750-35750_1017_article_20200105_13...</td>\n",
       "      <td>2019-08-18</td>\n",
       "      <td>2019-09-08</td>\n",
       "    </tr>\n",
       "    <tr>\n",
       "      <th>4</th>\n",
       "      <td>Gossiping-35650-37650_1016_article_20200105_13...</td>\n",
       "      <td>2019-09-08</td>\n",
       "      <td>2019-09-29</td>\n",
       "    </tr>\n",
       "    <tr>\n",
       "      <th>3</th>\n",
       "      <td>Gossiping-35600-39291_1109_article_20200105_13...</td>\n",
       "      <td>2019-09-26</td>\n",
       "      <td>2019-11-08</td>\n",
       "    </tr>\n",
       "    <tr>\n",
       "      <th>8</th>\n",
       "      <td>Gossiping-37600-39086_1015_article_20200105_13...</td>\n",
       "      <td>2019-09-29</td>\n",
       "      <td>2019-10-15</td>\n",
       "    </tr>\n",
       "    <tr>\n",
       "      <th>7</th>\n",
       "      <td>Gossiping-37500-39075_1119_article_20200105_13...</td>\n",
       "      <td>2019-10-30</td>\n",
       "      <td>2019-11-19</td>\n",
       "    </tr>\n",
       "    <tr>\n",
       "      <th>9</th>\n",
       "      <td>Gossiping-37700-39294_1207_article_20200105_13...</td>\n",
       "      <td>2019-11-16</td>\n",
       "      <td>2019-12-07</td>\n",
       "    </tr>\n",
       "    <tr>\n",
       "      <th>6</th>\n",
       "      <td>Gossiping-37000-39098_201912_article_20200105_...</td>\n",
       "      <td>2019-11-30</td>\n",
       "      <td>2020-01-03</td>\n",
       "    </tr>\n",
       "  </tbody>\n",
       "</table>\n",
       "</div>"
      ],
      "text/plain": [
       "                                              file_nm     strt_dt      end_dt\n",
       "1   Gossiping-33000-38000_0809_article_20200105_13...  2019-06-13  2019-07-26\n",
       "5   Gossiping-36000-39043_0814_article_20200105_13...  2019-07-15  2019-08-12\n",
       "10  Gossiping-38000-39223_0808_article_20200105_13...  2019-07-27  2019-08-07\n",
       "0   Gossiping-28800-29600_0818_article_20200105_13...  2019-08-11  2019-08-19\n",
       "2   Gossiping-33750-35750_1017_article_20200105_13...  2019-08-18  2019-09-08\n",
       "4   Gossiping-35650-37650_1016_article_20200105_13...  2019-09-08  2019-09-29\n",
       "3   Gossiping-35600-39291_1109_article_20200105_13...  2019-09-26  2019-11-08\n",
       "8   Gossiping-37600-39086_1015_article_20200105_13...  2019-09-29  2019-10-15\n",
       "7   Gossiping-37500-39075_1119_article_20200105_13...  2019-10-30  2019-11-19\n",
       "9   Gossiping-37700-39294_1207_article_20200105_13...  2019-11-16  2019-12-07\n",
       "6   Gossiping-37000-39098_201912_article_20200105_...  2019-11-30  2020-01-03"
      ]
     },
     "execution_count": 103,
     "metadata": {},
     "output_type": "execute_result"
    }
   ],
   "source": [
    "file_df"
   ]
  },
  {
   "cell_type": "code",
   "execution_count": null,
   "metadata": {
    "collapsed": true
   },
   "outputs": [],
   "source": []
  }
 ],
 "metadata": {
  "kernelspec": {
   "display_name": "Python 3",
   "language": "python",
   "name": "python3"
  },
  "language_info": {
   "codemirror_mode": {
    "name": "ipython",
    "version": 3
   },
   "file_extension": ".py",
   "mimetype": "text/x-python",
   "name": "python",
   "nbconvert_exporter": "python",
   "pygments_lexer": "ipython3",
   "version": "3.6.3"
  }
 },
 "nbformat": 4,
 "nbformat_minor": 2
}
