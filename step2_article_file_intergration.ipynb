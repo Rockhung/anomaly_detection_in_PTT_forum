{
 "cells": [
  {
   "cell_type": "code",
   "execution_count": 90,
   "metadata": {
    "collapsed": true
   },
   "outputs": [],
   "source": [
    "import pandas as pd\n",
    "import os\n",
    "import gc"
   ]
  },
  {
   "cell_type": "code",
   "execution_count": 9,
   "metadata": {
    "collapsed": true
   },
   "outputs": [],
   "source": [
    "path = r'G:\\py_workspace\\20191103_ptt_public_opinion\\data\\verified-source\\data\\\\'"
   ]
  },
  {
   "cell_type": "code",
   "execution_count": 96,
   "metadata": {},
   "outputs": [],
   "source": [
    "def article_dt_rng_check(art_df):\n",
    "    dt = art_df.date.str[:10]\n",
    "    rs = dt.groupby(dt).count()\n",
    "    #avoid backup articles & sys err's future time\n",
    "    fil_rs = rs[rs > (rs.mean()/5)].sort_index()\n",
    "    strt_dt = fil_rs.index[0]\n",
    "    end_dt = fil_rs.index[-1]\n",
    "    return [strt_dt, end_dt]"
   ]
  },
  {
   "cell_type": "code",
   "execution_count": 102,
   "metadata": {},
   "outputs": [
    {
     "name": "stdout",
     "output_type": "stream",
     "text": [
      "Gossiping-28800-29600_0818_article_20200105_133804.csv\n",
      "Gossiping-33000-38000_0809_article_20200105_133804.csv\n",
      "Gossiping-33750-35750_1017_article_20200105_133804.csv\n",
      "Gossiping-35600-39291_1109_article_20200105_133804.csv\n",
      "Gossiping-35650-37650_1016_article_20200105_133804.csv\n",
      "Gossiping-36000-39043_0814_article_20200105_133804.csv\n",
      "Gossiping-37000-39098_201912_article_20200105_133804.csv\n",
      "Gossiping-37500-39075_1119_article_20200105_133804.csv\n",
      "Gossiping-37600-39086_1015_article_20200105_133804.csv\n",
      "Gossiping-37700-39294_1207_article_20200105_133804.csv\n",
      "Gossiping-38000-39223_0808_article_20200105_133804.csv\n"
     ]
    },
    {
     "data": {
      "text/plain": [
       "190"
      ]
     },
     "execution_count": 102,
     "metadata": {},
     "output_type": "execute_result"
    }
   ],
   "source": [
    "board_nm = 'Gossiping'\n",
    "file_lst = []\n",
    "\n",
    "for x in os.listdir(path):\n",
    "    if 'article' in x and board_nm in x:\n",
    "        print(x)\n",
    "        df = pd.read_csv(path + x)\n",
    "        strt_dt, end_dt = article_dt_rng_check(df)\n",
    "        file_lst.append([x, strt_dt, end_dt])\n",
    "        file_df = pd.DataFrame(file_lst, columns=['file_nm', 'strt_dt', 'end_dt']).sort_values('strt_dt')\n",
    "\n",
    "gc.collect()"
   ]
  },
  {
   "cell_type": "code",
   "execution_count": 105,
   "metadata": {},
   "outputs": [
    {
     "data": {
      "text/plain": [
       "['Gossiping-33000-38000_0809_article_20200105_133804.csv',\n",
       " 'Gossiping-36000-39043_0814_article_20200105_133804.csv',\n",
       " 'Gossiping-38000-39223_0808_article_20200105_133804.csv',\n",
       " 'Gossiping-28800-29600_0818_article_20200105_133804.csv',\n",
       " 'Gossiping-33750-35750_1017_article_20200105_133804.csv',\n",
       " 'Gossiping-35650-37650_1016_article_20200105_133804.csv',\n",
       " 'Gossiping-35600-39291_1109_article_20200105_133804.csv',\n",
       " 'Gossiping-37600-39086_1015_article_20200105_133804.csv',\n",
       " 'Gossiping-37500-39075_1119_article_20200105_133804.csv',\n",
       " 'Gossiping-37700-39294_1207_article_20200105_133804.csv',\n",
       " 'Gossiping-37000-39098_201912_article_20200105_133804.csv']"
      ]
     },
     "execution_count": 105,
     "metadata": {},
     "output_type": "execute_result"
    }
   ],
   "source": [
    "[x for x in file_df.file_nm]"
   ]
  },
  {
   "cell_type": "code",
   "execution_count": null,
   "metadata": {
    "collapsed": true
   },
   "outputs": [],
   "source": []
  }
 ],
 "metadata": {
  "kernelspec": {
   "display_name": "Python 3",
   "language": "python",
   "name": "python3"
  },
  "language_info": {
   "codemirror_mode": {
    "name": "ipython",
    "version": 3
   },
   "file_extension": ".py",
   "mimetype": "text/x-python",
   "name": "python",
   "nbconvert_exporter": "python",
   "pygments_lexer": "ipython3",
   "version": "3.6.3"
  }
 },
 "nbformat": 4,
 "nbformat_minor": 2
}
